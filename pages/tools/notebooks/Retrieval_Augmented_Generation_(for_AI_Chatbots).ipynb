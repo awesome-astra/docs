{
 "cells": [
  {
   "cell_type": "markdown",
   "metadata": {
    "id": "G7k44CpJhHV2"
   },
   "source": [
    "<a href=\"https://colab.research.google.com/github/awesome-astra/docs/blob/main/docs/pages/tools/notebooks/Retrieval_Augmented_Generation_(for_AI_Chatbots).ipynb\" target=\"_parent\"><img src=\"https://colab.research.google.com/assets/colab-badge.svg\" alt=\"Open In Colab\"/></a>"
   ]
  },
  {
   "cell_type": "markdown",
   "metadata": {
    "id": "N-am0WPgOf93"
   },
   "source": [
    "# **Getting Started with this notebook**\n",
    "\n",
    "[Create a serverless database with Astra Vector Search and set up its schema.](https://docs.datastax.com/en/astra-serverless/docs/vector-search/chatbot-quickstart.html)\n"
   ]
  },
  {
   "cell_type": "markdown",
   "metadata": {
    "id": "Vn65Hjm7OqlJ"
   },
   "source": [
    "# **Install libraries**"
   ]
  },
  {
   "cell_type": "code",
   "execution_count": null,
   "metadata": {
    "colab": {
     "base_uri": "https://localhost:8080/"
    },
    "id": "YE91v1D3OzUQ",
    "outputId": "4c4581d2-b27f-4a21-b520-45c074b1b9c4"
   },
   "outputs": [],
   "source": [
    "!pip install openai pandas jupyter-datatables cassandra-driver datasets"
   ]
  },
  {
   "cell_type": "markdown",
   "metadata": {
    "id": "2j2N9PN_O8fi"
   },
   "source": [
    "# **Import Modules**"
   ]
  },
  {
   "cell_type": "code",
   "execution_count": null,
   "metadata": {
    "id": "OMsIAjChO-6u"
   },
   "outputs": [],
   "source": [
    "from cassandra.cluster import Cluster\n",
    "from cassandra.auth import PlainTextAuthProvider\n",
    "from cassandra.query import dict_factory\n",
    "from cassandra.query import SimpleStatement\n",
    "import openai\n",
    "import numpy\n",
    "import pandas as pd\n",
    "import time\n",
    "from getpass import getpass"
   ]
  },
  {
   "cell_type": "markdown",
   "metadata": {
    "id": "uZvcbIhQNwTv"
   },
   "source": [
    "# **Keys & Environment Variables**"
   ]
  },
  {
   "cell_type": "code",
   "execution_count": null,
   "metadata": {
    "colab": {
     "base_uri": "https://localhost:8080/"
    },
    "id": "2x19m0D9eaRx",
    "outputId": "02e3245f-ca9c-46db-e8b6-23ee1a9294c6"
   },
   "outputs": [],
   "source": [
    "# Input your Astra DB token string, the one starting with \"AstraCS:...\"\n",
    "ASTRA_DB_TOKEN_BASED_PASSWORD = getpass('Your Astra DB Token (\"AstraCS:...\"): ')"
   ]
  },
  {
   "cell_type": "code",
   "execution_count": null,
   "metadata": {
    "colab": {
     "base_uri": "https://localhost:8080/"
    },
    "id": "W22M2ddQe4Co",
    "outputId": "a6e3314d-71a1-43a4-b3bf-80d72cdc96e2"
   },
   "outputs": [
    {
     "name": "stdout",
     "output_type": "stream",
     "text": [
      "Enter your OpenAI API key: ··········\n"
     ]
    }
   ],
   "source": [
    "# Input your OpenAI api key\n",
    "openai_api_key = getpass('Enter your OpenAI API key: ')"
   ]
  },
  {
   "cell_type": "code",
   "execution_count": null,
   "metadata": {},
   "outputs": [],
   "source": [
    "# Input your database keyspace name:\n",
    "my_ks = input('Your Astra Keyspace name: ')"
   ]
  },
  {
   "cell_type": "code",
   "execution_count": null,
   "metadata": {
    "id": "3EdwW3y_NQI7"
   },
   "outputs": [],
   "source": [
    "# keys and tokens here\n",
    "openai.api_key = openai_api_key\n",
    "cass_user = 'token'\n",
    "cass_pw = ASTRA_DB_TOKEN_BASED_PASSWORD"
   ]
  },
  {
   "cell_type": "code",
   "execution_count": null,
   "metadata": {
    "colab": {
     "base_uri": "https://localhost:8080/",
     "height": 90
    },
    "id": "7gBOYyVoeZ6q",
    "outputId": "bcc9ebfe-ee53-4971-fa89-0a9009a5787e"
   },
   "outputs": [
    {
     "name": "stdout",
     "output_type": "stream",
     "text": [
      "Please upload your Secure Connect Bundle\n"
     ]
    },
    {
     "data": {
      "text/html": [
       "\n",
       "     <input type=\"file\" id=\"files-2354b44d-bb1b-4aca-b451-1b09a58dfe85\" name=\"files[]\" multiple disabled\n",
       "        style=\"border:none\" />\n",
       "     <output id=\"result-2354b44d-bb1b-4aca-b451-1b09a58dfe85\">\n",
       "      Upload widget is only available when the cell has been executed in the\n",
       "      current browser session. Please rerun this cell to enable.\n",
       "      </output>\n",
       "      <script>// Copyright 2017 Google LLC\n",
       "//\n",
       "// Licensed under the Apache License, Version 2.0 (the \"License\");\n",
       "// you may not use this file except in compliance with the License.\n",
       "// You may obtain a copy of the License at\n",
       "//\n",
       "//      http://www.apache.org/licenses/LICENSE-2.0\n",
       "//\n",
       "// Unless required by applicable law or agreed to in writing, software\n",
       "// distributed under the License is distributed on an \"AS IS\" BASIS,\n",
       "// WITHOUT WARRANTIES OR CONDITIONS OF ANY KIND, either express or implied.\n",
       "// See the License for the specific language governing permissions and\n",
       "// limitations under the License.\n",
       "\n",
       "/**\n",
       " * @fileoverview Helpers for google.colab Python module.\n",
       " */\n",
       "(function(scope) {\n",
       "function span(text, styleAttributes = {}) {\n",
       "  const element = document.createElement('span');\n",
       "  element.textContent = text;\n",
       "  for (const key of Object.keys(styleAttributes)) {\n",
       "    element.style[key] = styleAttributes[key];\n",
       "  }\n",
       "  return element;\n",
       "}\n",
       "\n",
       "// Max number of bytes which will be uploaded at a time.\n",
       "const MAX_PAYLOAD_SIZE = 100 * 1024;\n",
       "\n",
       "function _uploadFiles(inputId, outputId) {\n",
       "  const steps = uploadFilesStep(inputId, outputId);\n",
       "  const outputElement = document.getElementById(outputId);\n",
       "  // Cache steps on the outputElement to make it available for the next call\n",
       "  // to uploadFilesContinue from Python.\n",
       "  outputElement.steps = steps;\n",
       "\n",
       "  return _uploadFilesContinue(outputId);\n",
       "}\n",
       "\n",
       "// This is roughly an async generator (not supported in the browser yet),\n",
       "// where there are multiple asynchronous steps and the Python side is going\n",
       "// to poll for completion of each step.\n",
       "// This uses a Promise to block the python side on completion of each step,\n",
       "// then passes the result of the previous step as the input to the next step.\n",
       "function _uploadFilesContinue(outputId) {\n",
       "  const outputElement = document.getElementById(outputId);\n",
       "  const steps = outputElement.steps;\n",
       "\n",
       "  const next = steps.next(outputElement.lastPromiseValue);\n",
       "  return Promise.resolve(next.value.promise).then((value) => {\n",
       "    // Cache the last promise value to make it available to the next\n",
       "    // step of the generator.\n",
       "    outputElement.lastPromiseValue = value;\n",
       "    return next.value.response;\n",
       "  });\n",
       "}\n",
       "\n",
       "/**\n",
       " * Generator function which is called between each async step of the upload\n",
       " * process.\n",
       " * @param {string} inputId Element ID of the input file picker element.\n",
       " * @param {string} outputId Element ID of the output display.\n",
       " * @return {!Iterable<!Object>} Iterable of next steps.\n",
       " */\n",
       "function* uploadFilesStep(inputId, outputId) {\n",
       "  const inputElement = document.getElementById(inputId);\n",
       "  inputElement.disabled = false;\n",
       "\n",
       "  const outputElement = document.getElementById(outputId);\n",
       "  outputElement.innerHTML = '';\n",
       "\n",
       "  const pickedPromise = new Promise((resolve) => {\n",
       "    inputElement.addEventListener('change', (e) => {\n",
       "      resolve(e.target.files);\n",
       "    });\n",
       "  });\n",
       "\n",
       "  const cancel = document.createElement('button');\n",
       "  inputElement.parentElement.appendChild(cancel);\n",
       "  cancel.textContent = 'Cancel upload';\n",
       "  const cancelPromise = new Promise((resolve) => {\n",
       "    cancel.onclick = () => {\n",
       "      resolve(null);\n",
       "    };\n",
       "  });\n",
       "\n",
       "  // Wait for the user to pick the files.\n",
       "  const files = yield {\n",
       "    promise: Promise.race([pickedPromise, cancelPromise]),\n",
       "    response: {\n",
       "      action: 'starting',\n",
       "    }\n",
       "  };\n",
       "\n",
       "  cancel.remove();\n",
       "\n",
       "  // Disable the input element since further picks are not allowed.\n",
       "  inputElement.disabled = true;\n",
       "\n",
       "  if (!files) {\n",
       "    return {\n",
       "      response: {\n",
       "        action: 'complete',\n",
       "      }\n",
       "    };\n",
       "  }\n",
       "\n",
       "  for (const file of files) {\n",
       "    const li = document.createElement('li');\n",
       "    li.append(span(file.name, {fontWeight: 'bold'}));\n",
       "    li.append(span(\n",
       "        `(${file.type || 'n/a'}) - ${file.size} bytes, ` +\n",
       "        `last modified: ${\n",
       "            file.lastModifiedDate ? file.lastModifiedDate.toLocaleDateString() :\n",
       "                                    'n/a'} - `));\n",
       "    const percent = span('0% done');\n",
       "    li.appendChild(percent);\n",
       "\n",
       "    outputElement.appendChild(li);\n",
       "\n",
       "    const fileDataPromise = new Promise((resolve) => {\n",
       "      const reader = new FileReader();\n",
       "      reader.onload = (e) => {\n",
       "        resolve(e.target.result);\n",
       "      };\n",
       "      reader.readAsArrayBuffer(file);\n",
       "    });\n",
       "    // Wait for the data to be ready.\n",
       "    let fileData = yield {\n",
       "      promise: fileDataPromise,\n",
       "      response: {\n",
       "        action: 'continue',\n",
       "      }\n",
       "    };\n",
       "\n",
       "    // Use a chunked sending to avoid message size limits. See b/62115660.\n",
       "    let position = 0;\n",
       "    do {\n",
       "      const length = Math.min(fileData.byteLength - position, MAX_PAYLOAD_SIZE);\n",
       "      const chunk = new Uint8Array(fileData, position, length);\n",
       "      position += length;\n",
       "\n",
       "      const base64 = btoa(String.fromCharCode.apply(null, chunk));\n",
       "      yield {\n",
       "        response: {\n",
       "          action: 'append',\n",
       "          file: file.name,\n",
       "          data: base64,\n",
       "        },\n",
       "      };\n",
       "\n",
       "      let percentDone = fileData.byteLength === 0 ?\n",
       "          100 :\n",
       "          Math.round((position / fileData.byteLength) * 100);\n",
       "      percent.textContent = `${percentDone}% done`;\n",
       "\n",
       "    } while (position < fileData.byteLength);\n",
       "  }\n",
       "\n",
       "  // All done.\n",
       "  yield {\n",
       "    response: {\n",
       "      action: 'complete',\n",
       "    }\n",
       "  };\n",
       "}\n",
       "\n",
       "scope.google = scope.google || {};\n",
       "scope.google.colab = scope.google.colab || {};\n",
       "scope.google.colab._files = {\n",
       "  _uploadFiles,\n",
       "  _uploadFilesContinue,\n",
       "};\n",
       "})(self);\n",
       "</script> "
      ],
      "text/plain": [
       "<IPython.core.display.HTML object>"
      ]
     },
     "metadata": {},
     "output_type": "display_data"
    },
    {
     "name": "stdout",
     "output_type": "stream",
     "text": [
      "Saving secure-connect-vector-search-db.zip to secure-connect-vector-search-db.zip\n"
     ]
    }
   ],
   "source": [
    "# Upload your Secure Connect Bundle zipfile:\n",
    "import os\n",
    "from google.colab import files\n",
    "\n",
    "\n",
    "print('Please upload your Secure Connect Bundle')\n",
    "uploaded = files.upload()\n",
    "if uploaded:\n",
    "    astraBundleFileTitle = list(uploaded.keys())[0]\n",
    "    scb_path = os.path.join(os.getcwd(), astraBundleFileTitle)\n",
    "else:\n",
    "    raise ValueError(\n",
    "        'Cannot proceed without Secure Connect Bundle. Please re-run the cell.'\n",
    "    )"
   ]
  },
  {
   "cell_type": "markdown",
   "metadata": {
    "id": "-l-O1f6B57jC"
   },
   "source": [
    "# **Select a model to compute embeddings**"
   ]
  },
  {
   "cell_type": "code",
   "execution_count": null,
   "metadata": {
    "id": "nMN_pe1356RA"
   },
   "outputs": [],
   "source": [
    "model_id = \"text-embedding-ada-002\""
   ]
  },
  {
   "cell_type": "markdown",
   "metadata": {
    "id": "CdhiXOhBPhDS"
   },
   "source": [
    "# **Connect to Astra with Vector Search**"
   ]
  },
  {
   "cell_type": "code",
   "execution_count": null,
   "metadata": {
    "colab": {
     "base_uri": "https://localhost:8080/"
    },
    "id": "8c1KHF9LPoQe",
    "outputId": "fd1f5e13-5ec3-48cc-fdda-21559b32ab2d"
   },
   "outputs": [
    {
     "data": {
      "text/plain": [
       "<cassandra.cluster.Session at 0x7f4b18831300>"
      ]
     },
     "execution_count": 8,
     "metadata": {},
     "output_type": "execute_result"
    }
   ],
   "source": [
    "cloud_config= {\n",
    "  'secure_connect_bundle': scb_path\n",
    "}\n",
    "auth_provider = PlainTextAuthProvider(cass_user, cass_pw)\n",
    "cluster = Cluster(cloud=cloud_config, auth_provider=auth_provider, protocol_version=4)\n",
    "session = cluster.connect()\n",
    "session.set_keyspace(my_ks)\n",
    "session"
   ]
  },
  {
   "cell_type": "markdown",
   "metadata": {
    "id": "KN7rECxcPuOJ"
   },
   "source": [
    "# **Drop / Create Schema**"
   ]
  },
  {
   "cell_type": "code",
   "execution_count": null,
   "metadata": {
    "colab": {
     "base_uri": "https://localhost:8080/"
    },
    "id": "Vbqig3sYP3FT",
    "outputId": "8d7c3254-c2af-4519-ae3a-78b586722698"
   },
   "outputs": [
    {
     "data": {
      "text/plain": [
       "<cassandra.cluster.ResultSet at 0x7f4b50e42f80>"
      ]
     },
     "execution_count": 9,
     "metadata": {},
     "output_type": "execute_result"
    }
   ],
   "source": [
    "# only use this to reset the schema\n",
    "session.execute(f\"\"\"DROP INDEX IF EXISTS title_context_desc\"\"\")\n",
    "session.execute(f\"\"\"DROP TABLE IF EXISTS squad\"\"\")"
   ]
  },
  {
   "cell_type": "code",
   "execution_count": null,
   "metadata": {
    "colab": {
     "base_uri": "https://localhost:8080/"
    },
    "id": "hSJ_amZnP7Me",
    "outputId": "e08c445b-b514-439a-8a56-ee55b539abdc"
   },
   "outputs": [
    {
     "data": {
      "text/plain": [
       "<cassandra.cluster.ResultSet at 0x7f4b51b80400>"
      ]
     },
     "execution_count": 10,
     "metadata": {},
     "output_type": "execute_result"
    }
   ],
   "source": [
    "# # Create Table\n",
    "session.execute(f\"\"\"CREATE TABLE IF NOT EXISTS squad\n",
    "(id text,\n",
    " title text,\n",
    " context text,\n",
    " question text,\n",
    " answers map<text,text>,\n",
    " title_context_embedding vector<float, 1536>,\n",
    " PRIMARY KEY (id,title))\"\"\")\n",
    "\n",
    "# # Create Index\n",
    "session.execute(\"\"\"\n",
    "    CREATE CUSTOM INDEX IF NOT EXISTS title_context_desc \n",
    "    ON squad (title_context_embedding) \n",
    "    USING 'org.apache.cassandra.index.sai.StorageAttachedIndex'\n",
    "    WITH OPTIONS = {'similarity_function' : 'dot_product'}\n",
    "\"\"\")\n"
   ]
  },
  {
   "cell_type": "markdown",
   "metadata": {
    "id": "S9yO0OhMT-0J"
   },
   "source": [
    "# **Building the Knowledge Base**\n",
    "\n",
    "We start by constructing our knowledge base. We'll use a mostly prepared dataset called Stanford Question-Answering Dataset (SQuAD) hosted on Hugging Face Datasets. We download it like so:"
   ]
  },
  {
   "cell_type": "code",
   "execution_count": null,
   "metadata": {
    "colab": {
     "base_uri": "https://localhost:8080/",
     "height": 365,
     "referenced_widgets": [
      "c18aa8f12a14484c860b5390d8913f15",
      "5ade2fce595749c5bd3bce75d14729e3",
      "ece00ca43e3d41dab3a76bf712484464",
      "7bb2bf25d2ec4d8b9bf19a5ff8f0c3fd",
      "5705d2cfbdcc469eb9cd489e1b85cd65",
      "dcfb7314aae74bb8a2522271c8676d54",
      "64d3a34379184082b2d0d878dc66c406",
      "77cb6788ea7b48749efc03ceac8012e4",
      "373c800cb7d04c809fb6ccb4a62bf136",
      "6d25eb6fd25b4cb6bbc976fca9cd1ac2",
      "f2aff0ce571b47fa86cb83b5d2782663",
      "3736d3e9aeb348d692582e829d544ac3",
      "3e7a9cb0156940d7a1433736d6f0fc44",
      "3d446b2d24434bb08e74c1aa68053e0c",
      "3eaec0f6f346407a9b815497b9c2960a",
      "a96f613dbbc44d2098594996cddfbcd5",
      "b581b3c5ea1543e4a4b602d5c23641b4",
      "975f896bda8c4500b1512b6d51d58b89",
      "6ec61bfc93174001abf6f82285a04764",
      "496e102fcb03494ca64b665f39ba7b7b",
      "bcf07c2dd1874dfe87da6f05fb3cfe9e",
      "b5d4154dd21d44b98be6fa80d4cce1a0",
      "75437ce9ad0c484cb552956c4f272e6b",
      "8bf9144504854fe0b77e2ffdc9373f0d",
      "c5c46f10bc99481b9f9fbce1fb850f2f",
      "431f193e056f46498d50a9e87f618b1b",
      "571a5834852b4a968ed660912040f24d",
      "fd032114b1c44e49bacf9740d587b62a",
      "08e578822a94460fb81f339ef9212ffa",
      "a57d2270ba074691af1c305d3f298eb1",
      "ff54fc4bcf5745be936ca3ed2d6f3b02",
      "68257813a5c74de195887e7cc574a5bf",
      "a550b3cb34074ea7b25c21e5324a2bf8",
      "195b98d6ba0746e3b2eda7fdf02361b3",
      "dfa53507de114dc49c005ea1be627cdb",
      "c944d67837934d8b84961b5488a13af3",
      "3fdb6ef1a19640ad92b5785024d376ea",
      "76a61358ec3846508421a2f3f01477ca",
      "b47f1a4fc44342558aa8bfb494544a5a",
      "bf52da97978b44b8ae9c360c45453f05",
      "db1430405e754bec88ed98ae0054ff74",
      "af78682e5a9a489fbca859906d6048be",
      "e6781f78709d4e699aabcf3a4278761d",
      "f853ea5678cf4820ac366d3a5689354b",
      "6a3fb05ad441421885c85f832344b9e2",
      "ad1e62ef99e349cca63ae3e5b13b05e6",
      "f2b99e88439e492c9fbb2224aaadcefb",
      "a80901ecfd624502b579b840f1f29ce2",
      "65beeac059664abcbfca4ed096810ef2",
      "5fb8982ba9b841f09c86706896748229",
      "cdb36d90baaa45cbb8d8cfd8fce0aead",
      "dff8dc9111694b2e8672e8640363554a",
      "e08998ac19f04d13ab309c363ed3e501",
      "d49cc706540542b19c763bffb247c9fa",
      "6cc13b37e5984f3e9aa6cf5c64f56fa5",
      "aca16d6be5b24b6d9874adb85d3f0b1f",
      "f999da726cc64ee2ad0c0d1803023155",
      "3dd65fcc82c844cb916568d7af241228",
      "6c3bfa374d824f188b38d734db11b37d",
      "a6a6a94e5a5843d5a013f0175e2f74c6",
      "97a598833e30497da31f366d40684d71",
      "8c50d6c03ffd45e48644bc5e39af1cdd",
      "e48cbef7b50743488e4f44d344229ce6",
      "7733be3500164eac95452cc40ae2720c",
      "afd8b7ac01754a4e8b7c9135dc88c17a",
      "2ae0a8c599f448de8913ea793a7d9207",
      "7a59dd8c0b2e497a90f0423b47391892",
      "3233cf0a24174cfbbdb061a5692a10bd",
      "af7e60c53f84457d9177c750c148f8fc",
      "ced6ec11ab6d471f9c2c2d52e53aaea4",
      "598c498e1cb342109c6350165f25cad8",
      "8df3f0d3076c413bacc6574efbfff7f3",
      "c02b4e5c26c44712878859ae6e45d2b1",
      "ac8fac79b8fd488f93f179e00103a98c",
      "87e03d8905994d5ba7c5365f440f33a4",
      "98462bf49e7a49c8aebfcfae3b0dcf28",
      "e10e9e2aae864a909bedc72bde9432dd",
      "b1722e6484c1404c9bb8d0df6423b0c1",
      "77de4bceb4ed48ec92c9c46304cbba3b",
      "2c1a4962da6a4d568fedc29940af5970",
      "5a725c87060d4cec939ab83c3bfef968",
      "0e36c3a84bd543c9ac24985c51ed8889",
      "8d55f7103986434399885971e7f6c0c9",
      "606b93ad28d34083809eec71c95daa95",
      "19ce8205761944f084ab3954a5ca14d5",
      "65a9675995694888a98f35fd2fa7155c",
      "2708519431f044b69a7da7a04d4088d3",
      "201bb625527d42c9972928140aaff556",
      "f08bd3a847784cbc88109d988020e145",
      "9782dfbc95904b1f900455c2f7d4f771",
      "df0c8257e64e4df29e3914c0729e016d",
      "93d64105f66f43d5af46ccb0ce7174a7",
      "8834b8abc33d48d790df1bb9119cf1ca",
      "88ea99c3202d4d07ac52e4b36c4dbe25",
      "cf6fff1b90c143dabcfca5f45f7612f2",
      "5cba4bec397e404eaafea01a08ef0fc7",
      "8901a08b6b6a45c39d0e426f18a77ef8",
      "5cf7881b925b499690a9c69e3542f83b",
      "6ff0be46299f4649b08704cadf17ed41"
     ]
    },
    "id": "D9144Yk9T_Pv",
    "outputId": "f34a0a31-41b6-4637-f14c-1f07fb820bd7"
   },
   "outputs": [
    {
     "data": {
      "application/vnd.jupyter.widget-view+json": {
       "model_id": "c18aa8f12a14484c860b5390d8913f15",
       "version_major": 2,
       "version_minor": 0
      },
      "text/plain": [
       "Downloading builder script:   0%|          | 0.00/5.27k [00:00<?, ?B/s]"
      ]
     },
     "metadata": {},
     "output_type": "display_data"
    },
    {
     "data": {
      "application/vnd.jupyter.widget-view+json": {
       "model_id": "3736d3e9aeb348d692582e829d544ac3",
       "version_major": 2,
       "version_minor": 0
      },
      "text/plain": [
       "Downloading metadata:   0%|          | 0.00/2.36k [00:00<?, ?B/s]"
      ]
     },
     "metadata": {},
     "output_type": "display_data"
    },
    {
     "data": {
      "application/vnd.jupyter.widget-view+json": {
       "model_id": "75437ce9ad0c484cb552956c4f272e6b",
       "version_major": 2,
       "version_minor": 0
      },
      "text/plain": [
       "Downloading readme:   0%|          | 0.00/7.67k [00:00<?, ?B/s]"
      ]
     },
     "metadata": {},
     "output_type": "display_data"
    },
    {
     "name": "stdout",
     "output_type": "stream",
     "text": [
      "Downloading and preparing dataset squad/plain_text to /root/.cache/huggingface/datasets/squad/plain_text/1.0.0/d6ec3ceb99ca480ce37cdd35555d6cb2511d223b9150cce08a837ef62ffea453...\n"
     ]
    },
    {
     "data": {
      "application/vnd.jupyter.widget-view+json": {
       "model_id": "195b98d6ba0746e3b2eda7fdf02361b3",
       "version_major": 2,
       "version_minor": 0
      },
      "text/plain": [
       "Downloading data files:   0%|          | 0/2 [00:00<?, ?it/s]"
      ]
     },
     "metadata": {},
     "output_type": "display_data"
    },
    {
     "data": {
      "application/vnd.jupyter.widget-view+json": {
       "model_id": "6a3fb05ad441421885c85f832344b9e2",
       "version_major": 2,
       "version_minor": 0
      },
      "text/plain": [
       "Downloading data:   0%|          | 0.00/8.12M [00:00<?, ?B/s]"
      ]
     },
     "metadata": {},
     "output_type": "display_data"
    },
    {
     "data": {
      "application/vnd.jupyter.widget-view+json": {
       "model_id": "aca16d6be5b24b6d9874adb85d3f0b1f",
       "version_major": 2,
       "version_minor": 0
      },
      "text/plain": [
       "Downloading data:   0%|          | 0.00/1.05M [00:00<?, ?B/s]"
      ]
     },
     "metadata": {},
     "output_type": "display_data"
    },
    {
     "data": {
      "application/vnd.jupyter.widget-view+json": {
       "model_id": "7a59dd8c0b2e497a90f0423b47391892",
       "version_major": 2,
       "version_minor": 0
      },
      "text/plain": [
       "Extracting data files:   0%|          | 0/2 [00:00<?, ?it/s]"
      ]
     },
     "metadata": {},
     "output_type": "display_data"
    },
    {
     "data": {
      "application/vnd.jupyter.widget-view+json": {
       "model_id": "b1722e6484c1404c9bb8d0df6423b0c1",
       "version_major": 2,
       "version_minor": 0
      },
      "text/plain": [
       "Generating train split:   0%|          | 0/87599 [00:00<?, ? examples/s]"
      ]
     },
     "metadata": {},
     "output_type": "display_data"
    },
    {
     "data": {
      "application/vnd.jupyter.widget-view+json": {
       "model_id": "f08bd3a847784cbc88109d988020e145",
       "version_major": 2,
       "version_minor": 0
      },
      "text/plain": [
       "Generating validation split:   0%|          | 0/10570 [00:00<?, ? examples/s]"
      ]
     },
     "metadata": {},
     "output_type": "display_data"
    },
    {
     "name": "stdout",
     "output_type": "stream",
     "text": [
      "Dataset squad downloaded and prepared to /root/.cache/huggingface/datasets/squad/plain_text/1.0.0/d6ec3ceb99ca480ce37cdd35555d6cb2511d223b9150cce08a837ef62ffea453. Subsequent calls will reuse this data.\n"
     ]
    },
    {
     "data": {
      "text/plain": [
       "Dataset({\n",
       "    features: ['id', 'title', 'context', 'question', 'answers'],\n",
       "    num_rows: 87599\n",
       "})"
      ]
     },
     "execution_count": 11,
     "metadata": {},
     "output_type": "execute_result"
    }
   ],
   "source": [
    "from datasets import load_dataset\n",
    "\n",
    "data = load_dataset('squad', split='train')\n",
    "data"
   ]
  },
  {
   "cell_type": "markdown",
   "metadata": {
    "id": "YOVOWzJxVDXB"
   },
   "source": [
    "Let's see the 1st 5 records. The dataset does contain duplicate contexts,"
   ]
  },
  {
   "cell_type": "code",
   "execution_count": null,
   "metadata": {
    "colab": {
     "base_uri": "https://localhost:8080/",
     "height": 206
    },
    "id": "qaXw_v1EVB2z",
    "outputId": "9c51e863-3d3c-460e-e235-16784271351e"
   },
   "outputs": [
    {
     "data": {
      "text/html": [
       "\n",
       "\n",
       "  <div id=\"df-2b5d284a-1a4b-43dc-a555-1d9e7f9df412\">\n",
       "    <div class=\"colab-df-container\">\n",
       "      <div>\n",
       "<style scoped>\n",
       "    .dataframe tbody tr th:only-of-type {\n",
       "        vertical-align: middle;\n",
       "    }\n",
       "\n",
       "    .dataframe tbody tr th {\n",
       "        vertical-align: top;\n",
       "    }\n",
       "\n",
       "    .dataframe thead th {\n",
       "        text-align: right;\n",
       "    }\n",
       "</style>\n",
       "<table border=\"1\" class=\"dataframe\">\n",
       "  <thead>\n",
       "    <tr style=\"text-align: right;\">\n",
       "      <th></th>\n",
       "      <th>id</th>\n",
       "      <th>title</th>\n",
       "      <th>context</th>\n",
       "      <th>question</th>\n",
       "      <th>answers</th>\n",
       "    </tr>\n",
       "  </thead>\n",
       "  <tbody>\n",
       "    <tr>\n",
       "      <th>0</th>\n",
       "      <td>5733be284776f41900661182</td>\n",
       "      <td>University_of_Notre_Dame</td>\n",
       "      <td>Architecturally, the school has a Catholic cha...</td>\n",
       "      <td>To whom did the Virgin Mary allegedly appear i...</td>\n",
       "      <td>{'text': ['Saint Bernadette Soubirous'], 'answ...</td>\n",
       "    </tr>\n",
       "    <tr>\n",
       "      <th>1</th>\n",
       "      <td>5733be284776f4190066117f</td>\n",
       "      <td>University_of_Notre_Dame</td>\n",
       "      <td>Architecturally, the school has a Catholic cha...</td>\n",
       "      <td>What is in front of the Notre Dame Main Building?</td>\n",
       "      <td>{'text': ['a copper statue of Christ'], 'answe...</td>\n",
       "    </tr>\n",
       "    <tr>\n",
       "      <th>2</th>\n",
       "      <td>5733be284776f41900661180</td>\n",
       "      <td>University_of_Notre_Dame</td>\n",
       "      <td>Architecturally, the school has a Catholic cha...</td>\n",
       "      <td>The Basilica of the Sacred heart at Notre Dame...</td>\n",
       "      <td>{'text': ['the Main Building'], 'answer_start'...</td>\n",
       "    </tr>\n",
       "    <tr>\n",
       "      <th>3</th>\n",
       "      <td>5733be284776f41900661181</td>\n",
       "      <td>University_of_Notre_Dame</td>\n",
       "      <td>Architecturally, the school has a Catholic cha...</td>\n",
       "      <td>What is the Grotto at Notre Dame?</td>\n",
       "      <td>{'text': ['a Marian place of prayer and reflec...</td>\n",
       "    </tr>\n",
       "    <tr>\n",
       "      <th>4</th>\n",
       "      <td>5733be284776f4190066117e</td>\n",
       "      <td>University_of_Notre_Dame</td>\n",
       "      <td>Architecturally, the school has a Catholic cha...</td>\n",
       "      <td>What sits on top of the Main Building at Notre...</td>\n",
       "      <td>{'text': ['a golden statue of the Virgin Mary'...</td>\n",
       "    </tr>\n",
       "  </tbody>\n",
       "</table>\n",
       "</div>\n",
       "      <button class=\"colab-df-convert\" onclick=\"convertToInteractive('df-2b5d284a-1a4b-43dc-a555-1d9e7f9df412')\"\n",
       "              title=\"Convert this dataframe to an interactive table.\"\n",
       "              style=\"display:none;\">\n",
       "\n",
       "  <svg xmlns=\"http://www.w3.org/2000/svg\" height=\"24px\"viewBox=\"0 0 24 24\"\n",
       "       width=\"24px\">\n",
       "    <path d=\"M0 0h24v24H0V0z\" fill=\"none\"/>\n",
       "    <path d=\"M18.56 5.44l.94 2.06.94-2.06 2.06-.94-2.06-.94-.94-2.06-.94 2.06-2.06.94zm-11 1L8.5 8.5l.94-2.06 2.06-.94-2.06-.94L8.5 2.5l-.94 2.06-2.06.94zm10 10l.94 2.06.94-2.06 2.06-.94-2.06-.94-.94-2.06-.94 2.06-2.06.94z\"/><path d=\"M17.41 7.96l-1.37-1.37c-.4-.4-.92-.59-1.43-.59-.52 0-1.04.2-1.43.59L10.3 9.45l-7.72 7.72c-.78.78-.78 2.05 0 2.83L4 21.41c.39.39.9.59 1.41.59.51 0 1.02-.2 1.41-.59l7.78-7.78 2.81-2.81c.8-.78.8-2.07 0-2.86zM5.41 20L4 18.59l7.72-7.72 1.47 1.35L5.41 20z\"/>\n",
       "  </svg>\n",
       "      </button>\n",
       "\n",
       "\n",
       "\n",
       "    <div id=\"df-f8beb78b-65fd-41b5-bc3d-955e2d7fb12f\">\n",
       "      <button class=\"colab-df-quickchart\" onclick=\"quickchart('df-f8beb78b-65fd-41b5-bc3d-955e2d7fb12f')\"\n",
       "              title=\"Suggest charts.\"\n",
       "              style=\"display:none;\">\n",
       "\n",
       "<svg xmlns=\"http://www.w3.org/2000/svg\" height=\"24px\"viewBox=\"0 0 24 24\"\n",
       "     width=\"24px\">\n",
       "    <g>\n",
       "        <path d=\"M19 3H5c-1.1 0-2 .9-2 2v14c0 1.1.9 2 2 2h14c1.1 0 2-.9 2-2V5c0-1.1-.9-2-2-2zM9 17H7v-7h2v7zm4 0h-2V7h2v10zm4 0h-2v-4h2v4z\"/>\n",
       "    </g>\n",
       "</svg>\n",
       "      </button>\n",
       "    </div>\n",
       "\n",
       "<style>\n",
       "  .colab-df-quickchart {\n",
       "    background-color: #E8F0FE;\n",
       "    border: none;\n",
       "    border-radius: 50%;\n",
       "    cursor: pointer;\n",
       "    display: none;\n",
       "    fill: #1967D2;\n",
       "    height: 32px;\n",
       "    padding: 0 0 0 0;\n",
       "    width: 32px;\n",
       "  }\n",
       "\n",
       "  .colab-df-quickchart:hover {\n",
       "    background-color: #E2EBFA;\n",
       "    box-shadow: 0px 1px 2px rgba(60, 64, 67, 0.3), 0px 1px 3px 1px rgba(60, 64, 67, 0.15);\n",
       "    fill: #174EA6;\n",
       "  }\n",
       "\n",
       "  [theme=dark] .colab-df-quickchart {\n",
       "    background-color: #3B4455;\n",
       "    fill: #D2E3FC;\n",
       "  }\n",
       "\n",
       "  [theme=dark] .colab-df-quickchart:hover {\n",
       "    background-color: #434B5C;\n",
       "    box-shadow: 0px 1px 3px 1px rgba(0, 0, 0, 0.15);\n",
       "    filter: drop-shadow(0px 1px 2px rgba(0, 0, 0, 0.3));\n",
       "    fill: #FFFFFF;\n",
       "  }\n",
       "</style>\n",
       "\n",
       "    <script>\n",
       "      async function quickchart(key) {\n",
       "        const containerElement = document.querySelector('#' + key);\n",
       "        const charts = await google.colab.kernel.invokeFunction(\n",
       "            'suggestCharts', [key], {});\n",
       "      }\n",
       "    </script>\n",
       "\n",
       "      <script>\n",
       "\n",
       "function displayQuickchartButton(domScope) {\n",
       "  let quickchartButtonEl =\n",
       "    domScope.querySelector('#df-f8beb78b-65fd-41b5-bc3d-955e2d7fb12f button.colab-df-quickchart');\n",
       "  quickchartButtonEl.style.display =\n",
       "    google.colab.kernel.accessAllowed ? 'block' : 'none';\n",
       "}\n",
       "\n",
       "        displayQuickchartButton(document);\n",
       "      </script>\n",
       "      <style>\n",
       "    .colab-df-container {\n",
       "      display:flex;\n",
       "      flex-wrap:wrap;\n",
       "      gap: 12px;\n",
       "    }\n",
       "\n",
       "    .colab-df-convert {\n",
       "      background-color: #E8F0FE;\n",
       "      border: none;\n",
       "      border-radius: 50%;\n",
       "      cursor: pointer;\n",
       "      display: none;\n",
       "      fill: #1967D2;\n",
       "      height: 32px;\n",
       "      padding: 0 0 0 0;\n",
       "      width: 32px;\n",
       "    }\n",
       "\n",
       "    .colab-df-convert:hover {\n",
       "      background-color: #E2EBFA;\n",
       "      box-shadow: 0px 1px 2px rgba(60, 64, 67, 0.3), 0px 1px 3px 1px rgba(60, 64, 67, 0.15);\n",
       "      fill: #174EA6;\n",
       "    }\n",
       "\n",
       "    [theme=dark] .colab-df-convert {\n",
       "      background-color: #3B4455;\n",
       "      fill: #D2E3FC;\n",
       "    }\n",
       "\n",
       "    [theme=dark] .colab-df-convert:hover {\n",
       "      background-color: #434B5C;\n",
       "      box-shadow: 0px 1px 3px 1px rgba(0, 0, 0, 0.15);\n",
       "      filter: drop-shadow(0px 1px 2px rgba(0, 0, 0, 0.3));\n",
       "      fill: #FFFFFF;\n",
       "    }\n",
       "  </style>\n",
       "\n",
       "      <script>\n",
       "        const buttonEl =\n",
       "          document.querySelector('#df-2b5d284a-1a4b-43dc-a555-1d9e7f9df412 button.colab-df-convert');\n",
       "        buttonEl.style.display =\n",
       "          google.colab.kernel.accessAllowed ? 'block' : 'none';\n",
       "\n",
       "        async function convertToInteractive(key) {\n",
       "          const element = document.querySelector('#df-2b5d284a-1a4b-43dc-a555-1d9e7f9df412');\n",
       "          const dataTable =\n",
       "            await google.colab.kernel.invokeFunction('convertToInteractive',\n",
       "                                                     [key], {});\n",
       "          if (!dataTable) return;\n",
       "\n",
       "          const docLinkHtml = 'Like what you see? Visit the ' +\n",
       "            '<a target=\"_blank\" href=https://colab.research.google.com/notebooks/data_table.ipynb>data table notebook</a>'\n",
       "            + ' to learn more about interactive tables.';\n",
       "          element.innerHTML = '';\n",
       "          dataTable['output_type'] = 'display_data';\n",
       "          await google.colab.output.renderOutput(dataTable, element);\n",
       "          const docLink = document.createElement('div');\n",
       "          docLink.innerHTML = docLinkHtml;\n",
       "          element.appendChild(docLink);\n",
       "        }\n",
       "      </script>\n",
       "    </div>\n",
       "  </div>\n"
      ],
      "text/plain": [
       "                         id                     title  \\\n",
       "0  5733be284776f41900661182  University_of_Notre_Dame   \n",
       "1  5733be284776f4190066117f  University_of_Notre_Dame   \n",
       "2  5733be284776f41900661180  University_of_Notre_Dame   \n",
       "3  5733be284776f41900661181  University_of_Notre_Dame   \n",
       "4  5733be284776f4190066117e  University_of_Notre_Dame   \n",
       "\n",
       "                                             context  \\\n",
       "0  Architecturally, the school has a Catholic cha...   \n",
       "1  Architecturally, the school has a Catholic cha...   \n",
       "2  Architecturally, the school has a Catholic cha...   \n",
       "3  Architecturally, the school has a Catholic cha...   \n",
       "4  Architecturally, the school has a Catholic cha...   \n",
       "\n",
       "                                            question  \\\n",
       "0  To whom did the Virgin Mary allegedly appear i...   \n",
       "1  What is in front of the Notre Dame Main Building?   \n",
       "2  The Basilica of the Sacred heart at Notre Dame...   \n",
       "3                  What is the Grotto at Notre Dame?   \n",
       "4  What sits on top of the Main Building at Notre...   \n",
       "\n",
       "                                             answers  \n",
       "0  {'text': ['Saint Bernadette Soubirous'], 'answ...  \n",
       "1  {'text': ['a copper statue of Christ'], 'answe...  \n",
       "2  {'text': ['the Main Building'], 'answer_start'...  \n",
       "3  {'text': ['a Marian place of prayer and reflec...  \n",
       "4  {'text': ['a golden statue of the Virgin Mary'...  "
      ]
     },
     "execution_count": 12,
     "metadata": {},
     "output_type": "execute_result"
    }
   ],
   "source": [
    "data = data.to_pandas()\n",
    "data.head()"
   ]
  },
  {
   "cell_type": "markdown",
   "metadata": {
    "id": "mrU8_nqlUo_w"
   },
   "source": [
    "Let's remove the duplicate context and keep the 1st record of the records with same context."
   ]
  },
  {
   "cell_type": "code",
   "execution_count": null,
   "metadata": {
    "colab": {
     "base_uri": "https://localhost:8080/",
     "height": 206
    },
    "id": "ngJbo6HcUbG0",
    "outputId": "d54a484a-1d12-4571-d93e-cdf177262640"
   },
   "outputs": [
    {
     "data": {
      "text/html": [
       "\n",
       "\n",
       "  <div id=\"df-a3eb9be4-758b-4413-ae33-ff8527eed198\">\n",
       "    <div class=\"colab-df-container\">\n",
       "      <div>\n",
       "<style scoped>\n",
       "    .dataframe tbody tr th:only-of-type {\n",
       "        vertical-align: middle;\n",
       "    }\n",
       "\n",
       "    .dataframe tbody tr th {\n",
       "        vertical-align: top;\n",
       "    }\n",
       "\n",
       "    .dataframe thead th {\n",
       "        text-align: right;\n",
       "    }\n",
       "</style>\n",
       "<table border=\"1\" class=\"dataframe\">\n",
       "  <thead>\n",
       "    <tr style=\"text-align: right;\">\n",
       "      <th></th>\n",
       "      <th>id</th>\n",
       "      <th>title</th>\n",
       "      <th>context</th>\n",
       "      <th>question</th>\n",
       "      <th>answers</th>\n",
       "    </tr>\n",
       "  </thead>\n",
       "  <tbody>\n",
       "    <tr>\n",
       "      <th>0</th>\n",
       "      <td>5733be284776f41900661182</td>\n",
       "      <td>University_of_Notre_Dame</td>\n",
       "      <td>Architecturally, the school has a Catholic cha...</td>\n",
       "      <td>To whom did the Virgin Mary allegedly appear i...</td>\n",
       "      <td>{'text': ['Saint Bernadette Soubirous'], 'answ...</td>\n",
       "    </tr>\n",
       "    <tr>\n",
       "      <th>5</th>\n",
       "      <td>5733bf84d058e614000b61be</td>\n",
       "      <td>University_of_Notre_Dame</td>\n",
       "      <td>As at most other universities, Notre Dame's st...</td>\n",
       "      <td>When did the Scholastic Magazine of Notre dame...</td>\n",
       "      <td>{'text': ['September 1876'], 'answer_start': [...</td>\n",
       "    </tr>\n",
       "    <tr>\n",
       "      <th>10</th>\n",
       "      <td>5733bed24776f41900661188</td>\n",
       "      <td>University_of_Notre_Dame</td>\n",
       "      <td>The university is the major seat of the Congre...</td>\n",
       "      <td>Where is the headquarters of the Congregation ...</td>\n",
       "      <td>{'text': ['Rome'], 'answer_start': [119]}</td>\n",
       "    </tr>\n",
       "    <tr>\n",
       "      <th>15</th>\n",
       "      <td>5733a6424776f41900660f51</td>\n",
       "      <td>University_of_Notre_Dame</td>\n",
       "      <td>The College of Engineering was established in ...</td>\n",
       "      <td>How many BS level degrees are offered in the C...</td>\n",
       "      <td>{'text': ['eight'], 'answer_start': [487]}</td>\n",
       "    </tr>\n",
       "    <tr>\n",
       "      <th>20</th>\n",
       "      <td>5733a70c4776f41900660f64</td>\n",
       "      <td>University_of_Notre_Dame</td>\n",
       "      <td>All of Notre Dame's undergraduate students are...</td>\n",
       "      <td>What entity provides help with the management ...</td>\n",
       "      <td>{'text': ['Learning Resource Center'], 'answer...</td>\n",
       "    </tr>\n",
       "  </tbody>\n",
       "</table>\n",
       "</div>\n",
       "      <button class=\"colab-df-convert\" onclick=\"convertToInteractive('df-a3eb9be4-758b-4413-ae33-ff8527eed198')\"\n",
       "              title=\"Convert this dataframe to an interactive table.\"\n",
       "              style=\"display:none;\">\n",
       "\n",
       "  <svg xmlns=\"http://www.w3.org/2000/svg\" height=\"24px\"viewBox=\"0 0 24 24\"\n",
       "       width=\"24px\">\n",
       "    <path d=\"M0 0h24v24H0V0z\" fill=\"none\"/>\n",
       "    <path d=\"M18.56 5.44l.94 2.06.94-2.06 2.06-.94-2.06-.94-.94-2.06-.94 2.06-2.06.94zm-11 1L8.5 8.5l.94-2.06 2.06-.94-2.06-.94L8.5 2.5l-.94 2.06-2.06.94zm10 10l.94 2.06.94-2.06 2.06-.94-2.06-.94-.94-2.06-.94 2.06-2.06.94z\"/><path d=\"M17.41 7.96l-1.37-1.37c-.4-.4-.92-.59-1.43-.59-.52 0-1.04.2-1.43.59L10.3 9.45l-7.72 7.72c-.78.78-.78 2.05 0 2.83L4 21.41c.39.39.9.59 1.41.59.51 0 1.02-.2 1.41-.59l7.78-7.78 2.81-2.81c.8-.78.8-2.07 0-2.86zM5.41 20L4 18.59l7.72-7.72 1.47 1.35L5.41 20z\"/>\n",
       "  </svg>\n",
       "      </button>\n",
       "\n",
       "\n",
       "\n",
       "    <div id=\"df-41ddf228-21ce-4fe1-a067-caef9781cbb2\">\n",
       "      <button class=\"colab-df-quickchart\" onclick=\"quickchart('df-41ddf228-21ce-4fe1-a067-caef9781cbb2')\"\n",
       "              title=\"Suggest charts.\"\n",
       "              style=\"display:none;\">\n",
       "\n",
       "<svg xmlns=\"http://www.w3.org/2000/svg\" height=\"24px\"viewBox=\"0 0 24 24\"\n",
       "     width=\"24px\">\n",
       "    <g>\n",
       "        <path d=\"M19 3H5c-1.1 0-2 .9-2 2v14c0 1.1.9 2 2 2h14c1.1 0 2-.9 2-2V5c0-1.1-.9-2-2-2zM9 17H7v-7h2v7zm4 0h-2V7h2v10zm4 0h-2v-4h2v4z\"/>\n",
       "    </g>\n",
       "</svg>\n",
       "      </button>\n",
       "    </div>\n",
       "\n",
       "<style>\n",
       "  .colab-df-quickchart {\n",
       "    background-color: #E8F0FE;\n",
       "    border: none;\n",
       "    border-radius: 50%;\n",
       "    cursor: pointer;\n",
       "    display: none;\n",
       "    fill: #1967D2;\n",
       "    height: 32px;\n",
       "    padding: 0 0 0 0;\n",
       "    width: 32px;\n",
       "  }\n",
       "\n",
       "  .colab-df-quickchart:hover {\n",
       "    background-color: #E2EBFA;\n",
       "    box-shadow: 0px 1px 2px rgba(60, 64, 67, 0.3), 0px 1px 3px 1px rgba(60, 64, 67, 0.15);\n",
       "    fill: #174EA6;\n",
       "  }\n",
       "\n",
       "  [theme=dark] .colab-df-quickchart {\n",
       "    background-color: #3B4455;\n",
       "    fill: #D2E3FC;\n",
       "  }\n",
       "\n",
       "  [theme=dark] .colab-df-quickchart:hover {\n",
       "    background-color: #434B5C;\n",
       "    box-shadow: 0px 1px 3px 1px rgba(0, 0, 0, 0.15);\n",
       "    filter: drop-shadow(0px 1px 2px rgba(0, 0, 0, 0.3));\n",
       "    fill: #FFFFFF;\n",
       "  }\n",
       "</style>\n",
       "\n",
       "    <script>\n",
       "      async function quickchart(key) {\n",
       "        const containerElement = document.querySelector('#' + key);\n",
       "        const charts = await google.colab.kernel.invokeFunction(\n",
       "            'suggestCharts', [key], {});\n",
       "      }\n",
       "    </script>\n",
       "\n",
       "      <script>\n",
       "\n",
       "function displayQuickchartButton(domScope) {\n",
       "  let quickchartButtonEl =\n",
       "    domScope.querySelector('#df-41ddf228-21ce-4fe1-a067-caef9781cbb2 button.colab-df-quickchart');\n",
       "  quickchartButtonEl.style.display =\n",
       "    google.colab.kernel.accessAllowed ? 'block' : 'none';\n",
       "}\n",
       "\n",
       "        displayQuickchartButton(document);\n",
       "      </script>\n",
       "      <style>\n",
       "    .colab-df-container {\n",
       "      display:flex;\n",
       "      flex-wrap:wrap;\n",
       "      gap: 12px;\n",
       "    }\n",
       "\n",
       "    .colab-df-convert {\n",
       "      background-color: #E8F0FE;\n",
       "      border: none;\n",
       "      border-radius: 50%;\n",
       "      cursor: pointer;\n",
       "      display: none;\n",
       "      fill: #1967D2;\n",
       "      height: 32px;\n",
       "      padding: 0 0 0 0;\n",
       "      width: 32px;\n",
       "    }\n",
       "\n",
       "    .colab-df-convert:hover {\n",
       "      background-color: #E2EBFA;\n",
       "      box-shadow: 0px 1px 2px rgba(60, 64, 67, 0.3), 0px 1px 3px 1px rgba(60, 64, 67, 0.15);\n",
       "      fill: #174EA6;\n",
       "    }\n",
       "\n",
       "    [theme=dark] .colab-df-convert {\n",
       "      background-color: #3B4455;\n",
       "      fill: #D2E3FC;\n",
       "    }\n",
       "\n",
       "    [theme=dark] .colab-df-convert:hover {\n",
       "      background-color: #434B5C;\n",
       "      box-shadow: 0px 1px 3px 1px rgba(0, 0, 0, 0.15);\n",
       "      filter: drop-shadow(0px 1px 2px rgba(0, 0, 0, 0.3));\n",
       "      fill: #FFFFFF;\n",
       "    }\n",
       "  </style>\n",
       "\n",
       "      <script>\n",
       "        const buttonEl =\n",
       "          document.querySelector('#df-a3eb9be4-758b-4413-ae33-ff8527eed198 button.colab-df-convert');\n",
       "        buttonEl.style.display =\n",
       "          google.colab.kernel.accessAllowed ? 'block' : 'none';\n",
       "\n",
       "        async function convertToInteractive(key) {\n",
       "          const element = document.querySelector('#df-a3eb9be4-758b-4413-ae33-ff8527eed198');\n",
       "          const dataTable =\n",
       "            await google.colab.kernel.invokeFunction('convertToInteractive',\n",
       "                                                     [key], {});\n",
       "          if (!dataTable) return;\n",
       "\n",
       "          const docLinkHtml = 'Like what you see? Visit the ' +\n",
       "            '<a target=\"_blank\" href=https://colab.research.google.com/notebooks/data_table.ipynb>data table notebook</a>'\n",
       "            + ' to learn more about interactive tables.';\n",
       "          element.innerHTML = '';\n",
       "          dataTable['output_type'] = 'display_data';\n",
       "          await google.colab.output.renderOutput(dataTable, element);\n",
       "          const docLink = document.createElement('div');\n",
       "          docLink.innerHTML = docLinkHtml;\n",
       "          element.appendChild(docLink);\n",
       "        }\n",
       "      </script>\n",
       "    </div>\n",
       "  </div>\n"
      ],
      "text/plain": [
       "                          id                     title  \\\n",
       "0   5733be284776f41900661182  University_of_Notre_Dame   \n",
       "5   5733bf84d058e614000b61be  University_of_Notre_Dame   \n",
       "10  5733bed24776f41900661188  University_of_Notre_Dame   \n",
       "15  5733a6424776f41900660f51  University_of_Notre_Dame   \n",
       "20  5733a70c4776f41900660f64  University_of_Notre_Dame   \n",
       "\n",
       "                                              context  \\\n",
       "0   Architecturally, the school has a Catholic cha...   \n",
       "5   As at most other universities, Notre Dame's st...   \n",
       "10  The university is the major seat of the Congre...   \n",
       "15  The College of Engineering was established in ...   \n",
       "20  All of Notre Dame's undergraduate students are...   \n",
       "\n",
       "                                             question  \\\n",
       "0   To whom did the Virgin Mary allegedly appear i...   \n",
       "5   When did the Scholastic Magazine of Notre dame...   \n",
       "10  Where is the headquarters of the Congregation ...   \n",
       "15  How many BS level degrees are offered in the C...   \n",
       "20  What entity provides help with the management ...   \n",
       "\n",
       "                                              answers  \n",
       "0   {'text': ['Saint Bernadette Soubirous'], 'answ...  \n",
       "5   {'text': ['September 1876'], 'answer_start': [...  \n",
       "10          {'text': ['Rome'], 'answer_start': [119]}  \n",
       "15         {'text': ['eight'], 'answer_start': [487]}  \n",
       "20  {'text': ['Learning Resource Center'], 'answer...  "
      ]
     },
     "execution_count": 13,
     "metadata": {},
     "output_type": "execute_result"
    }
   ],
   "source": [
    "data.drop_duplicates(subset='context', keep='first', inplace=True)\n",
    "data.head()"
   ]
  },
  {
   "cell_type": "markdown",
   "metadata": {
    "id": "IN_8Ss2AXSkW"
   },
   "source": [
    "# **Load the table with data and create text embeddings**\n",
    "\n",
    "* If you are using free trial of the OpenAPI,  the rate limit is about 60/min.  Please adjust the ***counter*** variable below according to your rate limit.\n",
    "* It takes a long time to load the full data so it is set as 300 here.   Please adjust the ***total*** variable below according to the number of data to test.  Please note that the more data is loaded the longer it takes to load.\n",
    "* This will takes around **6 minutes** to load the 300 data."
   ]
  },
  {
   "cell_type": "code",
   "execution_count": null,
   "metadata": {
    "colab": {
     "base_uri": "https://localhost:8080/",
     "height": 1000
    },
    "id": "wI-jcK5eXS1A",
    "outputId": "ce956711-2135-4498-f102-b6274c8e13eb"
   },
   "outputs": [
    {
     "data": {
      "text/plain": [
       "id                                   5733be284776f41900661182\n",
       "title                                University_of_Notre_Dame\n",
       "context     Architecturally, the school has a Catholic cha...\n",
       "question    To whom did the Virgin Mary allegedly appear i...\n",
       "answers     {'text': ['Saint Bernadette Soubirous'], 'answ...\n",
       "Name: 0, dtype: object"
      ]
     },
     "metadata": {},
     "output_type": "display_data"
    },
    {
     "data": {
      "text/plain": [
       "id                                   5733bf84d058e614000b61be\n",
       "title                                University_of_Notre_Dame\n",
       "context     As at most other universities, Notre Dame's st...\n",
       "question    When did the Scholastic Magazine of Notre dame...\n",
       "answers     {'text': ['September 1876'], 'answer_start': [...\n",
       "Name: 5, dtype: object"
      ]
     },
     "metadata": {},
     "output_type": "display_data"
    },
    {
     "data": {
      "text/plain": [
       "id                                   5733bed24776f41900661188\n",
       "title                                University_of_Notre_Dame\n",
       "context     The university is the major seat of the Congre...\n",
       "question    Where is the headquarters of the Congregation ...\n",
       "answers             {'text': ['Rome'], 'answer_start': [119]}\n",
       "Name: 10, dtype: object"
      ]
     },
     "metadata": {},
     "output_type": "display_data"
    },
    {
     "data": {
      "text/plain": [
       "id                                   5733a6424776f41900660f51\n",
       "title                                University_of_Notre_Dame\n",
       "context     The College of Engineering was established in ...\n",
       "question    How many BS level degrees are offered in the C...\n",
       "answers            {'text': ['eight'], 'answer_start': [487]}\n",
       "Name: 15, dtype: object"
      ]
     },
     "metadata": {},
     "output_type": "display_data"
    },
    {
     "data": {
      "text/plain": [
       "id                                   5733a70c4776f41900660f64\n",
       "title                                University_of_Notre_Dame\n",
       "context     All of Notre Dame's undergraduate students are...\n",
       "question    What entity provides help with the management ...\n",
       "answers     {'text': ['Learning Resource Center'], 'answer...\n",
       "Name: 20, dtype: object"
      ]
     },
     "metadata": {},
     "output_type": "display_data"
    },
    {
     "data": {
      "text/plain": [
       "id                                   5733a7bd4776f41900660f6b\n",
       "title                                University_of_Notre_Dame\n",
       "context     The university first offered graduate degrees,...\n",
       "question    The granting of Doctorate degrees first occurr...\n",
       "answers             {'text': ['1924'], 'answer_start': [358]}\n",
       "Name: 24, dtype: object"
      ]
     },
     "metadata": {},
     "output_type": "display_data"
    },
    {
     "data": {
      "text/plain": [
       "id                                   5733ac31d058e614000b5ff3\n",
       "title                                University_of_Notre_Dame\n",
       "context     The Joan B. Kroc Institute for International P...\n",
       "question    What institute at Notre Dame studies  the reas...\n",
       "answers     {'text': ['Joan B. Kroc Institute for Internat...\n",
       "Name: 29, dtype: object"
      ]
     },
     "metadata": {},
     "output_type": "display_data"
    },
    {
     "data": {
      "text/plain": [
       "id                                   5733ad384776f41900660fec\n",
       "title                                University_of_Notre_Dame\n",
       "context     The library system of the university is divide...\n",
       "question    How many stories tall is the main library at N...\n",
       "answers               {'text': ['14'], 'answer_start': [136]}\n",
       "Name: 34, dtype: object"
      ]
     },
     "metadata": {},
     "output_type": "display_data"
    },
    {
     "data": {
      "text/plain": [
       "id                                   5733ae924776f41900661014\n",
       "title                                University_of_Notre_Dame\n",
       "context     Notre Dame is known for its competitive admiss...\n",
       "question    How many incoming students did Notre Dame admi...\n",
       "answers            {'text': ['3,577'], 'answer_start': [109]}\n",
       "Name: 39, dtype: object"
      ]
     },
     "metadata": {},
     "output_type": "display_data"
    },
    {
     "data": {
      "text/plain": [
       "id                                   5733afd3d058e614000b6045\n",
       "title                                University_of_Notre_Dame\n",
       "context     In 2015-2016, Notre Dame ranked 18th overall a...\n",
       "question    Where did U.S. News & World Report rank Notre ...\n",
       "answers      {'text': ['18th overall'], 'answer_start': [32]}\n",
       "Name: 44, dtype: object"
      ]
     },
     "metadata": {},
     "output_type": "display_data"
    },
    {
     "data": {
      "text/plain": [
       "id                                   5733b0fb4776f41900661041\n",
       "title                                University_of_Notre_Dame\n",
       "context     Father Joseph Carrier, C.S.C. was Director of ...\n",
       "question    What person was the Director of the Science Mu...\n",
       "answers     {'text': ['Father Joseph Carrier, C.S.C.'], 'a...\n",
       "Name: 49, dtype: object"
      ]
     },
     "metadata": {},
     "output_type": "display_data"
    },
    {
     "data": {
      "text/plain": [
       "id                                   5733b1da4776f41900661068\n",
       "title                                University_of_Notre_Dame\n",
       "context     In 1882, Albert Zahm (John Zahm's brother) bui...\n",
       "question    In what year did Albert Zahm begin comparing a...\n",
       "answers               {'text': ['1882'], 'answer_start': [3]}\n",
       "Name: 54, dtype: object"
      ]
     },
     "metadata": {},
     "output_type": "display_data"
    },
    {
     "data": {
      "text/plain": [
       "id                                   5733b2fe4776f4190066108f\n",
       "title                                University_of_Notre_Dame\n",
       "context     The Lobund Institute grew out of pioneering re...\n",
       "question    Work on a germ-free-life ended up in the creat...\n",
       "answers     {'text': ['The Lobund Institute'], 'answer_sta...\n",
       "Name: 59, dtype: object"
      ]
     },
     "metadata": {},
     "output_type": "display_data"
    },
    {
     "data": {
      "text/plain": [
       "id                                   5733b3d64776f419006610a3\n",
       "title                                University_of_Notre_Dame\n",
       "context     The Review of Politics was founded in 1939 by ...\n",
       "question           Gurian created what in 1939 at Notre Dame?\n",
       "answers     {'text': ['The Review of Politics'], 'answer_s...\n",
       "Name: 64, dtype: object"
      ]
     },
     "metadata": {},
     "output_type": "display_data"
    },
    {
     "data": {
      "text/plain": [
       "id                                   5733b5344776f419006610dd\n",
       "title                                University_of_Notre_Dame\n",
       "context     As of 2012[update] research continued in many ...\n",
       "question         Who was the president of Notre Dame in 2012?\n",
       "answers      {'text': ['John Jenkins'], 'answer_start': [80]}\n",
       "Name: 68, dtype: object"
      ]
     },
     "metadata": {},
     "output_type": "display_data"
    },
    {
     "data": {
      "text/plain": [
       "id                                   5733b5df4776f41900661105\n",
       "title                                University_of_Notre_Dame\n",
       "context     In 2014 the Notre Dame student body consisted ...\n",
       "question    How many undergrads were attending Notre Dame ...\n",
       "answers             {'text': ['8,448'], 'answer_start': [71]}\n",
       "Name: 73, dtype: object"
      ]
     },
     "metadata": {},
     "output_type": "display_data"
    },
    {
     "data": {
      "text/plain": [
       "id                                   5733b699d058e614000b6118\n",
       "title                                University_of_Notre_Dame\n",
       "context     About 80% of undergraduates and 20% of graduat...\n",
       "question    What percentage of undergrads live on the Notr...\n",
       "answers                {'text': ['80%'], 'answer_start': [6]}\n",
       "Name: 78, dtype: object"
      ]
     },
     "metadata": {},
     "output_type": "display_data"
    },
    {
     "data": {
      "text/plain": [
       "id                                   5733b7f74776f4190066112d\n",
       "title                                University_of_Notre_Dame\n",
       "context     The university is affiliated with the Congrega...\n",
       "question         What is Congregation of Holy Cross in Latin?\n",
       "answers     {'text': ['Congregatio a Sancta Cruce'], 'answ...\n",
       "Name: 83, dtype: object"
      ]
     },
     "metadata": {},
     "output_type": "display_data"
    },
    {
     "data": {
      "text/plain": [
       "id                                   57338653d058e614000b5c84\n",
       "title                                University_of_Notre_Dame\n",
       "context     This Main Building, and the library collection...\n",
       "question        What was the music hall at Notre Dame called?\n",
       "answers     {'text': ['Washington Hall'], 'answer_start': ...\n",
       "Name: 88, dtype: object"
      ]
     },
     "metadata": {},
     "output_type": "display_data"
    },
    {
     "data": {
      "text/plain": [
       "id                                   57338724d058e614000b5c9f\n",
       "title                                University_of_Notre_Dame\n",
       "context     In 1919 Father James Burns became president of...\n",
       "question    What type of education was pushed at Notre Dam...\n",
       "answers     {'text': ['scholastic and classical'], 'answer...\n",
       "Name: 93, dtype: object"
      ]
     },
     "metadata": {},
     "output_type": "display_data"
    },
    {
     "data": {
      "text/plain": [
       "id                                   573387acd058e614000b5cb1\n",
       "title                                University_of_Notre_Dame\n",
       "context     One of the main driving forces in the growth o...\n",
       "question    The Notre Dame football team got a new head co...\n",
       "answers     {'text': ['Knute Rockne'], 'answer_start': [117]}\n",
       "Name: 98, dtype: object"
      ]
     },
     "metadata": {},
     "output_type": "display_data"
    },
    {
     "data": {
      "text/plain": [
       "id                                   573388ce4776f41900660cc3\n",
       "title                                University_of_Notre_Dame\n",
       "context     The success of its football team made Notre Da...\n",
       "question    Catholic people identified with Notre Dame, wh...\n",
       "answers     {'text': ['the Protestant establishment'], 'an...\n",
       "Name: 103, dtype: object"
      ]
     },
     "metadata": {},
     "output_type": "display_data"
    },
    {
     "data": {
      "text/plain": [
       "id                                   57338a51d058e614000b5cf0\n",
       "title                                University_of_Notre_Dame\n",
       "context     Holy Cross Father John Francis O'Hara was elec...\n",
       "question    Which person became vice-president of Notre Da...\n",
       "answers     {'text': ['Father John Francis O'Hara'], 'answ...\n",
       "Name: 108, dtype: object"
      ]
     },
     "metadata": {},
     "output_type": "display_data"
    },
    {
     "data": {
      "text/plain": [
       "id                                   5733926d4776f41900660d8e\n",
       "title                                University_of_Notre_Dame\n",
       "context     The Rev. John J. Cavanaugh, C.S.C. served as p...\n",
       "question    Around the time that Rev. Cavanaugh became pre...\n",
       "answers     {'text': ['more than half'], 'answer_start': [...\n",
       "Name: 113, dtype: object"
      ]
     },
     "metadata": {},
     "output_type": "display_data"
    },
    {
     "data": {
      "text/plain": [
       "id                                   573393184776f41900660da6\n",
       "title                                University_of_Notre_Dame\n",
       "context     The Rev. Theodore Hesburgh, C.S.C., (1917–2015...\n",
       "question          What was the lifespan of Theodore Hesburgh?\n",
       "answers         {'text': ['1917–2015'], 'answer_start': [37]}\n",
       "Name: 118, dtype: object"
      ]
     },
     "metadata": {},
     "output_type": "display_data"
    },
    {
     "data": {
      "text/plain": [
       "id                                   573393e1d058e614000b5dc2\n",
       "title                                University_of_Notre_Dame\n",
       "context     Hesburgh is also credited with transforming th...\n",
       "question    What type of educational institute is Hesburgh...\n",
       "answers     {'text': ['coeducational'], 'answer_start': [82]}\n",
       "Name: 123, dtype: object"
      ]
     },
     "metadata": {},
     "output_type": "display_data"
    },
    {
     "data": {
      "text/plain": [
       "id                                   573394c84776f41900660ddd\n",
       "title                                University_of_Notre_Dame\n",
       "context     In the 18 years under the presidency of Edward...\n",
       "question    During what years was Edward Malloy president ...\n",
       "answers         {'text': ['1987–2005'], 'answer_start': [64]}\n",
       "Name: 128, dtype: object"
      ]
     },
     "metadata": {},
     "output_type": "display_data"
    },
    {
     "data": {
      "text/plain": [
       "id                                   5733974d4776f41900660e17\n",
       "title                                University_of_Notre_Dame\n",
       "context     Since 2005, Notre Dame has been led by John I....\n",
       "question    When did John Jenkins become the president of ...\n",
       "answers               {'text': ['2005'], 'answer_start': [6]}\n",
       "Name: 133, dtype: object"
      ]
     },
     "metadata": {},
     "output_type": "display_data"
    },
    {
     "data": {
      "text/plain": [
       "id                                   573398164776f41900660e21\n",
       "title                                University_of_Notre_Dame\n",
       "context     Because of its Catholic identity, a number of ...\n",
       "question    Which congregation is in charge of the Old Col...\n",
       "answers     {'text': ['Congregation of Holy Cross'], 'answ...\n",
       "Name: 138, dtype: object"
      ]
     },
     "metadata": {},
     "output_type": "display_data"
    },
    {
     "data": {
      "text/plain": [
       "id                                   573398ebd058e614000b5e66\n",
       "title                                University_of_Notre_Dame\n",
       "context     A Science Hall was built in 1883 under the dir...\n",
       "question    Which person oversaw the creation of a science...\n",
       "answers          {'text': ['Fr. Zahm'], 'answer_start': [56]}\n",
       "Name: 143, dtype: object"
      ]
     },
     "metadata": {},
     "output_type": "display_data"
    },
    {
     "data": {
      "text/plain": [
       "id                                   57339a5bd058e614000b5e91\n",
       "title                                University_of_Notre_Dame\n",
       "context     Since the construction of its oldest buildings...\n",
       "question    How many halls are at Notre Dame that house st...\n",
       "answers               {'text': ['29'], 'answer_start': [120]}\n",
       "Name: 148, dtype: object"
      ]
     },
     "metadata": {},
     "output_type": "display_data"
    },
    {
     "data": {
      "text/plain": [
       "id                                   57339b36d058e614000b5ea3\n",
       "title                                University_of_Notre_Dame\n",
       "context     The University of Notre Dame has made being a ...\n",
       "question    In what year did Notre Dame create the Office ...\n",
       "answers             {'text': ['2008'], 'answer_start': [142]}\n",
       "Name: 153, dtype: object"
      ]
     },
     "metadata": {},
     "output_type": "display_data"
    },
    {
     "data": {
      "text/plain": [
       "id                                   57339c184776f41900660ea5\n",
       "title                                University_of_Notre_Dame\n",
       "context     The university owns several centers around the...\n",
       "question    In what year did Notre Dame first have a facil...\n",
       "answers             {'text': ['1968'], 'answer_start': [198]}\n",
       "Name: 157, dtype: object"
      ]
     },
     "metadata": {},
     "output_type": "display_data"
    },
    {
     "data": {
      "text/plain": [
       "id                                   5733a3cbd058e614000b5f3f\n",
       "title                                University_of_Notre_Dame\n",
       "context     The College of Arts and Letters was establishe...\n",
       "question                 What was Notre Dame's first college?\n",
       "answers     {'text': ['The College of Arts and Letters'], ...\n",
       "Name: 161, dtype: object"
      ]
     },
     "metadata": {},
     "output_type": "display_data"
    },
    {
     "data": {
      "text/plain": [
       "id                                   5733a4c54776f41900660f2d\n",
       "title                                University_of_Notre_Dame\n",
       "context     The College of Science was established at the ...\n",
       "question    Which president at Notre Dame created the Coll...\n",
       "answers     {'text': ['Father Patrick Dillon'], 'answer_st...\n",
       "Name: 166, dtype: object"
      ]
     },
     "metadata": {},
     "output_type": "display_data"
    },
    {
     "data": {
      "text/plain": [
       "id                                   5733a55a4776f41900660f3a\n",
       "title                                University_of_Notre_Dame\n",
       "context     The School of Architecture was established in ...\n",
       "question             In 1899 Notre Dame formed which college?\n",
       "answers     {'text': ['School of Architecture'], 'answer_s...\n",
       "Name: 171, dtype: object"
      ]
     },
     "metadata": {},
     "output_type": "display_data"
    },
    {
     "data": {
      "text/plain": [
       "id                                   5733adb64776f41900661001\n",
       "title                                University_of_Notre_Dame\n",
       "context     The library system also includes branch librar...\n",
       "question    In what year did the opening of a theology lib...\n",
       "answers             {'text': ['2015'], 'answer_start': [388]}\n",
       "Name: 176, dtype: object"
      ]
     },
     "metadata": {},
     "output_type": "display_data"
    },
    {
     "data": {
      "text/plain": [
       "id                                   5733b496d058e614000b60ce\n",
       "title                                University_of_Notre_Dame\n",
       "context     The rise of Hitler and other dictators in the ...\n",
       "question    What caused many intellectual Catholics to lea...\n",
       "answers     {'text': ['The rise of Hitler and other dictat...\n",
       "Name: 180, dtype: object"
      ]
     },
     "metadata": {},
     "output_type": "display_data"
    },
    {
     "data": {
      "text/plain": [
       "id                                   573382a14776f41900660c2d\n",
       "title                                University_of_Notre_Dame\n",
       "context     The University of Notre Dame du Lac (or simply...\n",
       "question    The school known as Notre Dame is known by a m...\n",
       "answers     {'text': ['University of Notre Dame du'], 'ans...\n",
       "Name: 185, dtype: object"
      ]
     },
     "metadata": {},
     "output_type": "display_data"
    },
    {
     "data": {
      "text/plain": [
       "id                                   573383494776f41900660c41\n",
       "title                                University_of_Notre_Dame\n",
       "context     Notre Dame rose to national prominence in the ...\n",
       "question    What caused Notre Dame to become notable in th...\n",
       "answers     {'text': ['its Fighting Irish football team'],...\n",
       "Name: 190, dtype: object"
      ]
     },
     "metadata": {},
     "output_type": "display_data"
    },
    {
     "data": {
      "text/plain": [
       "id                                   573383e94776f41900660c5a\n",
       "title                                University_of_Notre_Dame\n",
       "context     Besides its prominence in sports, Notre Dame i...\n",
       "question    Where among US universities does Notre Dame rank?\n",
       "answers     {'text': ['among the top twenty'], 'answer_sta...\n",
       "Name: 195, dtype: object"
      ]
     },
     "metadata": {},
     "output_type": "display_data"
    },
    {
     "data": {
      "text/plain": [
       "id                                   5733849bd058e614000b5c56\n",
       "title                                University_of_Notre_Dame\n",
       "context     In 1842, the Bishop of Vincennes, Célestine Gu...\n",
       "question    In what year was Father Edward Sorin given two...\n",
       "answers               {'text': ['1842'], 'answer_start': [3]}\n",
       "Name: 200, dtype: object"
      ]
     },
     "metadata": {},
     "output_type": "display_data"
    },
    {
     "data": {
      "text/plain": [
       "id                                   573385394776f41900660c7f\n",
       "title                                University_of_Notre_Dame\n",
       "context     The first degrees from the college were awarde...\n",
       "question    In what year did the initial degrees get hande...\n",
       "answers              {'text': ['1849'], 'answer_start': [51]}\n",
       "Name: 205, dtype: object"
      ]
     },
     "metadata": {},
     "output_type": "display_data"
    },
    {
     "data": {
      "text/plain": [
       "id                                   5733c0064776f41900661198\n",
       "title                                University_of_Notre_Dame\n",
       "context     The television station, NDtv, grew from one sh...\n",
       "question    Which television station finds its home at Not...\n",
       "answers              {'text': ['NDtv'], 'answer_start': [24]}\n",
       "Name: 210, dtype: object"
      ]
     },
     "metadata": {},
     "output_type": "display_data"
    },
    {
     "data": {
      "text/plain": [
       "id                                   5733c0e6d058e614000b61d7\n",
       "title                                University_of_Notre_Dame\n",
       "context     The first phase of Eddy Street Commons, a $215...\n",
       "question    How much is Eddy Street Commons at Notre Dame ...\n",
       "answers      {'text': ['$215 million'], 'answer_start': [42]}\n",
       "Name: 214, dtype: object"
      ]
     },
     "metadata": {},
     "output_type": "display_data"
    },
    {
     "data": {
      "text/plain": [
       "id                                   5733c1a94776f419006611a6\n",
       "title                                University_of_Notre_Dame\n",
       "context     Notre Dame teams are known as the Fighting Iri...\n",
       "question                What does the acronym NCAA stand for?\n",
       "answers     {'text': ['National Collegiate Athletic Associ...\n",
       "Name: 219, dtype: object"
      ]
     },
     "metadata": {},
     "output_type": "display_data"
    },
    {
     "data": {
      "text/plain": [
       "id                                   5733c29c4776f419006611b8\n",
       "title                                University_of_Notre_Dame\n",
       "context     Notre Dame's conference affiliations for all o...\n",
       "question    To what conference did the Fighting Irish go a...\n",
       "answers          {'text': ['the ACC'], 'answer_start': [239]}\n",
       "Name: 224, dtype: object"
      ]
     },
     "metadata": {},
     "output_type": "display_data"
    },
    {
     "data": {
      "text/plain": [
       "id                                   5733c3184776f419006611c2\n",
       "title                                University_of_Notre_Dame\n",
       "context     On July 1, 2014, the University of Notre Dame ...\n",
       "question    Who currently provides uniforms to Notre Dame ...\n",
       "answers      {'text': ['Under Armour'], 'answer_start': [50]}\n",
       "Name: 229, dtype: object"
      ]
     },
     "metadata": {},
     "output_type": "display_data"
    },
    {
     "data": {
      "text/plain": [
       "id                                   5733c4494776f419006611da\n",
       "title                                University_of_Notre_Dame\n",
       "context     The Notre Dame football team has a long histor...\n",
       "question    Which team did Notre Dame's football team find...\n",
       "answers     {'text': ['Michigan Wolverines football team']...\n",
       "Name: 234, dtype: object"
      ]
     },
     "metadata": {},
     "output_type": "display_data"
    },
    {
     "data": {
      "text/plain": [
       "id                                   5733c743d058e614000b622d\n",
       "title                                University_of_Notre_Dame\n",
       "context     George Gipp was the school's legendary footbal...\n",
       "question    What notable football player played at Notre D...\n",
       "answers        {'text': ['George Gipp'], 'answer_start': [0]}\n",
       "Name: 239, dtype: object"
      ]
     },
     "metadata": {},
     "output_type": "display_data"
    },
    {
     "data": {
      "text/plain": [
       "id                                   5733ca05d058e614000b6263\n",
       "title                                University_of_Notre_Dame\n",
       "context     Football gameday traditions During home games,...\n",
       "question    What is displayed at Zahm House for football h...\n",
       "answers     {'text': ['two-story banner'], 'answer_start':...\n",
       "Name: 244, dtype: object"
      ]
     },
     "metadata": {},
     "output_type": "display_data"
    },
    {
     "data": {
      "text/plain": [
       "id                                   5733caf74776f4190066124c\n",
       "title                                University_of_Notre_Dame\n",
       "context     The men's basketball team has over 1,600 wins,...\n",
       "question    How many wins does the Notre Dame men's basket...\n",
       "answers        {'text': ['over 1,600'], 'answer_start': [30]}\n",
       "Name: 249, dtype: object"
      ]
     },
     "metadata": {},
     "output_type": "display_data"
    },
    {
     "data": {
      "text/plain": [
       "id                                   5733cbdad058e614000b628d\n",
       "title                                University_of_Notre_Dame\n",
       "context     The \"Notre Dame Victory March\" is the fight so...\n",
       "question    Who wrote the original lyrics to the Notre Dam...\n",
       "answers     {'text': ['John F. Shea'], 'answer_start': [222]}\n",
       "Name: 254, dtype: object"
      ]
     },
     "metadata": {},
     "output_type": "display_data"
    },
    {
     "data": {
      "text/plain": [
       "id                                   5733ccbe4776f41900661270\n",
       "title                                University_of_Notre_Dame\n",
       "context     In the film Knute Rockne, All American, Knute ...\n",
       "question           Ronald Reagan had a nickname, what was it?\n",
       "answers       {'text': ['The Gipper'], 'answer_start': [267]}\n",
       "Name: 259, dtype: object"
      ]
     },
     "metadata": {},
     "output_type": "display_data"
    },
    {
     "data": {
      "text/plain": [
       "id                                   5733cd504776f4190066128e\n",
       "title                                University_of_Notre_Dame\n",
       "context     Notre Dame alumni work in various fields. Alum...\n",
       "question        Which Secretary of State attended Notre Dame?\n",
       "answers     {'text': ['Condoleezza Rice'], 'answer_start':...\n",
       "Name: 264, dtype: object"
      ]
     },
     "metadata": {},
     "output_type": "display_data"
    },
    {
     "data": {
      "text/plain": [
       "id                                   56be85543aeaaa14008c9063\n",
       "title                                                 Beyoncé\n",
       "context     Beyoncé Giselle Knowles-Carter (/biːˈjɒnseɪ/ b...\n",
       "question             When did Beyonce start becoming popular?\n",
       "answers     {'text': ['in the late 1990s'], 'answer_start'...\n",
       "Name: 269, dtype: object"
      ]
     },
     "metadata": {},
     "output_type": "display_data"
    },
    {
     "data": {
      "text/plain": [
       "id                                   56be86cf3aeaaa14008c9076\n",
       "title                                                 Beyoncé\n",
       "context     Following the disbandment of Destiny's Child i...\n",
       "question    After her second solo album, what other entert...\n",
       "answers           {'text': ['acting'], 'answer_start': [207]}\n",
       "Name: 289, dtype: object"
      ]
     },
     "metadata": {},
     "output_type": "display_data"
    },
    {
     "data": {
      "text/plain": [
       "id                                   56be88473aeaaa14008c9080\n",
       "title                                                 Beyoncé\n",
       "context     A self-described \"modern-day feminist\", Beyonc...\n",
       "question    In her music, what are some recurring elements...\n",
       "answers     {'text': ['love, relationships, and monogamy']...\n",
       "Name: 301, dtype: object"
      ]
     },
     "metadata": {},
     "output_type": "display_data"
    },
    {
     "data": {
      "text/plain": [
       "id                                   56be892d3aeaaa14008c908b\n",
       "title                                                 Beyoncé\n",
       "context     Beyoncé Giselle Knowles was born in Houston, T...\n",
       "question    Beyonce's younger sibling also sang with her i...\n",
       "answers     {'text': ['Destiny's Child'], 'answer_start': ...\n",
       "Name: 313, dtype: object"
      ]
     },
     "metadata": {},
     "output_type": "display_data"
    },
    {
     "data": {
      "text/plain": [
       "id                                   56be8a583aeaaa14008c9094\n",
       "title                                                 Beyoncé\n",
       "context     Beyoncé attended St. Mary's Elementary School ...\n",
       "question               What town did Beyonce go to school in?\n",
       "answers     {'text': ['Fredericksburg'], 'answer_start': [...\n",
       "Name: 326, dtype: object"
      ]
     },
     "metadata": {},
     "output_type": "display_data"
    },
    {
     "data": {
      "text/plain": [
       "id                                   56be8bab3aeaaa14008c909f\n",
       "title                                                 Beyoncé\n",
       "context     At age eight, Beyoncé and childhood friend Kel...\n",
       "question    Who decided to place Beyonce's group in Star S...\n",
       "answers      {'text': ['Arne Frager'], 'answer_start': [303]}\n",
       "Name: 337, dtype: object"
      ]
     },
     "metadata": {},
     "output_type": "display_data"
    },
    {
     "data": {
      "text/plain": [
       "id                                   56be8c8a3aeaaa14008c90a9\n",
       "title                                                 Beyoncé\n",
       "context     The group changed their name to Destiny's Chil...\n",
       "question    Which film featured Destiny's Child's first ma...\n",
       "answers     {'text': ['Men in Black'], 'answer_start': [215]}\n",
       "Name: 350, dtype: object"
      ]
     },
     "metadata": {},
     "output_type": "display_data"
    },
    {
     "data": {
      "text/plain": [
       "id                                   56be8d423aeaaa14008c90b2\n",
       "title                                                 Beyoncé\n",
       "context     LeToya Luckett and Roberson became unhappy wit...\n",
       "question     What mental health issue did Beyonce go through?\n",
       "answers       {'text': ['depression'], 'answer_start': [169]}\n",
       "Name: 363, dtype: object"
      ]
     },
     "metadata": {},
     "output_type": "display_data"
    },
    {
     "data": {
      "text/plain": [
       "id                                   56be8e353aeaaa14008c90c6\n",
       "title                                                 Beyoncé\n",
       "context     The remaining band members recorded \"Independe...\n",
       "question    \"Charlie's Angels\" featured which single from ...\n",
       "answers     {'text': ['Independent Women Part I'], 'answer...\n",
       "Name: 373, dtype: object"
      ]
     },
     "metadata": {},
     "output_type": "display_data"
    },
    {
     "data": {
      "text/plain": [
       "id                                   56be8fdf3aeaaa14008c90da\n",
       "title                                                 Beyoncé\n",
       "context     In July 2002, Beyoncé continued her acting car...\n",
       "question    Who did Beyonce star with in the movie, \"Austi...\n",
       "answers        {'text': ['Mike Myers'], 'answer_start': [84]}\n",
       "Name: 384, dtype: object"
      ]
     },
     "metadata": {},
     "output_type": "display_data"
    },
    {
     "data": {
      "text/plain": [
       "id                                   56be90ee3aeaaa14008c90e4\n",
       "title                                                 Beyoncé\n",
       "context     Beyoncé's first solo recording was a feature o...\n",
       "question    What was the highest Beyonce's first solo reco...\n",
       "answers      {'text': ['number four'], 'answer_start': [123]}\n",
       "Name: 399, dtype: object"
      ]
     },
     "metadata": {},
     "output_type": "display_data"
    },
    {
     "data": {
      "text/plain": [
       "id                                   56be91b23aeaaa14008c90f0\n",
       "title                                                 Beyoncé\n",
       "context     In November 2003, she embarked on the Dangerou...\n",
       "question        Destiny's Child's final album was named what?\n",
       "answers     {'text': ['Destiny Fulfilled'], 'answer_start'...\n",
       "Name: 413, dtype: object"
      ]
     },
     "metadata": {},
     "output_type": "display_data"
    },
    {
     "data": {
      "text/plain": [
       "id                                   56be932e3aeaaa14008c90f9\n",
       "title                                                 Beyoncé\n",
       "context     Beyoncé's second solo album B'Day was released...\n",
       "question    How many albums did Beyonce sell in the first ...\n",
       "answers          {'text': ['541,000'], 'answer_start': [132]}\n",
       "Name: 423, dtype: object"
      ]
     },
     "metadata": {},
     "output_type": "display_data"
    },
    {
     "data": {
      "text/plain": [
       "id                                   56be94703aeaaa14008c9102\n",
       "title                                                 Beyoncé\n",
       "context     Her first acting role of 2006 was in the comed...\n",
       "question                  What movie did Beyonce act in 2006?\n",
       "answers     {'text': ['The Pink Panther'], 'answer_start':...\n",
       "Name: 434, dtype: object"
      ]
     },
     "metadata": {},
     "output_type": "display_data"
    },
    {
     "data": {
      "text/plain": [
       "id                                   56be95823aeaaa14008c910c\n",
       "title                                                 Beyoncé\n",
       "context     On April 4, 2008, Beyoncé married Jay Z. She p...\n",
       "question                 Beyonce got married in 2008 to whom?\n",
       "answers             {'text': ['Jay Z'], 'answer_start': [34]}\n",
       "Name: 447, dtype: object"
      ]
     },
     "metadata": {},
     "output_type": "display_data"
    },
    {
     "data": {
      "text/plain": [
       "id                                   56be96653aeaaa14008c9116\n",
       "title                                                 Beyoncé\n",
       "context     Beyoncé further expanded her acting career, st...\n",
       "question    Beyonce portrayed which character in the film,...\n",
       "answers        {'text': ['Etta James'], 'answer_start': [69]}\n",
       "Name: 461, dtype: object"
      ]
     },
     "metadata": {},
     "output_type": "display_data"
    },
    {
     "data": {
      "text/plain": [
       "id                                   56be973d3aeaaa14008c9120\n",
       "title                                                 Beyoncé\n",
       "context     At the 52nd Annual Grammy Awards, Beyoncé rece...\n",
       "question    How many awards was Beyonce nominated for at t...\n",
       "answers               {'text': ['ten'], 'answer_start': [51]}\n",
       "Name: 474, dtype: object"
      ]
     },
     "metadata": {},
     "output_type": "display_data"
    },
    {
     "data": {
      "text/plain": [
       "id                                   56be97c73aeaaa14008c912a\n",
       "title                                                 Beyoncé\n",
       "context     Beyoncé announced a hiatus from her music care...\n",
       "question    Beyonce would take a break from music in which...\n",
       "answers              {'text': ['2010'], 'answer_start': [60]}\n",
       "Name: 488, dtype: object"
      ]
     },
     "metadata": {},
     "output_type": "display_data"
    },
    {
     "data": {
      "text/plain": [
       "id                                   56be99b53aeaaa14008c913e\n",
       "title                                                 Beyoncé\n",
       "context     In 2011, documents obtained by WikiLeaks revea...\n",
       "question    In which year was reports about Beyonce perfor...\n",
       "answers               {'text': ['2011'], 'answer_start': [3]}\n",
       "Name: 499, dtype: object"
      ]
     },
     "metadata": {},
     "output_type": "display_data"
    },
    {
     "data": {
      "text/plain": [
       "id                                   56be9add3aeaaa14008c9152\n",
       "title                                                 Beyoncé\n",
       "context     Her fourth studio album 4 was released on June...\n",
       "question         Beyonce's fourth album debuted in what year?\n",
       "answers              {'text': ['2011'], 'answer_start': [51]}\n",
       "Name: 512, dtype: object"
      ]
     },
     "metadata": {},
     "output_type": "display_data"
    },
    {
     "data": {
      "text/plain": [
       "id                                   56be9bb83aeaaa14008c915c\n",
       "title                                                 Beyoncé\n",
       "context     On January 7, 2012, Beyoncé gave birth to her ...\n",
       "question               When did Beyonce have her first child?\n",
       "answers     {'text': ['January 7, 2012'], 'answer_start': ...\n",
       "Name: 525, dtype: object"
      ]
     },
     "metadata": {},
     "output_type": "display_data"
    },
    {
     "data": {
      "text/plain": [
       "id                                   56be9c863aeaaa14008c9166\n",
       "title                                                 Beyoncé\n",
       "context     In January 2013, Destiny's Child released Love...\n",
       "question    Destiny's Child released a compilation album a...\n",
       "answers           {'text': ['romance'], 'answer_start': [81]}\n",
       "Name: 538, dtype: object"
      ]
     },
     "metadata": {},
     "output_type": "display_data"
    },
    {
     "data": {
      "text/plain": [
       "id                                   56be9d3d3aeaaa14008c9170\n",
       "title                                                 Beyoncé\n",
       "context     Beyoncé embarked on The Mrs. Carter Show World...\n",
       "question    How many dates did Beyonce's \"The Mrs. Carter ...\n",
       "answers              {'text': ['132'], 'answer_start': [103]}\n",
       "Name: 550, dtype: object"
      ]
     },
     "metadata": {},
     "output_type": "display_data"
    },
    {
     "data": {
      "text/plain": [
       "id                                   56be9e453aeaaa14008c917a\n",
       "title                                                 Beyoncé\n",
       "context     On December 13, 2013, Beyoncé unexpectedly rel...\n",
       "question    Where did Beyonce release her 5th album to a h...\n",
       "answers     {'text': ['the iTunes Store'], 'answer_start':...\n",
       "Name: 563, dtype: object"
      ]
     },
     "metadata": {},
     "output_type": "display_data"
    },
    {
     "data": {
      "text/plain": [
       "id                                   56be9eea3aeaaa14008c9184\n",
       "title                                                 Beyoncé\n",
       "context     At the 57th Annual Grammy Awards in February 2...\n",
       "question    How many awards did Beyonce take home with her...\n",
       "answers            {'text': ['three'], 'answer_start': [108]}\n",
       "Name: 573, dtype: object"
      ]
     },
     "metadata": {},
     "output_type": "display_data"
    },
    {
     "data": {
      "text/plain": [
       "id                                   56bea27b3aeaaa14008c9199\n",
       "title                                                 Beyoncé\n",
       "context     On February 6, 2016, one day before her perfor...\n",
       "question    Beyonce released the song \"Formation\" on which...\n",
       "answers            {'text': ['Tidal'], 'answer_start': [140]}\n",
       "Name: 589, dtype: object"
      ]
     },
     "metadata": {},
     "output_type": "display_data"
    },
    {
     "data": {
      "text/plain": [
       "id                                   56bea5f23aeaaa14008c91a1\n",
       "title                                                 Beyoncé\n",
       "context     Beyoncé is believed to have first started a re...\n",
       "question    As of April 2014, how many albums have Jay Z a...\n",
       "answers      {'text': ['300 million'], 'answer_start': [447]}\n",
       "Name: 597, dtype: object"
      ]
     },
     "metadata": {},
     "output_type": "display_data"
    },
    {
     "data": {
      "text/plain": [
       "id                                   56bea8463aeaaa14008c91a9\n",
       "title                                                 Beyoncé\n",
       "context     In August, the couple attended the 2011 MTV Vi...\n",
       "question    Jay Z and Beyonce attended which event togethe...\n",
       "answers     {'text': ['MTV Video Music Awards'], 'answer_s...\n",
       "Name: 610, dtype: object"
      ]
     },
     "metadata": {},
     "output_type": "display_data"
    },
    {
     "data": {
      "text/plain": [
       "id                                   56bea9043aeaaa14008c91b1\n",
       "title                                                 Beyoncé\n",
       "context     On January 7, 2012, Beyoncé gave birth to a da...\n",
       "question                     Jay Z has a website called what?\n",
       "answers     {'text': ['Lifeandtimes.com'], 'answer_start':...\n",
       "Name: 622, dtype: object"
      ]
     },
     "metadata": {},
     "output_type": "display_data"
    },
    {
     "data": {
      "text/plain": [
       "id                                   56beab283aeaaa14008c91cc\n",
       "title                                                 Beyoncé\n",
       "context     Beyoncé and husband Jay Z are friends with Pre...\n",
       "question    Beyonce and Jay-Z went to a rally for the acqu...\n",
       "answers     {'text': ['George Zimmerman'], 'answer_start':...\n",
       "Name: 634, dtype: object"
      ]
     },
     "metadata": {},
     "output_type": "display_data"
    },
    {
     "data": {
      "text/plain": [
       "id                                   56beabab3aeaaa14008c91db\n",
       "title                                                 Beyoncé\n",
       "context     In an interview published by Vogue in April 20...\n",
       "question    Beyonce did an interview with which magazine a...\n",
       "answers             {'text': ['Vogue'], 'answer_start': [29]}\n",
       "Name: 644, dtype: object"
      ]
     },
     "metadata": {},
     "output_type": "display_data"
    },
    {
     "data": {
      "text/plain": [
       "id                                   56beb0683aeaaa14008c9211\n",
       "title                                                 Beyoncé\n",
       "context     In 2015 Beyoncé signed an open letter which th...\n",
       "question            Beyonce signed a letter with who in 2015?\n",
       "answers     {'text': ['the ONE Campaign'], 'answer_start':...\n",
       "Name: 653, dtype: object"
      ]
     },
     "metadata": {},
     "output_type": "display_data"
    },
    {
     "data": {
      "text/plain": [
       "id                                   56beb2a43aeaaa14008c9239\n",
       "title                                                 Beyoncé\n",
       "context     Following the death of Freddie Gray, Beyoncé a...\n",
       "question    Beyonce along with Jay Z met with whom's famil...\n",
       "answers      {'text': ['Freddie Gray'], 'answer_start': [23]}\n",
       "Name: 665, dtype: object"
      ]
     },
     "metadata": {},
     "output_type": "display_data"
    },
    {
     "data": {
      "text/plain": [
       "id                                   56beb4023aeaaa14008c9252\n",
       "title                                                 Beyoncé\n",
       "context     Forbes magazine began reporting on Beyoncé's e...\n",
       "question    Beyonce beat out which musical artists for mos...\n",
       "answers     {'text': ['Madonna and Celine Dion'], 'answer_...\n",
       "Name: 669, dtype: object"
      ]
     },
     "metadata": {},
     "output_type": "display_data"
    },
    {
     "data": {
      "text/plain": [
       "id                                   56beb50f3aeaaa14008c926f\n",
       "title                                                 Beyoncé\n",
       "context     Beyoncé's vocal range spans four octaves. Jody...\n",
       "question      Beyonce's range in singing is how many octaves?\n",
       "answers              {'text': ['four'], 'answer_start': [28]}\n",
       "Name: 682, dtype: object"
      ]
     },
     "metadata": {},
     "output_type": "display_data"
    },
    {
     "data": {
      "text/plain": [
       "id                                   56beb5b23aeaaa14008c9283\n",
       "title                                                 Beyoncé\n",
       "context     Beyoncé's music is generally R&B, but she also...\n",
       "question    Music from Beyonce is generally categorized as...\n",
       "answers               {'text': ['R&B'], 'answer_start': [29]}\n",
       "Name: 694, dtype: object"
      ]
     },
     "metadata": {},
     "output_type": "display_data"
    },
    {
     "data": {
      "text/plain": [
       "id                                   56beb67d3aeaaa14008c929a\n",
       "title                                                 Beyoncé\n",
       "context     She has received co-writing credits for most o...\n",
       "question    Beyonce does not create which aspect of her mu...\n",
       "answers            {'text': ['beats'], 'answer_start': [521]}\n",
       "Name: 707, dtype: object"
      ]
     },
     "metadata": {},
     "output_type": "display_data"
    },
    {
     "data": {
      "text/plain": [
       "id                                   56beb9203aeaaa14008c92d1\n",
       "title                                                 Beyoncé\n",
       "context     In 2001, she became the first African-American...\n",
       "question    Pop Songwriter of the Year award in 2001 was a...\n",
       "answers          {'text': ['Beyoncé'], 'answer_start': [205]}\n",
       "Name: 716, dtype: object"
      ]
     },
     "metadata": {},
     "output_type": "display_data"
    },
    {
     "data": {
      "text/plain": [
       "id                                   56beba293aeaaa14008c92ef\n",
       "title                                                 Beyoncé\n",
       "context     Beyoncé names Michael Jackson as her major mus...\n",
       "question    To whom did Beyonce credit as her major influe...\n",
       "answers     {'text': ['Michael Jackson'], 'answer_start': ...\n",
       "Name: 728, dtype: object"
      ]
     },
     "metadata": {},
     "output_type": "display_data"
    },
    {
     "data": {
      "text/plain": [
       "id                                   56bebba63aeaaa14008c930b\n",
       "title                                                 Beyoncé\n",
       "context     The feminism and female empowerment themes on ...\n",
       "question    What themes were influenced by her acting role...\n",
       "answers     {'text': ['feminism and female empowerment'], ...\n",
       "Name: 739, dtype: object"
      ]
     },
     "metadata": {},
     "output_type": "display_data"
    },
    {
     "data": {
      "text/plain": [
       "id                                   56bec1c53aeaaa14008c936b\n",
       "title                                                 Beyoncé\n",
       "context     Beyoncé has stated that she is personally insp...\n",
       "question    Beyonce has noted which first lady with saying...\n",
       "answers     {'text': ['Michelle Obama'], 'answer_start': [...\n",
       "Name: 747, dtype: object"
      ]
     },
     "metadata": {},
     "output_type": "display_data"
    },
    {
     "data": {
      "text/plain": [
       "id                                   56bec29b3aeaaa14008c937f\n",
       "title                                                 Beyoncé\n",
       "context     In 2006, Beyoncé introduced her all-female tou...\n",
       "question    Beyonce had an all-female tour band whose name...\n",
       "answers         {'text': ['Suga Mama'], 'answer_start': [53]}\n",
       "Name: 759, dtype: object"
      ]
     },
     "metadata": {},
     "output_type": "display_data"
    },
    {
     "data": {
      "text/plain": [
       "id                                   56bec3303aeaaa14008c9391\n",
       "title                                                 Beyoncé\n",
       "context     Beyoncé has received praise for her stage pres...\n",
       "question    What characteristics has Beyonce received accl...\n",
       "answers     {'text': ['stage presence and voice'], 'answer...\n",
       "Name: 771, dtype: object"
      ]
     },
     "metadata": {},
     "output_type": "display_data"
    },
    {
     "data": {
      "text/plain": [
       "id                                   56bec3ea3aeaaa14008c939f\n",
       "title                                                 Beyoncé\n",
       "context     Described as being \"sexy, seductive and provoc...\n",
       "question     Beyonce self proclaimed alter ego is named what?\n",
       "answers     {'text': ['Sasha Fierce'], 'answer_start': [139]}\n",
       "Name: 779, dtype: object"
      ]
     },
     "metadata": {},
     "output_type": "display_data"
    },
    {
     "data": {
      "text/plain": [
       "id                                   56bec4de3aeaaa14008c93bb\n",
       "title                                                 Beyoncé\n",
       "context     Beyoncé has been described as a having a wide-...\n",
       "question       Beyonce's sex appeal is characterized as what?\n",
       "answers      {'text': ['wide-ranging'], 'answer_start': [41]}\n",
       "Name: 789, dtype: object"
      ]
     },
     "metadata": {},
     "output_type": "display_data"
    },
    {
     "data": {
      "text/plain": [
       "id                                   56bec5d53aeaaa14008c93d9\n",
       "title                                                 Beyoncé\n",
       "context     In September 2010, Beyoncé made her runway mod...\n",
       "question    in September 2010, what career area did Beyonc...\n",
       "answers         {'text': ['modelling'], 'answer_start': [43]}\n",
       "Name: 800, dtype: object"
      ]
     },
     "metadata": {},
     "output_type": "display_data"
    },
    {
     "data": {
      "text/plain": [
       "id                                   56bec6763aeaaa14008c93f4\n",
       "title                                                 Beyoncé\n",
       "context     According to Italian fashion designer Roberto ...\n",
       "question      Which parent of Beyonce's help co-write a book?\n",
       "answers       {'text': ['Her mother'], 'answer_start': [134]}\n",
       "Name: 813, dtype: object"
      ]
     },
     "metadata": {},
     "output_type": "display_data"
    },
    {
     "data": {
      "text/plain": [
       "id                                   56bec6de3aeaaa14008c9407\n",
       "title                                                 Beyoncé\n",
       "context     The Bey Hive is the name given to Beyoncé's fa...\n",
       "question    Beyonce has a fan base that is referred to as ...\n",
       "answers       {'text': ['The Bey Hive'], 'answer_start': [0]}\n",
       "Name: 820, dtype: object"
      ]
     },
     "metadata": {},
     "output_type": "display_data"
    },
    {
     "data": {
      "text/plain": [
       "id                                   56bec7b63aeaaa14008c9422\n",
       "title                                                 Beyoncé\n",
       "context     In 2006, the animal rights organization People...\n",
       "question           Beyonce has a clothing line known as what?\n",
       "answers     {'text': ['House of Deréon'], 'answer_start': ...\n",
       "Name: 828, dtype: object"
      ]
     },
     "metadata": {},
     "output_type": "display_data"
    },
    {
     "data": {
      "text/plain": [
       "id                                   56bec8a13aeaaa14008c943f\n",
       "title                                                 Beyoncé\n",
       "context     Beyoncé's lighter skin color and costuming has...\n",
       "question    Which racial community gave criticism to Beyonce?\n",
       "answers     {'text': ['African-American'], 'answer_start':...\n",
       "Name: 838, dtype: object"
      ]
     },
     "metadata": {},
     "output_type": "display_data"
    },
    {
     "data": {
      "text/plain": [
       "id                                   56bec94f3aeaaa14008c944f\n",
       "title                                                 Beyoncé\n",
       "context     In The New Yorker music critic Jody Rosen desc...\n",
       "question    Artist of the Decade was bestowed upon Beyonce...\n",
       "answers     {'text': ['The Guardian'], 'answer_start': [215]}\n",
       "Name: 848, dtype: object"
      ]
     },
     "metadata": {},
     "output_type": "display_data"
    },
    {
     "data": {
      "text/plain": [
       "id                                   56bec9f13aeaaa14008c9467\n",
       "title                                                 Beyoncé\n",
       "context     Beyoncé's work has influenced numerous artists...\n",
       "question    Which rock band cited Beyonce on their third a...\n",
       "answers     {'text': ['White Rabbits'], 'answer_start': [2...\n",
       "Name: 860, dtype: object"
      ]
     },
     "metadata": {},
     "output_type": "display_data"
    },
    {
     "data": {
      "text/plain": [
       "id                                   56beca973aeaaa14008c9477\n",
       "title                                                 Beyoncé\n",
       "context     Her debut single, \"Crazy in Love\" was named VH...\n",
       "question    VH1 declared what song the \"Greatest song of t...\n",
       "answers     {'text': ['Crazy in Love'], 'answer_start': [19]}\n",
       "Name: 872, dtype: object"
      ]
     },
     "metadata": {},
     "output_type": "display_data"
    },
    {
     "data": {
      "text/plain": [
       "id                                   56becb8d3aeaaa14008c9495\n",
       "title                                                 Beyoncé\n",
       "context     Beyoncé has received numerous awards. As a sol...\n",
       "question    How many copies of her albums as Beyonce sold ...\n",
       "answers        {'text': ['15 million'], 'answer_start': [73]}\n",
       "Name: 884, dtype: object"
      ]
     },
     "metadata": {},
     "output_type": "display_data"
    },
    {
     "data": {
      "text/plain": [
       "id                                   56becc903aeaaa14008c949f\n",
       "title                                                 Beyoncé\n",
       "context     Beyoncé has won 20 Grammy Awards, both as a so...\n",
       "question    How many Grammys has Beyonce won total with an...\n",
       "answers                {'text': ['20'], 'answer_start': [16]}\n",
       "Name: 899, dtype: object"
      ]
     },
     "metadata": {},
     "output_type": "display_data"
    },
    {
     "data": {
      "text/plain": [
       "id                                   56bed07e3aeaaa14008c94a9\n",
       "title                                                 Beyoncé\n",
       "context     Beyoncé has worked with Pepsi since 2002, and ...\n",
       "question    Which soda company has Beyonce partnered with ...\n",
       "answers             {'text': ['Pepsi'], 'answer_start': [24]}\n",
       "Name: 912, dtype: object"
      ]
     },
     "metadata": {},
     "output_type": "display_data"
    },
    {
     "data": {
      "text/plain": [
       "id                                   56bed1243aeaaa14008c94b3\n",
       "title                                                 Beyoncé\n",
       "context     Beyoncé has worked with Tommy Hilfiger for the...\n",
       "question    Beyonce worked with who on her perfumes, True ...\n",
       "answers     {'text': ['Tommy Hilfiger'], 'answer_start': [...\n",
       "Name: 924, dtype: object"
      ]
     },
     "metadata": {},
     "output_type": "display_data"
    },
    {
     "data": {
      "text/plain": [
       "id                                   56bed17a3aeaaa14008c94bd\n",
       "title                                                 Beyoncé\n",
       "context     The release of a video-game Starpower: Beyoncé...\n",
       "question    How young was Beyonce when she acquired deals ...\n",
       "answers               {'text': ['18'], 'answer_start': [450]}\n",
       "Name: 937, dtype: object"
      ]
     },
     "metadata": {},
     "output_type": "display_data"
    },
    {
     "data": {
      "text/plain": [
       "id                                   56bed22d3aeaaa14008c94c1\n",
       "title                                                 Beyoncé\n",
       "context     In October 2014, it was announced that Beyoncé...\n",
       "question    Who did Bayonce's management go into business ...\n",
       "answers     {'text': ['fashion retailer Topshop'], 'answer...\n",
       "Name: 947, dtype: object"
      ]
     },
     "metadata": {},
     "output_type": "display_data"
    },
    {
     "data": {
      "text/plain": [
       "id                                   56bed2993aeaaa14008c94c9\n",
       "title                                                 Beyoncé\n",
       "context     On March 30, 2015, it was announced that Beyon...\n",
       "question    When was it discovered Beyonce was a co-owner ...\n",
       "answers     {'text': ['March 30, 2015'], 'answer_start': [3]}\n",
       "Name: 957, dtype: object"
      ]
     },
     "metadata": {},
     "output_type": "display_data"
    },
    {
     "data": {
      "text/plain": [
       "id                                   56bed32f3aeaaa14008c94cf\n",
       "title                                                 Beyoncé\n",
       "context     Beyoncé and her mother introduced House of Der...\n",
       "question    House of Dereon became known through Beyonce a...\n",
       "answers        {'text': ['her mother'], 'answer_start': [12]}\n",
       "Name: 966, dtype: object"
      ]
     },
     "metadata": {},
     "output_type": "display_data"
    },
    {
     "data": {
      "text/plain": [
       "id                                   56bed38e3aeaaa14008c94d9\n",
       "title                                                 Beyoncé\n",
       "context     In 2005, Beyoncé teamed up with House of Brand...\n",
       "question    What type of accessory company did Beyonce par...\n",
       "answers              {'text': ['shoe'], 'answer_start': [51]}\n",
       "Name: 977, dtype: object"
      ]
     },
     "metadata": {},
     "output_type": "display_data"
    },
    {
     "data": {
      "text/plain": [
       "id                                   56bed3e63aeaaa14008c94e0\n",
       "title                                                 Beyoncé\n",
       "context     In October 2014, Beyoncé signed a deal to laun...\n",
       "question    Beyonce, during October 2014, partnered with w...\n",
       "answers          {'text': ['Topshop'], 'answer_start': [110]}\n",
       "Name: 988, dtype: object"
      ]
     },
     "metadata": {},
     "output_type": "display_data"
    },
    {
     "data": {
      "text/plain": [
       "id                                   56bed4553aeaaa14008c94e5\n",
       "title                                                 Beyoncé\n",
       "context     After Hurricane Katrina in 2005, Beyoncé and R...\n",
       "question    What national disaster caused Beyonce to creat...\n",
       "answers     {'text': ['Hurricane Katrina'], 'answer_start'...\n",
       "Name: 996, dtype: object"
      ]
     },
     "metadata": {},
     "output_type": "display_data"
    },
    {
     "data": {
      "text/plain": [
       "id                                   56bed4c23aeaaa14008c94ed\n",
       "title                                                 Beyoncé\n",
       "context     Beyoncé participated in George Clooney and Wyc...\n",
       "question    Who did Beyonce participate with in the Hope f...\n",
       "answers     {'text': ['George Clooney and Wyclef Jean'], '...\n",
       "Name: 1005, dtype: object"
      ]
     },
     "metadata": {},
     "output_type": "display_data"
    },
    {
     "data": {
      "text/plain": [
       "id                                   56bed5983aeaaa14008c94f3\n",
       "title                                                 Beyoncé\n",
       "context     In December, Beyoncé along with a variety of o...\n",
       "question    Which national event caused Beyonce to produce...\n",
       "answers     {'text': ['Sandy Hook Elementary School shooti...\n",
       "Name: 1015, dtype: object"
      ]
     },
     "metadata": {},
     "output_type": "display_data"
    },
    {
     "data": {
      "text/plain": [
       "id                                   5733bd9bd058e614000b6199\n",
       "title                                                 Montana\n",
       "context     Montana i/mɒnˈtænə/ is a state in the Western ...\n",
       "question               Where does the state's name come from?\n",
       "answers     {'text': ['Spanish word montaña (mountain)'], ...\n",
       "Name: 1027, dtype: object"
      ]
     },
     "metadata": {},
     "output_type": "display_data"
    },
    {
     "data": {
      "text/plain": [
       "id                                   5733d7164776f4190066132e\n",
       "title                                                 Montana\n",
       "context     Montana schoolchildren played a significant ro...\n",
       "question               What year was the state tree selected?\n",
       "answers             {'text': ['1908'], 'answer_start': [240]}\n",
       "Name: 1032, dtype: object"
      ]
     },
     "metadata": {},
     "output_type": "display_data"
    },
    {
     "data": {
      "text/plain": [
       "id                                   5733d7fd4776f41900661342\n",
       "title                                                 Montana\n",
       "context     The state song was not composed until 21 years...\n",
       "question                    When was the state song composed?\n",
       "answers             {'text': ['1910'], 'answer_start': [140]}\n",
       "Name: 1037, dtype: object"
      ]
     },
     "metadata": {},
     "output_type": "display_data"
    },
    {
     "data": {
      "text/plain": [
       "id                                   5733d858d058e614000b63c7\n",
       "title                                                 Montana\n",
       "context     Montana's motto, Oro y Plata, Spanish for \"Gol...\n",
       "question                            What is Montana's motto? \n",
       "answers       {'text': ['Oro y Plata'], 'answer_start': [17]}\n",
       "Name: 1038, dtype: object"
      ]
     },
     "metadata": {},
     "output_type": "display_data"
    },
    {
     "data": {
      "text/plain": [
       "id                                   5733e9864776f419006614cc\n",
       "title                                                 Montana\n",
       "context     The state also has five Micropolitan Statistic...\n",
       "question    How much of the states population does the \"Bi...\n",
       "answers       {'text': ['35 percent'], 'answer_start': [628]}\n",
       "Name: 1043, dtype: object"
      ]
     },
     "metadata": {},
     "output_type": "display_data"
    },
    {
     "data": {
      "text/plain": [
       "id                                   5733eefe4776f4190066154b\n",
       "title                                                 Montana\n",
       "context     Montana has 56 counties with the United States...\n",
       "question                 How many counties does Montana have?\n",
       "answers                {'text': ['56'], 'answer_start': [12]}\n",
       "Name: 1044, dtype: object"
      ]
     },
     "metadata": {},
     "output_type": "display_data"
    },
    {
     "data": {
      "text/plain": [
       "id                                   5733f18ad058e614000b6643\n",
       "title                                                 Montana\n",
       "context     The name Montana comes from the Spanish word M...\n",
       "question                    Where does the state's name mean?\n",
       "answers        {'text': ['\"mountain\"'], 'answer_start': [62]}\n",
       "Name: 1047, dtype: object"
      ]
     },
     "metadata": {},
     "output_type": "display_data"
    },
    {
     "data": {
      "text/plain": [
       "id                                   5733f5d34776f419006615bb\n",
       "title                                                 Montana\n",
       "context     With a total area of 147,040 square miles (380...\n",
       "question                   What is the total area of Montana?\n",
       "answers     {'text': ['147,040 square miles'], 'answer_sta...\n",
       "Name: 1049, dtype: object"
      ]
     },
     "metadata": {},
     "output_type": "display_data"
    },
    {
     "data": {
      "text/plain": [
       "id                                   573408fed058e614000b6835\n",
       "title                                                 Montana\n",
       "context     The topography of the state is roughly defined...\n",
       "question        Where are most of the states mountain ranges?\n",
       "answers     {'text': ['western half of the state'], 'answe...\n",
       "Name: 1052, dtype: object"
      ]
     },
     "metadata": {},
     "output_type": "display_data"
    },
    {
     "data": {
      "text/plain": [
       "id                                   573409bed058e614000b6839\n",
       "title                                                 Montana\n",
       "context     The northern section of the Divide, where the ...\n",
       "question    Which direction do the rivers flow near the Tr...\n",
       "answers            {'text': ['north'], 'answer_start': [485]}\n",
       "Name: 1054, dtype: object"
      ]
     },
     "metadata": {},
     "output_type": "display_data"
    },
    {
     "data": {
      "text/plain": [
       "id                                   57340a0dd058e614000b6851\n",
       "title                                                 Montana\n",
       "context     East of the divide, several roughly parallel r...\n",
       "question                   How high is the Beartooth Plateau?\n",
       "answers     {'text': ['over 10,000 feet'], 'answer_start':...\n",
       "Name: 1056, dtype: object"
      ]
     },
     "metadata": {},
     "output_type": "display_data"
    },
    {
     "data": {
      "text/plain": [
       "id                                   57340bdf4776f419006617a3\n",
       "title                                                 Montana\n",
       "context     However, at the state level, the pattern of sp...\n",
       "question    How many seats do Democrats hold in the state ...\n",
       "answers              {'text': ['one'], 'answer_start': [119]}\n",
       "Name: 1059, dtype: object"
      ]
     },
     "metadata": {},
     "output_type": "display_data"
    },
    {
     "data": {
      "text/plain": [
       "id                                   57341184d058e614000b68da\n",
       "title                                                 Montana\n",
       "context     In presidential elections, Montana was long cl...\n",
       "question            In elections, what is Montana considered?\n",
       "answers     {'text': ['a swing state'], 'answer_start': [58]}\n",
       "Name: 1063, dtype: object"
      ]
     },
     "metadata": {},
     "output_type": "display_data"
    },
    {
     "data": {
      "text/plain": [
       "id                                   573412ebd058e614000b68f0\n",
       "title                                                 Montana\n",
       "context     Bozeman Yellowstone International Airport is t...\n",
       "question    What is the name of the busiest airport in Mon...\n",
       "answers     {'text': ['Bozeman Yellowstone International A...\n",
       "Name: 1067, dtype: object"
      ]
     },
     "metadata": {},
     "output_type": "display_data"
    },
    {
     "data": {
      "text/plain": [
       "id                                   573413594776f41900661803\n",
       "title                                                 Montana\n",
       "context     Railroads have been an important method of tra...\n",
       "question                  What is the states largest railway?\n",
       "answers     {'text': ['BNSF Railway'], 'answer_start': [263]}\n",
       "Name: 1069, dtype: object"
      ]
     },
     "metadata": {},
     "output_type": "display_data"
    },
    {
     "data": {
      "text/plain": [
       "id                                   573414644776f4190066180d\n",
       "title                                                 Montana\n",
       "context     Montana is home to the Rocky Mountain Elk Foun...\n",
       "question    What is the name of the big game hunting found...\n",
       "answers     {'text': ['Rocky Mountain Elk Foundation'], 'a...\n",
       "Name: 1071, dtype: object"
      ]
     },
     "metadata": {},
     "output_type": "display_data"
    },
    {
     "data": {
      "text/plain": [
       "id                                   57341539d058e614000b6906\n",
       "title                                                 Montana\n",
       "context     Montana has been a destination for its world-c...\n",
       "question    Since when has Montana been a destination for ...\n",
       "answers             {'text': ['1930s'], 'answer_start': [77]}\n",
       "Name: 1074, dtype: object"
      ]
     },
     "metadata": {},
     "output_type": "display_data"
    },
    {
     "data": {
      "text/plain": [
       "id                                   5734161dd058e614000b690e\n",
       "title                                                 Montana\n",
       "context     The Montana Territory was formed on April 26, ...\n",
       "question               When was the Montana Territory formed?\n",
       "answers     {'text': ['April 26, 1864'], 'answer_start': [...\n",
       "Name: 1078, dtype: object"
      ]
     },
     "metadata": {},
     "output_type": "display_data"
    },
    {
     "data": {
      "text/plain": [
       "id                                   573416974776f41900661835\n",
       "title                                                 Montana\n",
       "context     Montana contains thousands of named rivers and...\n",
       "question    How many miles of rivers are known for high cl...\n",
       "answers               {'text': ['450'], 'answer_start': [55]}\n",
       "Name: 1082, dtype: object"
      ]
     },
     "metadata": {},
     "output_type": "display_data"
    },
    {
     "data": {
      "text/plain": [
       "id                                   5734173b4776f4190066184f\n",
       "title                                                 Montana\n",
       "context     East of the divide the Missouri River, which i...\n",
       "question                 What rivers form the Missouri River?\n",
       "answers     {'text': ['Jefferson, Madison and Gallatin riv...\n",
       "Name: 1086, dtype: object"
      ]
     },
     "metadata": {},
     "output_type": "display_data"
    },
    {
     "data": {
      "text/plain": [
       "id                                   57341835d058e614000b693e\n",
       "title                                                 Montana\n",
       "context     The Yellowstone River rises on the continental...\n",
       "question    Which direction does the Yellowstone River flo...\n",
       "answers            {'text': ['north'], 'answer_start': [111]}\n",
       "Name: 1090, dtype: object"
      ]
     },
     "metadata": {},
     "output_type": "display_data"
    },
    {
     "data": {
      "text/plain": [
       "id                                   5734192ad058e614000b6942\n",
       "title                                                 Montana\n",
       "context     There are at least 3,223 named lakes and reser...\n",
       "question           How many named lakes are there in Montana?\n",
       "answers     {'text': ['at least 3,223'], 'answer_start': [...\n",
       "Name: 1092, dtype: object"
      ]
     },
     "metadata": {},
     "output_type": "display_data"
    },
    {
     "data": {
      "text/plain": [
       "id                                   573419714776f41900661871\n",
       "title                                                 Montana\n",
       "context     Vegetation of the state includes lodgepole pin...\n",
       "question      About how much area do forests cover the state?\n",
       "answers     {'text': ['approximately 25 percent'], 'answer...\n",
       "Name: 1096, dtype: object"
      ]
     },
     "metadata": {},
     "output_type": "display_data"
    },
    {
     "data": {
      "text/plain": [
       "id                                   57341b484776f41900661885\n",
       "title                                                 Montana\n",
       "context     Montana is home to a diverse array of fauna th...\n",
       "question    How many different types of fish are diverse t...\n",
       "answers                {'text': ['90'], 'answer_start': [72]}\n",
       "Name: 1097, dtype: object"
      ]
     },
     "metadata": {},
     "output_type": "display_data"
    },
    {
     "data": {
      "text/plain": [
       "id                                   57341c46d058e614000b6954\n",
       "title                                                 Montana\n",
       "context     Average annual precipitation is 15 inches (380...\n",
       "question                    What is the annual precipitation?\n",
       "answers         {'text': ['15 inches'], 'answer_start': [32]}\n",
       "Name: 1101, dtype: object"
      ]
     },
     "metadata": {},
     "output_type": "display_data"
    },
    {
     "data": {
      "text/plain": [
       "id                                   57341cf4d058e614000b6964\n",
       "title                                                 Montana\n",
       "context     Montana's personal income tax contains 7 brack...\n",
       "question             How many tax brackets does Montana have?\n",
       "answers                 {'text': ['7'], 'answer_start': [39]}\n",
       "Name: 1104, dtype: object"
      ]
     },
     "metadata": {},
     "output_type": "display_data"
    },
    {
     "data": {
      "text/plain": [
       "id                                   57341d964776f419006618b3\n",
       "title                                                 Montana\n",
       "context     Approximately 66,000 people of Native American...\n",
       "question     About how many Native Americans live in Montana?\n",
       "answers     {'text': ['Approximately 66,000'], 'answer_sta...\n",
       "Name: 1107, dtype: object"
      ]
     },
     "metadata": {},
     "output_type": "display_data"
    },
    {
     "data": {
      "text/plain": [
       "id                                   57341fc9d058e614000b6974\n",
       "title                                                 Montana\n",
       "context     While the largest European-American population...\n",
       "question    What is the largest European-American race in ...\n",
       "answers            {'text': ['German'], 'answer_start': [69]}\n",
       "Name: 1112, dtype: object"
      ]
     },
     "metadata": {},
     "output_type": "display_data"
    },
    {
     "data": {
      "text/plain": [
       "id                                   5734205b4776f419006618e7\n",
       "title                                                 Montana\n",
       "context     Montana has a larger Native American populatio...\n",
       "question    What percentage of the population in Montana a...\n",
       "answers      {'text': ['6.5 percent'], 'answer_start': [261]}\n",
       "Name: 1114, dtype: object"
      ]
     },
     "metadata": {},
     "output_type": "display_data"
    },
    {
     "data": {
      "text/plain": [
       "id                                   573420e34776f419006618ed\n",
       "title                                                 Montana\n",
       "context     The climate has become warmer in Montana and c...\n",
       "question    In what year did many cities in Montana set he...\n",
       "answers             {'text': ['2007'], 'answer_start': [225]}\n",
       "Name: 1117, dtype: object"
      ]
     },
     "metadata": {},
     "output_type": "display_data"
    },
    {
     "data": {
      "text/plain": [
       "id                                   5734215f4776f419006618fb\n",
       "title                                                 Montana\n",
       "context     As white settlers began populating Montana fro...\n",
       "question            What year was the Hellgate treaty formed?\n",
       "answers             {'text': ['1855'], 'answer_start': [162]}\n",
       "Name: 1120, dtype: object"
      ]
     },
     "metadata": {},
     "output_type": "display_data"
    },
    {
     "data": {
      "text/plain": [
       "id                                   573421c4d058e614000b69aa\n",
       "title                                                 Montana\n",
       "context     The first U.S. Army post established in Montan...\n",
       "question         What was the name of the first US Army post?\n",
       "answers        {'text': ['Camp Cooke'], 'answer_start': [52]}\n",
       "Name: 1124, dtype: object"
      ]
     },
     "metadata": {},
     "output_type": "display_data"
    },
    {
     "data": {
      "text/plain": [
       "id                                   5734227dd058e614000b69bc\n",
       "title                                                 Montana\n",
       "context     English is the official language in the state ...\n",
       "question            What is the official language of Montana?\n",
       "answers            {'text': ['English'], 'answer_start': [0]}\n",
       "Name: 1128, dtype: object"
      ]
     },
     "metadata": {},
     "output_type": "display_data"
    },
    {
     "data": {
      "text/plain": [
       "id                                   573422e44776f41900661927\n",
       "title                                                 Montana\n",
       "context     According to the 2010 Census, 89.4 percent of ...\n",
       "question                  What percent of the state is White?\n",
       "answers      {'text': ['89.4 percent'], 'answer_start': [30]}\n",
       "Name: 1133, dtype: object"
      ]
     },
     "metadata": {},
     "output_type": "display_data"
    },
    {
     "data": {
      "text/plain": [
       "id                                   573424434776f41900661941\n",
       "title                                                 Montana\n",
       "context     The United States Census Bureau estimates that...\n",
       "question        What was the population of the state in 2015?\n",
       "answers         {'text': ['1,032,949'], 'answer_start': [77]}\n",
       "Name: 1136, dtype: object"
      ]
     },
     "metadata": {},
     "output_type": "display_data"
    },
    {
     "data": {
      "text/plain": [
       "id                                   573424d74776f41900661949\n",
       "title                                                 Montana\n",
       "context     In 1940, Jeannette Rankin had once again been ...\n",
       "question    What year was Jeannette Rankin vote against wa...\n",
       "answers              {'text': ['1917'], 'answer_start': [94]}\n",
       "Name: 1140, dtype: object"
      ]
     },
     "metadata": {},
     "output_type": "display_data"
    },
    {
     "data": {
      "text/plain": [
       "id                                   573425624776f41900661959\n",
       "title                                                 Montana\n",
       "context     Simultaneously with these conflicts, bison, a ...\n",
       "question        About how many bison were in Montana in 1870?\n",
       "answers     {'text': ['over 13 million'], 'answer_start': ...\n",
       "Name: 1143, dtype: object"
      ]
     },
     "metadata": {},
     "output_type": "display_data"
    },
    {
     "data": {
      "text/plain": [
       "id                                   573425f84776f41900661969\n",
       "title                                                 Montana\n",
       "context     Tracks of the Northern Pacific Railroad (NPR) ...\n",
       "question    When did the Northern Pacific Railroad reach M...\n",
       "answers              {'text': ['1881'], 'answer_start': [79]}\n",
       "Name: 1147, dtype: object"
      ]
     },
     "metadata": {},
     "output_type": "display_data"
    },
    {
     "data": {
      "text/plain": [
       "id                                   573426864776f4190066197d\n",
       "title                                                 Montana\n",
       "context     Under Territorial Governor Thomas Meagher, Mon...\n",
       "question    When was the first constitutional convention h...\n",
       "answers              {'text': ['1866'], 'answer_start': [89]}\n",
       "Name: 1152, dtype: object"
      ]
     },
     "metadata": {},
     "output_type": "display_data"
    },
    {
     "data": {
      "text/plain": [
       "id                                   573426e6d058e614000b6a20\n",
       "title                                                 Montana\n",
       "context     The Homestead Act of 1862 provided free land t...\n",
       "question    What year did the Homestead Act provide land t...\n",
       "answers              {'text': ['1862'], 'answer_start': [21]}\n",
       "Name: 1157, dtype: object"
      ]
     },
     "metadata": {},
     "output_type": "display_data"
    },
    {
     "data": {
      "text/plain": [
       "id                                   57342785d058e614000b6a2e\n",
       "title                                                 Montana\n",
       "context     The Desert Land Act of 1877 was passed to allo...\n",
       "question                 When was the Desert Land Act passed?\n",
       "answers              {'text': ['1877'], 'answer_start': [23]}\n",
       "Name: 1160, dtype: object"
      ]
     },
     "metadata": {},
     "output_type": "display_data"
    },
    {
     "data": {
      "text/plain": [
       "id                                   57342802d058e614000b6a40\n",
       "title                                                 Montana\n",
       "context     In the early 1900s, James J. Hill of the Great...\n",
       "question    Who promoted settlement in Montana in the earl...\n",
       "answers     {'text': ['James J. Hill'], 'answer_start': [20]}\n",
       "Name: 1163, dtype: object"
      ]
     },
     "metadata": {},
     "output_type": "display_data"
    },
    {
     "data": {
      "text/plain": [
       "id                                   5734288c4776f419006619bf\n",
       "title                                                 Montana\n",
       "context     In June 1917, the U.S. Congress passed the Esp...\n",
       "question            When did Congress pass the Espionage Act?\n",
       "answers              {'text': ['1917'], 'answer_start': [60]}\n",
       "Name: 1167, dtype: object"
      ]
     },
     "metadata": {},
     "output_type": "display_data"
    },
    {
     "data": {
      "text/plain": [
       "id                                   5734296dd058e614000b6a6e\n",
       "title                                                 Montana\n",
       "context     When the U.S. entered World War II on December...\n",
       "question    How many Montanans entered the miltary in the ...\n",
       "answers      {'text': ['40,000-plus'], 'answer_start': [176]}\n",
       "Name: 1172, dtype: object"
      ]
     },
     "metadata": {},
     "output_type": "display_data"
    },
    {
     "data": {
      "text/plain": [
       "id                                   5733bdc4d058e614000b61a3\n",
       "title                                                Genocide\n",
       "context     The phrase \"in whole or in part\" has been subj...\n",
       "question    In the judgement, it is stated that the aim of...\n",
       "answers     {'text': ['entire human groups'], 'answer_star...\n",
       "Name: 1177, dtype: object"
      ]
     },
     "metadata": {},
     "output_type": "display_data"
    },
    {
     "data": {
      "text/plain": [
       "id                                   5733ba844776f41900661146\n",
       "title                                                Genocide\n",
       "context     In the same judgement the ECHR reviewed the ju...\n",
       "question    Two bodies of the United Nations agreed with w...\n",
       "answers     {'text': ['that biological-physical destructio...\n",
       "Name: 1182, dtype: object"
      ]
     },
     "metadata": {},
     "output_type": "display_data"
    },
    {
     "data": {
      "text/plain": [
       "id                                   57335849d058e614000b589a\n",
       "title                                                Genocide\n",
       "context     After the Holocaust, which had been perpetrate...\n",
       "question    In 1948, what general assembly resolution esta...\n",
       "answers     {'text': ['the Convention on the Prevention an...\n",
       "Name: 1187, dtype: object"
      ]
     },
     "metadata": {},
     "output_type": "display_data"
    },
    {
     "data": {
      "text/plain": [
       "id                                   573392e24776f41900660d9c\n",
       "title                                                Genocide\n",
       "context     The first draft of the Convention included pol...\n",
       "question    Which provision was initially included in the ...\n",
       "answers     {'text': ['political killings'], 'answer_start...\n",
       "Name: 1192, dtype: object"
      ]
     },
     "metadata": {},
     "output_type": "display_data"
    },
    {
     "data": {
      "text/plain": [
       "id                                   5733963c4776f41900660df7\n",
       "title                                                Genocide\n",
       "context     In 2007 the European Court of Human Rights (EC...\n",
       "question    Which group was accused by the ECHR of having ...\n",
       "answers     {'text': ['majority of legal scholars'], 'answ...\n",
       "Name: 1197, dtype: object"
      ]
     },
     "metadata": {},
     "output_type": "display_data"
    },
    {
     "data": {
      "text/plain": [
       "id                                   573344334776f419006607d2\n",
       "title                                                Genocide\n",
       "context     The word genocide was later included as a desc...\n",
       "question    Prior to being a formal legal term, how was th...\n",
       "answers     {'text': ['as a descriptive term'], 'answer_st...\n",
       "Name: 1201, dtype: object"
      ]
     },
     "metadata": {},
     "output_type": "display_data"
    },
    {
     "data": {
      "text/plain": [
       "id                                   573350a0d058e614000b5840\n",
       "title                                                Genocide\n",
       "context     The study of genocide has mainly been focused ...\n",
       "question    What has been the primary focus in the study o...\n",
       "answers     {'text': ['legal aspect of the term'], 'answer...\n",
       "Name: 1209, dtype: object"
      ]
     },
     "metadata": {},
     "output_type": "display_data"
    },
    {
     "data": {
      "text/plain": [
       "id                                   5731eb9bb9d445190005e697\n",
       "title                                                Genocide\n",
       "context     Genocide has become an official term used in i...\n",
       "question             When was the word \"genocide\" first used?\n",
       "answers             {'text': ['1944'], 'answer_start': [110]}\n",
       "Name: 1217, dtype: object"
      ]
     },
     "metadata": {},
     "output_type": "display_data"
    },
    {
     "data": {
      "text/plain": [
       "id                                   5733c3c7d058e614000b61ef\n",
       "title                                                Genocide\n",
       "context     The judges continue in paragraph 12, \"The dete...\n",
       "question    Several considerations were involved in meetin...\n",
       "answers     {'text': ['when the targeted part is substanti...\n",
       "Name: 1227, dtype: object"
      ]
     },
     "metadata": {},
     "output_type": "display_data"
    },
    {
     "data": {
      "text/plain": [
       "id                                   5733c6224776f419006611f4\n",
       "title                                                Genocide\n",
       "context     In paragraph 13 the judges raise the issue of ...\n",
       "question    The issue of what is raised by judges in Parag...\n",
       "answers     {'text': ['perpetrators' access to the victims...\n",
       "Name: 1231, dtype: object"
      ]
     },
     "metadata": {},
     "output_type": "display_data"
    },
    {
     "data": {
      "text/plain": [
       "id                                   5733ce494776f41900661298\n",
       "title                                                Genocide\n",
       "context     The Convention came into force as internationa...\n",
       "question    On which date did the Genocide Convention beco...\n",
       "answers     {'text': ['12 January 1951'], 'answer_start': ...\n",
       "Name: 1236, dtype: object"
      ]
     },
     "metadata": {},
     "output_type": "display_data"
    },
    {
     "data": {
      "text/plain": [
       "id                                   5733cf6a4776f419006612a2\n",
       "title                                                Genocide\n",
       "context     Writing in 1998 Kurt Jonassohn and Karin Björn...\n",
       "question    In 1998 it was written that the CPPCG was a le...\n",
       "answers     {'text': ['a diplomatic compromise'], 'answer_...\n",
       "Name: 1241, dtype: object"
      ]
     },
     "metadata": {},
     "output_type": "display_data"
    },
    {
     "data": {
      "text/plain": [
       "id                                   5733f7b64776f419006615e3\n",
       "title                                                Genocide\n",
       "context     Jonassohn and Björnson postulate that the majo...\n",
       "question    What two writers examined the lack of an accep...\n",
       "answers     {'text': ['Jonassohn and Björnson'], 'answer_s...\n",
       "Name: 1245, dtype: object"
      ]
     },
     "metadata": {},
     "output_type": "display_data"
    },
    {
     "data": {
      "text/plain": [
       "id                                   5733f9c64776f41900661615\n",
       "title                                                Genocide\n",
       "context     The exclusion of social and political groups a...\n",
       "question    Some historians were critical of what exclusio...\n",
       "answers     {'text': ['social and political groups'], 'ans...\n",
       "Name: 1250, dtype: object"
      ]
     },
     "metadata": {},
     "output_type": "display_data"
    },
    {
     "data": {
      "text/plain": [
       "id                                   5733fb934776f41900661637\n",
       "title                                                Genocide\n",
       "context     Barbara Harff and Ted Gurr defined genocide as...\n",
       "question    Harff and Gurr's definition of genocide includ...\n",
       "answers          {'text': ['policies'], 'answer_start': [79]}\n",
       "Name: 1255, dtype: object"
      ]
     },
     "metadata": {},
     "output_type": "display_data"
    },
    {
     "data": {
      "text/plain": [
       "id                                   5733fcd5d058e614000b6717\n",
       "title                                                Genocide\n",
       "context     According to R. J. Rummel, genocide has 3 diff...\n",
       "question    In the writings of Rummel, what is the first a...\n",
       "answers     {'text': ['murder by government'], 'answer_sta...\n",
       "Name: 1260, dtype: object"
      ]
     },
     "metadata": {},
     "output_type": "display_data"
    },
    {
     "data": {
      "text/plain": [
       "id                                   57340136d058e614000b6783\n",
       "title                                                Genocide\n",
       "context     Highlighting the potential for state and non-s...\n",
       "question    In terms of failed states and non-state actors...\n",
       "answers     {'text': ['Adrian Gallagher'], 'answer_start':...\n",
       "Name: 1265, dtype: object"
      ]
     },
     "metadata": {},
     "output_type": "display_data"
    },
    {
     "data": {
      "text/plain": [
       "id                                   573402a3d058e614000b6797\n",
       "title                                                Genocide\n",
       "context     All signatories to the CPPCG are required to p...\n",
       "question    Signatories to the CPPC are required to preven...\n",
       "answers     {'text': ['acts of genocide'], 'answer_start':...\n",
       "Name: 1270, dtype: object"
      ]
     },
     "metadata": {},
     "output_type": "display_data"
    },
    {
     "data": {
      "text/plain": [
       "id                                   573404abd058e614000b67c9\n",
       "title                                                Genocide\n",
       "context     Because the universal acceptance of internatio...\n",
       "question    In 1948 the worldwide acceptance of internatio...\n",
       "answers     {'text': ['Convention on the Prevention and Pu...\n",
       "Name: 1275, dtype: object"
      ]
     },
     "metadata": {},
     "output_type": "display_data"
    },
    {
     "data": {
      "text/plain": [
       "id                                   573406d84776f41900661731\n",
       "title                                                Genocide\n",
       "context     On 12 July 2007, European Court of Human Right...\n",
       "question    Which court dismissed Nikola Jorgic's appeal a...\n",
       "answers     {'text': ['European Court of Human Rights'], '...\n",
       "Name: 1280, dtype: object"
      ]
     },
     "metadata": {},
     "output_type": "display_data"
    },
    {
     "data": {
      "text/plain": [
       "id                                   5734087f4776f4190066174d\n",
       "title                                                Genocide\n",
       "context     About 30 people have been indicted for partici...\n",
       "question    In the 1990s, how many people were indicted fo...\n",
       "answers           {'text': ['About 30'], 'answer_start': [0]}\n",
       "Name: 1285, dtype: object"
      ]
     },
     "metadata": {},
     "output_type": "display_data"
    },
    {
     "data": {
      "text/plain": [
       "id                                   57340aae4776f41900661790\n",
       "title                                                Genocide\n",
       "context     Slobodan Milošević, as the former President of...\n",
       "question    What event occurred in March 2006 that essenti...\n",
       "answers          {'text': ['He died'], 'answer_start': [138]}\n",
       "Name: 1290, dtype: object"
      ]
     },
     "metadata": {},
     "output_type": "display_data"
    },
    {
     "data": {
      "text/plain": [
       "id                                   57340c46d058e614000b6893\n",
       "title                                                Genocide\n",
       "context     The International Criminal Tribunal for Rwanda...\n",
       "question    What court was established under the aegis of ...\n",
       "answers     {'text': ['International Criminal Tribunal for...\n",
       "Name: 1295, dtype: object"
      ]
     },
     "metadata": {},
     "output_type": "display_data"
    },
    {
     "data": {
      "text/plain": [
       "id                                   57340e5dd058e614000b68b9\n",
       "title                                                Genocide\n",
       "context     There has been much debate over categorizing t...\n",
       "question    What has been widely debated as a possible act...\n",
       "answers     {'text': ['situation in Darfur'], 'answer_star...\n",
       "Name: 1300, dtype: object"
      ]
     },
     "metadata": {},
     "output_type": "display_data"
    },
    {
     "data": {
      "text/plain": [
       "id                                   57340f5bd058e614000b68cd\n",
       "title                                                Genocide\n",
       "context     In March 2005, the Security Council formally r...\n",
       "question    To whom did the Security Council officially re...\n",
       "answers     {'text': ['Prosecutor of the International Cri...\n",
       "Name: 1305, dtype: object"
      ]
     },
     "metadata": {},
     "output_type": "display_data"
    },
    {
     "data": {
      "text/plain": [
       "id                                   573410864776f419006617e5\n",
       "title                                                Genocide\n",
       "context     Other authors have focused on the structural c...\n",
       "question    In the build-up to genocide, what have other a...\n",
       "answers     {'text': ['structural conditions'], 'answer_st...\n",
       "Name: 1309, dtype: object"
      ]
     },
     "metadata": {},
     "output_type": "display_data"
    },
    {
     "data": {
      "text/plain": [
       "id                                   5733bc38d058e614000b6187\n",
       "title                                             Antibiotics\n",
       "context     The emergence of resistance of bacteria to ant...\n",
       "question    What is a modern common occurence with antibio...\n",
       "answers     {'text': ['resistance of bacteria'], 'answer_s...\n",
       "Name: 1314, dtype: object"
      ]
     },
     "metadata": {},
     "output_type": "display_data"
    },
    {
     "data": {
      "text/plain": [
       "id                                   5733b31dd058e614000b609f\n",
       "title                                             Antibiotics\n",
       "context     The successful outcome of antimicrobial therap...\n",
       "question    What does the potency of antibacterials depend...\n",
       "answers     {'text': ['concentration'], 'answer_start': [6...\n",
       "Name: 1322, dtype: object"
      ]
     },
     "metadata": {},
     "output_type": "display_data"
    },
    {
     "data": {
      "text/plain": [
       "id                                   5733b4cf4776f419006610ca\n",
       "title                                             Antibiotics\n",
       "context     Antibacterial antibiotics are commonly classif...\n",
       "question                  What do anitibiotics mostly target?\n",
       "answers     {'text': ['bacterial functions or growth proce...\n",
       "Name: 1329, dtype: object"
      ]
     },
     "metadata": {},
     "output_type": "display_data"
    },
    {
     "data": {
      "text/plain": [
       "id                                   5733b6a2d058e614000b6122\n",
       "title                                             Antibiotics\n",
       "context     With advances in medicinal chemistry, most mod...\n",
       "question              What are antibiotics in chemical terms?\n",
       "answers     {'text': ['semisynthetic modifications'], 'ans...\n",
       "Name: 1338, dtype: object"
      ]
     },
     "metadata": {},
     "output_type": "display_data"
    },
    {
     "data": {
      "text/plain": [
       "id                                   573016fb947a6a140053d0b4\n",
       "title                                             Antibiotics\n",
       "context     Antibiotics revolutionized medicine in the 20t...\n",
       "question    What is one disease that has been nearly eradi...\n",
       "answers     {'text': ['tuberculosis'], 'answer_start': [140]}\n",
       "Name: 1346, dtype: object"
      ]
     },
     "metadata": {},
     "output_type": "display_data"
    },
    {
     "data": {
      "text/plain": [
       "id                                   573018d5947a6a140053d0e4\n",
       "title                                             Antibiotics\n",
       "context     In empirical therapy, a patient has proven or ...\n",
       "question    What is one kind of therapy that may be used w...\n",
       "answers     {'text': ['empirical therapy'], 'answer_start'...\n",
       "Name: 1364, dtype: object"
      ]
     },
     "metadata": {},
     "output_type": "display_data"
    },
    {
     "data": {
      "text/plain": [
       "id                                   57301a6b04bcaa1900d7719f\n",
       "title                                             Antibiotics\n",
       "context     Antibiotics are screened for any negative effe...\n",
       "question    What are two examples of minor side effects ca...\n",
       "answers     {'text': ['fever and nausea'], 'answer_start':...\n",
       "Name: 1372, dtype: object"
      ]
     },
     "metadata": {},
     "output_type": "display_data"
    },
    {
     "data": {
      "text/plain": [
       "id                                   57301bfca23a5019007fcd81\n",
       "title                                             Antibiotics\n",
       "context     Exposure to antibiotics early in life is assoc...\n",
       "question    What is one common result of using antibiotics...\n",
       "answers     {'text': ['increased body mass'], 'answer_star...\n",
       "Name: 1387, dtype: object"
      ]
     },
     "metadata": {},
     "output_type": "display_data"
    },
    {
     "data": {
      "text/plain": [
       "id                                   57302106a23a5019007fcdf7\n",
       "title                                             Antibiotics\n",
       "context     The majority of studies indicate antibiotics d...\n",
       "question    Do antibiotics interact with birth control pills?\n",
       "answers     {'text': ['The majority of studies indicate an...\n",
       "Name: 1395, dtype: object"
      ]
     },
     "metadata": {},
     "output_type": "display_data"
    },
    {
     "data": {
      "text/plain": [
       "id                                   57302230a23a5019007fce13\n",
       "title                                             Antibiotics\n",
       "context     Interactions between alcohol and certain antib...\n",
       "question    What is one potential issue with drinking alco...\n",
       "answers     {'text': ['decreased effectiveness'], 'answer_...\n",
       "Name: 1407, dtype: object"
      ]
     },
     "metadata": {},
     "output_type": "display_data"
    },
    {
     "data": {
      "text/plain": [
       "id                                   5731c904b9d445190005e551\n",
       "title                                             Antibiotics\n",
       "context     Several molecular mechanisms of antibacterial ...\n",
       "question    What is part of hje the make up of bacterial s...\n",
       "answers     {'text': ['Intrinsic antibacterial resistance'...\n",
       "Name: 1417, dtype: object"
      ]
     },
     "metadata": {},
     "output_type": "display_data"
    },
    {
     "data": {
      "text/plain": [
       "id                                   5733c4ca4776f419006611e4\n",
       "title                                             Antibiotics\n",
       "context     Antibacterial-resistant strains and species, s...\n",
       "question    What are strains that are resistant to antibio...\n",
       "answers         {'text': ['superbugs'], 'answer_start': [71]}\n",
       "Name: 1424, dtype: object"
      ]
     },
     "metadata": {},
     "output_type": "display_data"
    },
    {
     "data": {
      "text/plain": [
       "id                                   5733c6d84776f41900661208\n",
       "title                                             Antibiotics\n",
       "context     Inappropriate antibiotic treatment and overuse...\n",
       "question     What are the two biggest reasons for resistance?\n",
       "answers     {'text': ['Inappropriate antibiotic treatment ...\n",
       "Name: 1428, dtype: object"
      ]
     },
     "metadata": {},
     "output_type": "display_data"
    },
    {
     "data": {
      "text/plain": [
       "id                                   5733c81c4776f4190066121c\n",
       "title                                             Antibiotics\n",
       "context     Common forms of antibiotic misuse include exce...\n",
       "question    What is a way of improperly using antibiotics ...\n",
       "answers     {'text': ['prophylactic antibiotics'], 'answer...\n",
       "Name: 1431, dtype: object"
      ]
     },
     "metadata": {},
     "output_type": "display_data"
    },
    {
     "data": {
      "text/plain": [
       "id                                   5733cb484776f41900661256\n",
       "title                                             Antibiotics\n",
       "context     Several organizations concerned with antimicro...\n",
       "question    What is the name of a US government agency tas...\n",
       "answers     {'text': ['US Interagency Task Force on Antimi...\n",
       "Name: 1436, dtype: object"
      ]
     },
     "metadata": {},
     "output_type": "display_data"
    },
    {
     "data": {
      "text/plain": [
       "id                                   5733cd2bd058e614000b62b3\n",
       "title                                             Antibiotics\n",
       "context     The emergence of antibiotic resistance has pro...\n",
       "question    When did the EU ban antibiotics for speeding u...\n",
       "answers             {'text': ['2003'], 'answer_start': [197]}\n",
       "Name: 1439, dtype: object"
      ]
     },
     "metadata": {},
     "output_type": "display_data"
    },
    {
     "data": {
      "text/plain": [
       "id                                   5733d178d058e614000b6321\n",
       "title                                             Antibiotics\n",
       "context     There has been extensive use of antibiotics in...\n",
       "question    What besides sick people are antibiotics used ...\n",
       "answers     {'text': ['animal husbandry'], 'answer_start':...\n",
       "Name: 1444, dtype: object"
      ]
     },
     "metadata": {},
     "output_type": "display_data"
    },
    {
     "data": {
      "text/plain": [
       "id                                   5733d2444776f419006612d8\n",
       "title                                             Antibiotics\n",
       "context     Before the early 20th century, treatments for ...\n",
       "question    What methods did people use before antibiotics...\n",
       "answers     {'text': ['medicinal folklore'], 'answer_start...\n",
       "Name: 1447, dtype: object"
      ]
     },
     "metadata": {},
     "output_type": "display_data"
    },
    {
     "data": {
      "text/plain": [
       "id                                   5733d3334776f419006612e2\n",
       "title                                             Antibiotics\n",
       "context     The effects of some types of mold on infection...\n",
       "question    What type of organism has been reported to hav...\n",
       "answers              {'text': ['mold'], 'answer_start': [29]}\n",
       "Name: 1452, dtype: object"
      ]
     },
     "metadata": {},
     "output_type": "display_data"
    },
    {
     "data": {
      "text/plain": [
       "id                                   5733d4364776f419006612f2\n",
       "title                                             Antibiotics\n",
       "context     The first sulfonamide and first commercially a...\n",
       "question             What was the first available antibiotic?\n",
       "answers         {'text': ['Prontosil'], 'answer_start': [70]}\n",
       "Name: 1456, dtype: object"
      ]
     },
     "metadata": {},
     "output_type": "display_data"
    },
    {
     "data": {
      "text/plain": [
       "id                                   5733d4c24776f41900661304\n",
       "title                                             Antibiotics\n",
       "context     In 1939, coinciding with the start of World Wa...\n",
       "question    What was the first antibiotic developed from n...\n",
       "answers      {'text': ['tyrothricin'], 'answer_start': [129]}\n",
       "Name: 1460, dtype: object"
      ]
     },
     "metadata": {},
     "output_type": "display_data"
    },
    {
     "data": {
      "text/plain": [
       "id                                   5733d5f24776f41900661314\n",
       "title                                             Antibiotics\n",
       "context     Florey and Chain succeeded in purifying the fi...\n",
       "question                When was penicillin G first purified?\n",
       "answers              {'text': ['1942'], 'answer_start': [79]}\n",
       "Name: 1465, dtype: object"
      ]
     },
     "metadata": {},
     "output_type": "display_data"
    },
    {
     "data": {
      "text/plain": [
       "id                                   5733d670d058e614000b6379\n",
       "title                                             Antibiotics\n",
       "context     Vaccines rely on immune modulation or augmenta...\n",
       "question                       What do vaccines need to work?\n",
       "answers     {'text': ['immune modulation or augmentation']...\n",
       "Name: 1470, dtype: object"
      ]
     },
     "metadata": {},
     "output_type": "display_data"
    },
    {
     "data": {
      "text/plain": [
       "id                                   5733d6e64776f41900661328\n",
       "title                                             Antibiotics\n",
       "context     Phage therapy is another option that is being ...\n",
       "question    What has been talked about to treat resistant ...\n",
       "answers      {'text': ['Phage therapy'], 'answer_start': [0]}\n",
       "Name: 1473, dtype: object"
      ]
     },
     "metadata": {},
     "output_type": "display_data"
    },
    {
     "data": {
      "text/plain": [
       "id                                   5733d88b4776f41900661344\n",
       "title                                             Antibiotics\n",
       "context     In April 2013, the Infectious Disease Society ...\n",
       "question    How many antibiotics have been created in the ...\n",
       "answers                {'text': ['2'], 'answer_start': [192]}\n",
       "Name: 1476, dtype: object"
      ]
     },
     "metadata": {},
     "output_type": "display_data"
    },
    {
     "data": {
      "text/plain": [
       "id                                   5733d91e4776f4190066134a\n",
       "title                                             Antibiotics\n",
       "context     Possible improvements include clarification of...\n",
       "question                   Who regulates antibiotic approval?\n",
       "answers               {'text': ['FDA'], 'answer_start': [77]}\n",
       "Name: 1479, dtype: object"
      ]
     },
     "metadata": {},
     "output_type": "display_data"
    },
    {
     "data": {
      "text/plain": [
       "id                                   56cbd2356d243a140015ed66\n",
       "title                                         Frédéric_Chopin\n",
       "context     Frédéric François Chopin (/ˈʃoʊpæn/; French pr...\n",
       "question                   What was Frédéric's nationalities?\n",
       "answers     {'text': ['Polish and French'], 'answer_start'...\n",
       "Name: 1483, dtype: object"
      ]
     },
     "metadata": {},
     "output_type": "display_data"
    },
    {
     "data": {
      "text/plain": [
       "id                                   56cbd2f96d243a140015ed70\n",
       "title                                         Frédéric_Chopin\n",
       "context     At the age of 21 he settled in Paris. Thereaft...\n",
       "question              At what age did Frédéric move to Paris?\n",
       "answers                {'text': ['21'], 'answer_start': [14]}\n",
       "Name: 1502, dtype: object"
      ]
     },
     "metadata": {},
     "output_type": "display_data"
    },
    {
     "data": {
      "text/plain": [
       "id                                   56cbd4c56d243a140015ed7a\n",
       "title                                         Frédéric_Chopin\n",
       "context     All of Chopin's compositions include the piano...\n",
       "question    What instrument did every composition by Frédé...\n",
       "answers             {'text': ['piano'], 'answer_start': [41]}\n",
       "Name: 1519, dtype: object"
      ]
     },
     "metadata": {},
     "output_type": "display_data"
    },
    {
     "data": {
      "text/plain": [
       "id                                   56cbd8c66d243a140015ed85\n",
       "title                                         Frédéric_Chopin\n",
       "context     In his native Poland, in France, where he comp...\n",
       "question    What was the degree of Frédéric's association ...\n",
       "answers         {'text': ['indirect'], 'answer_start': [173]}\n",
       "Name: 1536, dtype: object"
      ]
     },
     "metadata": {},
     "output_type": "display_data"
    },
    {
     "data": {
      "text/plain": [
       "id                                   56cbda8d6d243a140015ed8e\n",
       "title                                         Frédéric_Chopin\n",
       "context     Fryderyk Chopin was born in Żelazowa Wola, 46 ...\n",
       "question                In what village was Frédéric born in?\n",
       "answers     {'text': ['Żelazowa Wola'], 'answer_start': [28]}\n",
       "Name: 1547, dtype: object"
      ]
     },
     "metadata": {},
     "output_type": "display_data"
    },
    {
     "data": {
      "text/plain": [
       "id                                   56cbdbf36d243a140015ed99\n",
       "title                                         Frédéric_Chopin\n",
       "context     Fryderyk's father, Nicolas Chopin, was a Frenc...\n",
       "question             Who did Frédéric's father marry in 1806?\n",
       "answers     {'text': ['Justyna Krzyżanowska'], 'answer_sta...\n",
       "Name: 1563, dtype: object"
      ]
     },
     "metadata": {},
     "output_type": "display_data"
    },
    {
     "data": {
      "text/plain": [
       "id                                   56cbdcd16d243a140015eda2\n",
       "title                                         Frédéric_Chopin\n",
       "context     In October 1810, six months after Fryderyk's b...\n",
       "question    During what month did Frédéric move to Warsaw ...\n",
       "answers            {'text': ['October'], 'answer_start': [3]}\n",
       "Name: 1574, dtype: object"
      ]
     },
     "metadata": {},
     "output_type": "display_data"
    },
    {
     "data": {
      "text/plain": [
       "id                                   56cbdea66d243a140015edac\n",
       "title                                         Frédéric_Chopin\n",
       "context     Fryderyk may have had some piano instruction f...\n",
       "question    Who was Frédéric's first professional teacher ...\n",
       "answers     {'text': ['Wojciech Żywny'], 'answer_start': [...\n",
       "Name: 1588, dtype: object"
      ]
     },
     "metadata": {},
     "output_type": "display_data"
    },
    {
     "data": {
      "text/plain": [
       "id                                   56cbdfbf6d243a140015edb6\n",
       "title                                         Frédéric_Chopin\n",
       "context     In 1817 the Saxon Palace was requisitioned by ...\n",
       "question    In what year was the Saxon Palace taken by the...\n",
       "answers               {'text': ['1817'], 'answer_start': [3]}\n",
       "Name: 1602, dtype: object"
      ]
     },
     "metadata": {},
     "output_type": "display_data"
    },
    {
     "data": {
      "text/plain": [
       "id                                   56cbe1996d243a140015edc0\n",
       "title                                         Frédéric_Chopin\n",
       "context     From September 1823 to 1826 Chopin attended th...\n",
       "question    During what years did Frédéric visit the Warsa...\n",
       "answers      {'text': ['1823 to 1826'], 'answer_start': [15]}\n",
       "Name: 1616, dtype: object"
      ]
     },
     "metadata": {},
     "output_type": "display_data"
    },
    {
     "data": {
      "text/plain": [
       "id                                   56cbe2fd6d243a140015edcb\n",
       "title                                         Frédéric_Chopin\n",
       "context     During 1824–28 Chopin spent his vacations away...\n",
       "question    Who was Frédéric a guest of during his visit o...\n",
       "answers     {'text': ['Dominik Dziewanowski'], 'answer_sta...\n",
       "Name: 1631, dtype: object"
      ]
     },
     "metadata": {},
     "output_type": "display_data"
    },
    {
     "data": {
      "text/plain": [
       "id                                   56cbe5df6d243a140015edd4\n",
       "title                                         Frédéric_Chopin\n",
       "context     In 1827, soon after the death of Chopin's youn...\n",
       "question    During what year did Frédéric's youngest siste...\n",
       "answers               {'text': ['1827'], 'answer_start': [3]}\n",
       "Name: 1640, dtype: object"
      ]
     },
     "metadata": {},
     "output_type": "display_data"
    },
    {
     "data": {
      "text/plain": [
       "id                                   56cbe9436d243a140015eddf\n",
       "title                                         Frédéric_Chopin\n",
       "context     Four boarders at his parents' apartments becam...\n",
       "question    Of the individuals that became intimate with F...\n",
       "answers     {'text': ['Jan Matuszyński and Julian Fontana'...\n",
       "Name: 1654, dtype: object"
      ]
     },
     "metadata": {},
     "output_type": "display_data"
    },
    {
     "data": {
      "text/plain": [
       "id                                   56cbeb396d243a140015ede8\n",
       "title                                         Frédéric_Chopin\n",
       "context     In September 1828 Chopin, while still a studen...\n",
       "question    Who did Frédéric visit Berlin with in Septembe...\n",
       "answers     {'text': ['Feliks Jarocki'], 'answer_start': [...\n",
       "Name: 1665, dtype: object"
      ]
     },
     "metadata": {},
     "output_type": "display_data"
    },
    {
     "data": {
      "text/plain": [
       "id                                   56cbedde6d243a140015edf2\n",
       "title                                         Frédéric_Chopin\n",
       "context     Back in Warsaw that year, Chopin heard Niccolò...\n",
       "question    What did Frédéric compose after hearing Niccol...\n",
       "answers     {'text': ['Souvenir de Paganini'], 'answer_sta...\n",
       "Name: 1679, dtype: object"
      ]
     },
     "metadata": {},
     "output_type": "display_data"
    },
    {
     "data": {
      "text/plain": [
       "id                                   56cbef3a6d243a140015edfc\n",
       "title                                         Frédéric_Chopin\n",
       "context     Chopin's successes as a composer and performer...\n",
       "question    On what date did Frédéric begin his journey in...\n",
       "answers     {'text': ['2 November 1830'], 'answer_start': ...\n",
       "Name: 1692, dtype: object"
      ]
     },
     "metadata": {},
     "output_type": "display_data"
    },
    {
     "data": {
      "text/plain": [
       "id                                   56cbf12a6d243a140015ee06\n",
       "title                                         Frédéric_Chopin\n",
       "context     Chopin arrived in Paris in late September 1831...\n",
       "question    What event was Frédéric a part of when he arri...\n",
       "answers     {'text': ['the Polish Great Emigration'], 'ans...\n",
       "Name: 1705, dtype: object"
      ]
     },
     "metadata": {},
     "output_type": "display_data"
    },
    {
     "data": {
      "text/plain": [
       "id                                   56cbf37e6d243a140015ee10\n",
       "title                                         Frédéric_Chopin\n",
       "context     In Paris, Chopin encountered artists and other...\n",
       "question    In what city did Frédéric achieve celebrity st...\n",
       "answers              {'text': ['Paris'], 'answer_start': [3]}\n",
       "Name: 1719, dtype: object"
      ]
     },
     "metadata": {},
     "output_type": "display_data"
    },
    {
     "data": {
      "text/plain": [
       "id                                   56cbf5106d243a140015ee18\n",
       "title                                         Frédéric_Chopin\n",
       "context     Two Polish friends in Paris were also to play ...\n",
       "question    Which friend of Frédéric failed to achieve suc...\n",
       "answers     {'text': ['Julian Fontana'], 'answer_start': [...\n",
       "Name: 1726, dtype: object"
      ]
     },
     "metadata": {},
     "output_type": "display_data"
    },
    {
     "data": {
      "text/plain": [
       "id                                   56cbf7d16d243a140015ee22\n",
       "title                                         Frédéric_Chopin\n",
       "context     At the end of 1831, Chopin received the first ...\n",
       "question    Who gave Frédéric his first significant public...\n",
       "answers     {'text': ['Robert Schumann'], 'answer_start': ...\n",
       "Name: 1737, dtype: object"
      ]
     },
     "metadata": {},
     "output_type": "display_data"
    },
    {
     "data": {
      "text/plain": [
       "id                                   56cbfa0e6d243a140015ee2d\n",
       "title                                         Frédéric_Chopin\n",
       "context     Chopin seldom performed publicly in Paris. In ...\n",
       "question    What was Frédéric's favorite environment to pe...\n",
       "answers     {'text': ['his own Paris apartment for small g...\n",
       "Name: 1747, dtype: object"
      ]
     },
     "metadata": {},
     "output_type": "display_data"
    },
    {
     "data": {
      "text/plain": [
       "id                                   56cbfbdd6d243a140015ee36\n",
       "title                                         Frédéric_Chopin\n",
       "context     In the spring of 1834, Chopin attended the Low...\n",
       "question    Who did Frédéric meet in the spring of 1834 at...\n",
       "answers     {'text': ['Felix Mendelssohn'], 'answer_start'...\n",
       "Name: 1756, dtype: object"
      ]
     },
     "metadata": {},
     "output_type": "display_data"
    },
    {
     "data": {
      "text/plain": [
       "id                                   56cbfcda6d243a140015ee40\n",
       "title                                         Frédéric_Chopin\n",
       "context     Although it is not known exactly when Chopin f...\n",
       "question    Who was the recipient of Frédéric's letter he ...\n",
       "answers     {'text': ['Woyciechowski'], 'answer_start': [1...\n",
       "Name: 1769, dtype: object"
      ]
     },
     "metadata": {},
     "output_type": "display_data"
    },
    {
     "data": {
      "text/plain": [
       "id                                   56cbff116d243a140015ee46\n",
       "title                                         Frédéric_Chopin\n",
       "context     The two became friends, and for many years liv...\n",
       "question    What address did Frédéric live at during his s...\n",
       "answers     {'text': ['38 Rue de la Chaussée-d'Antin'], 'a...\n",
       "Name: 1775, dtype: object"
      ]
     },
     "metadata": {},
     "output_type": "display_data"
    },
    {
     "data": {
      "text/plain": [
       "id                                   56cc02376d243a140015ee50\n",
       "title                                         Frédéric_Chopin\n",
       "context     Although the two displayed great respect and a...\n",
       "question    What term describes the qualities of the relat...\n",
       "answers     {'text': ['love-hate relationship'], 'answer_s...\n",
       "Name: 1786, dtype: object"
      ]
     },
     "metadata": {},
     "output_type": "display_data"
    },
    {
     "data": {
      "text/plain": [
       "id                                   56cc06496d243a140015ee5a\n",
       "title                                         Frédéric_Chopin\n",
       "context     In 1836, at a party hosted by Marie d'Agoult, ...\n",
       "question    Who was the host of the gathering where Frédér...\n",
       "answers     {'text': ['Marie d'Agoult'], 'answer_start': [...\n",
       "Name: 1797, dtype: object"
      ]
     },
     "metadata": {},
     "output_type": "display_data"
    },
    {
     "data": {
      "text/plain": [
       "id                                   56cc07886d243a140015ee64\n",
       "title                                         Frédéric_Chopin\n",
       "context     In June 1837 Chopin visited London incognito i...\n",
       "question           What city did Frédéric visit in June 1837?\n",
       "answers            {'text': ['London'], 'answer_start': [28]}\n",
       "Name: 1807, dtype: object"
      ]
     },
     "metadata": {},
     "output_type": "display_data"
    },
    {
     "data": {
      "text/plain": [
       "id                                   56cc08eb6d243a140015ee6e\n",
       "title                                         Frédéric_Chopin\n",
       "context     On 3 December, Chopin complained about his bad...\n",
       "question    How many doctors saw Frédéric by the 3rd of De...\n",
       "answers            {'text': ['Three'], 'answer_start': [103]}\n",
       "Name: 1822, dtype: object"
      ]
     },
     "metadata": {},
     "output_type": "display_data"
    },
    {
     "data": {
      "text/plain": [
       "id                                   56cc0d816d243a140015ee78\n",
       "title                                         Frédéric_Chopin\n",
       "context     Although this period had been productive, the ...\n",
       "question    What is stated as having a negative effect on ...\n",
       "answers       {'text': ['bad weather'], 'answer_start': [46]}\n",
       "Name: 1831, dtype: object"
      ]
     },
     "metadata": {},
     "output_type": "display_data"
    },
    {
     "data": {
      "text/plain": [
       "id                                   56cc0f056d243a140015ee83\n",
       "title                                         Frédéric_Chopin\n",
       "context     At the funeral of the tenor Adolphe Nourrit in...\n",
       "question    What event were Chopin and Sand at on 26 July ...\n",
       "answers     {'text': ['Berlioz's Grande symphonie funèbre ...\n",
       "Name: 1846, dtype: object"
      ]
     },
     "metadata": {},
     "output_type": "display_data"
    },
    {
     "data": {
      "text/plain": [
       "id                                   56cc100b6d243a140015ee8a\n",
       "title                                         Frédéric_Chopin\n",
       "context     During the summers at Nohant, particularly in ...\n",
       "question    What is the example given of a work produced b...\n",
       "answers     {'text': ['Polonaise in A-flat major, Op. 53']...\n",
       "Name: 1855, dtype: object"
      ]
     },
     "metadata": {},
     "output_type": "display_data"
    },
    {
     "data": {
      "text/plain": [
       "id                                   56cc12376d243a140015ee92\n",
       "title                                         Frédéric_Chopin\n",
       "context     From 1842 onwards, Chopin showed signs of seri...\n",
       "question    In which year did Chopin begin experiencing a ...\n",
       "answers               {'text': ['1842'], 'answer_start': [5]}\n",
       "Name: 1862, dtype: object"
      ]
     },
     "metadata": {},
     "output_type": "display_data"
    },
    {
     "data": {
      "text/plain": [
       "id                                   56cc13956d243a140015ee9c\n",
       "title                                         Frédéric_Chopin\n",
       "context     Chopin's relations with Sand were soured in 18...\n",
       "question    What was the name of Sand's daughter's fiance ...\n",
       "answers     {'text': ['Auguste Clésinger'], 'answer_start'...\n",
       "Name: 1875, dtype: object"
      ]
     },
     "metadata": {},
     "output_type": "display_data"
    },
    {
     "data": {
      "text/plain": [
       "id                                   56cc15956d243a140015eea8\n",
       "title                                         Frédéric_Chopin\n",
       "context     Chopin's output as a composer throughout this ...\n",
       "question    What was the name of the single piece of work ...\n",
       "answers     {'text': ['Op. 58 sonata'], 'answer_start': [2...\n",
       "Name: 1887, dtype: object"
      ]
     },
     "metadata": {},
     "output_type": "display_data"
    },
    {
     "data": {
      "text/plain": [
       "id                                   56cc16bb6d243a140015eeb1\n",
       "title                                         Frédéric_Chopin\n",
       "context     Chopin's public popularity as a virtuoso began...\n",
       "question    In what month and year did Chopin give his fin...\n",
       "answers     {'text': ['February 1848'], 'answer_start': [2...\n",
       "Name: 1895, dtype: object"
      ]
     },
     "metadata": {},
     "output_type": "display_data"
    },
    {
     "data": {
      "text/plain": [
       "id                                   56cea7efaab44d1400b888f5\n",
       "title                                         Frédéric_Chopin\n",
       "context     Chopin's life was covered in a BBC TV document...\n",
       "question    What television station made a documentary on ...\n",
       "answers               {'text': ['BBC'], 'answer_start': [31]}\n",
       "Name: 1902, dtype: object"
      ]
     },
     "metadata": {},
     "output_type": "display_data"
    },
    {
     "data": {
      "text/plain": [
       "id                                   56cf4e5faab44d1400b88f90\n",
       "title                                         Frédéric_Chopin\n",
       "context     Chopin's life and his relations with George Sa...\n",
       "question    What was the name of the 1945 movie released a...\n",
       "answers     {'text': ['A Song to Remember'], 'answer_start...\n",
       "Name: 1909, dtype: object"
      ]
     },
     "metadata": {},
     "output_type": "display_data"
    },
    {
     "data": {
      "text/plain": [
       "id                                   56cf4ee2aab44d1400b88fac\n",
       "title                                         Frédéric_Chopin\n",
       "context     Possibly the first venture into fictional trea...\n",
       "question    When was the first fictionalized account of Ch...\n",
       "answers             {'text': ['1901'], 'answer_start': [188]}\n",
       "Name: 1918, dtype: object"
      ]
     },
     "metadata": {},
     "output_type": "display_data"
    },
    {
     "data": {
      "text/plain": [
       "id                                   56cf50b2aab44d1400b88fbd\n",
       "title                                         Frédéric_Chopin\n",
       "context     Chopin has figured extensively in Polish liter...\n",
       "question    An 1830 sonnet was written about Chopin by wha...\n",
       "answers      {'text': ['Leon Ulrich'], 'answer_start': [205]}\n",
       "Name: 1926, dtype: object"
      ]
     },
     "metadata": {},
     "output_type": "display_data"
    },
    {
     "data": {
      "text/plain": [
       "id                                   56cf5187aab44d1400b88fc4\n",
       "title                                         Frédéric_Chopin\n",
       "context     Numerous recordings of Chopin's works are avai...\n",
       "question    The Warsaw Chopin Society holds the Grand prix...\n",
       "answers     {'text': ['every five years.'], 'answer_start'...\n",
       "Name: 1932, dtype: object"
      ]
     },
     "metadata": {},
     "output_type": "display_data"
    },
    {
     "data": {
      "text/plain": [
       "id                                   56cf5284aab44d1400b88fca\n",
       "title                                         Frédéric_Chopin\n",
       "context     The British Library notes that \"Chopin's works...\n",
       "question    What year was the earliest Chopin recording cr...\n",
       "answers             {'text': ['1895'], 'answer_start': [145]}\n",
       "Name: 1938, dtype: object"
      ]
     },
     "metadata": {},
     "output_type": "display_data"
    },
    {
     "data": {
      "text/plain": [
       "id                                   56cf5376aab44d1400b88fd8\n",
       "title                                         Frédéric_Chopin\n",
       "context     Chopin's music remains very popular and is reg...\n",
       "question    What is the name of the oldest music essay com...\n",
       "answers     {'text': ['International Chopin Piano Competit...\n",
       "Name: 1944, dtype: object"
      ]
     },
     "metadata": {},
     "output_type": "display_data"
    },
    {
     "data": {
      "text/plain": [
       "id                                   56cf5433aab44d1400b88fee\n",
       "title                                         Frédéric_Chopin\n",
       "context     Chopin's music was used in the 1909 ballet Cho...\n",
       "question    What is the name of the ballet that included C...\n",
       "answers        {'text': ['Chopiniana'], 'answer_start': [43]}\n",
       "Name: 1953, dtype: object"
      ]
     },
     "metadata": {},
     "output_type": "display_data"
    },
    {
     "data": {
      "text/plain": [
       "id                                   56cfe4a4234ae51400d9c015\n",
       "title                                         Frédéric_Chopin\n",
       "context     In April, during the Revolution of 1848 in Par...\n",
       "question    Where did Chopin head to during the Revolution...\n",
       "answers            {'text': ['London'], 'answer_start': [62]}\n",
       "Name: 1962, dtype: object"
      ]
     },
     "metadata": {},
     "output_type": "display_data"
    },
    {
     "data": {
      "text/plain": [
       "id                                   56cfe6cf234ae51400d9c03b\n",
       "title                                         Frédéric_Chopin\n",
       "context     In London Chopin took lodgings at Dover Street...\n",
       "question               Where did Chopin stay while in London?\n",
       "answers      {'text': ['Dover Street'], 'answer_start': [34]}\n",
       "Name: 1969, dtype: object"
      ]
     },
     "metadata": {},
     "output_type": "display_data"
    },
    {
     "data": {
      "text/plain": [
       "id                                   56cfe792234ae51400d9c05b\n",
       "title                                         Frédéric_Chopin\n",
       "context     In late summer he was invited by Jane Stirling...\n",
       "question               Where did Jane Stirling invite Chopin?\n",
       "answers          {'text': ['Scotland'], 'answer_start': [56]}\n",
       "Name: 1979, dtype: object"
      ]
     },
     "metadata": {},
     "output_type": "display_data"
    },
    {
     "data": {
      "text/plain": [
       "id                                   56cfe7f4234ae51400d9c05f\n",
       "title                                         Frédéric_Chopin\n",
       "context     Chopin made his last public appearance on a co...\n",
       "question               When did Chopin last appear in public?\n",
       "answers     {'text': ['16 November 1848'], 'answer_start':...\n",
       "Name: 1984, dtype: object"
      ]
     },
     "metadata": {},
     "output_type": "display_data"
    },
    {
     "data": {
      "text/plain": [
       "id                                   56cfe87e234ae51400d9c06d\n",
       "title                                         Frédéric_Chopin\n",
       "context     At the end of November, Chopin returned to Par...\n",
       "question              Who did Chopin play for while she sang?\n",
       "answers     {'text': ['Delfina Potocka'], 'answer_start': ...\n",
       "Name: 1989, dtype: object"
      ]
     },
     "metadata": {},
     "output_type": "display_data"
    },
    {
     "data": {
      "text/plain": [
       "id                                   56cfe911234ae51400d9c085\n",
       "title                                         Frédéric_Chopin\n",
       "context     With his health further deteriorating, Chopin ...\n",
       "question        When did his sister come to stay with Chopin?\n",
       "answers         {'text': ['June 1849'], 'answer_start': [91]}\n",
       "Name: 1997, dtype: object"
      ]
     },
     "metadata": {},
     "output_type": "display_data"
    },
    {
     "data": {
      "text/plain": [
       "id                                   56cfe9df234ae51400d9c0a1\n",
       "title                                         Frédéric_Chopin\n",
       "context     Some of his friends provided music at his requ...\n",
       "question    Why did Chopin request being cut open after hi...\n",
       "answers     {'text': ['fear of being buried alive'], 'answ...\n",
       "Name: 2003, dtype: object"
      ]
     },
     "metadata": {},
     "output_type": "display_data"
    },
    {
     "data": {
      "text/plain": [
       "id                                   56cfeaa3234ae51400d9c0b3\n",
       "title                                         Frédéric_Chopin\n",
       "context     Chopin's disease and the cause of his death ha...\n",
       "question    What is listed as Chopin's official cause of d...\n",
       "answers     {'text': ['tuberculosis'], 'answer_start': [124]}\n",
       "Name: 2008, dtype: object"
      ]
     },
     "metadata": {},
     "output_type": "display_data"
    },
    {
     "data": {
      "text/plain": [
       "id                                   56cfeae2234ae51400d9c0b9\n",
       "title                                         Frédéric_Chopin\n",
       "context     The funeral, held at the Church of the Madelei...\n",
       "question                     Where was Chopin's funeral held?\n",
       "answers     {'text': ['Church of the Madeleine'], 'answer_...\n",
       "Name: 2015, dtype: object"
      ]
     },
     "metadata": {},
     "output_type": "display_data"
    },
    {
     "data": {
      "text/plain": [
       "id                                   56cfeb52234ae51400d9c0bf\n",
       "title                                         Frédéric_Chopin\n",
       "context     Mozart's Requiem was sung at the funeral; the ...\n",
       "question              What song was sung at Chopin's funeral?\n",
       "answers     {'text': ['Mozart's Requiem'], 'answer_start':...\n",
       "Name: 2021, dtype: object"
      ]
     },
     "metadata": {},
     "output_type": "display_data"
    },
    {
     "data": {
      "text/plain": [
       "id                                   56cfec4b234ae51400d9c0cd\n",
       "title                                         Frédéric_Chopin\n",
       "context     Chopin's tombstone, featuring the muse of musi...\n",
       "question                     Who sculpted Chopin's tombstone?\n",
       "answers        {'text': ['Clésinger'], 'answer_start': [115]}\n",
       "Name: 2030, dtype: object"
      ]
     },
     "metadata": {},
     "output_type": "display_data"
    },
    {
     "data": {
      "text/plain": [
       "id                                   56cfec7b234ae51400d9c0d7\n",
       "title                                         Frédéric_Chopin\n",
       "context     Over 230 works of Chopin survive; some composi...\n",
       "question              How many of Chopin's works still exist?\n",
       "answers           {'text': ['Over 230'], 'answer_start': [0]}\n",
       "Name: 2040, dtype: object"
      ]
     },
     "metadata": {},
     "output_type": "display_data"
    },
    {
     "data": {
      "text/plain": [
       "id                                   56cfed0f234ae51400d9c0db\n",
       "title                                         Frédéric_Chopin\n",
       "context     Chopin was educated in the tradition of Beetho...\n",
       "question    Whose piano method did Chopin teach his students?\n",
       "answers          {'text': ['Clementi'], 'answer_start': [69]}\n",
       "Name: 2044, dtype: object"
      ]
     },
     "metadata": {},
     "output_type": "display_data"
    },
    {
     "data": {
      "text/plain": [
       "id                                   56cfed8a234ae51400d9c0e1\n",
       "title                                         Frédéric_Chopin\n",
       "context     Chopin took the new salon genre of the nocturn...\n",
       "question          Who is credited with creating the nocturne?\n",
       "answers        {'text': ['John Field'], 'answer_start': [80]}\n",
       "Name: 2048, dtype: object"
      ]
     },
     "metadata": {},
     "output_type": "display_data"
    },
    {
     "data": {
      "text/plain": [
       "id                                   56cfee5d234ae51400d9c0f7\n",
       "title                                         Frédéric_Chopin\n",
       "context     Chopin also endowed popular dance forms with a...\n",
       "question    How many polonaises were published while Chopi...\n",
       "answers            {'text': ['seven'], 'answer_start': [363]}\n",
       "Name: 2054, dtype: object"
      ]
     },
     "metadata": {},
     "output_type": "display_data"
    },
    {
     "data": {
      "text/plain": [
       "id                                   56cfef3c234ae51400d9c10d\n",
       "title                                         Frédéric_Chopin\n",
       "context     Some of Chopin's well-known pieces have acquir...\n",
       "question    What is another title Op. 10, No. 12 has garne...\n",
       "answers     {'text': ['the Revolutionary Étude'], 'answer_...\n",
       "Name: 2063, dtype: object"
      ]
     },
     "metadata": {},
     "output_type": "display_data"
    },
    {
     "data": {
      "text/plain": [
       "id                                   56cff00f234ae51400d9c113\n",
       "title                                         Frédéric_Chopin\n",
       "context     The last opus number that Chopin himself used ...\n",
       "question     What was the last number Chopin gave to an opus?\n",
       "answers                {'text': ['65'], 'answer_start': [50]}\n",
       "Name: 2069, dtype: object"
      ]
     },
     "metadata": {},
     "output_type": "display_data"
    },
    {
     "data": {
      "text/plain": [
       "id                                   56cff0c3234ae51400d9c123\n",
       "title                                         Frédéric_Chopin\n",
       "context     Works published since 1857 have received alter...\n",
       "question          The Kobylańska Catalogue was named for who?\n",
       "answers     {'text': ['Krystyna Kobylańska'], 'answer_star...\n",
       "Name: 2076, dtype: object"
      ]
     },
     "metadata": {},
     "output_type": "display_data"
    },
    {
     "data": {
      "text/plain": [
       "id                                   56cff179234ae51400d9c131\n",
       "title                                         Frédéric_Chopin\n",
       "context     Chopin's original publishers included Maurice ...\n",
       "question    Who released the first collection of Chopin's ...\n",
       "answers     {'text': ['Breitkopf & Härtel'], 'answer_start...\n",
       "Name: 2082, dtype: object"
      ]
     },
     "metadata": {},
     "output_type": "display_data"
    },
    {
     "data": {
      "text/plain": [
       "id                                   56cff256234ae51400d9c145\n",
       "title                                         Frédéric_Chopin\n",
       "context     Improvisation stands at the centre of Chopin's...\n",
       "question                 What is central to Chopin's process?\n",
       "answers      {'text': ['Improvisation'], 'answer_start': [0]}\n",
       "Name: 2088, dtype: object"
      ]
     },
     "metadata": {},
     "output_type": "display_data"
    },
    {
     "data": {
      "text/plain": [
       "id                                   56cff2e0234ae51400d9c14b\n",
       "title                                         Frédéric_Chopin\n",
       "context     J. Barrie Jones suggests that \"amongst the wor...\n",
       "question    What piece does J. Barrie Jones pinpoint as a ...\n",
       "answers     {'text': ['the Barcarolle Op. 60'], 'answer_st...\n",
       "Name: 2093, dtype: object"
      ]
     },
     "metadata": {},
     "output_type": "display_data"
    },
    {
     "data": {
      "text/plain": [
       "id                                   56cff351234ae51400d9c14d\n",
       "title                                         Frédéric_Chopin\n",
       "context     Chopin's mazurkas and waltzes are all in strai...\n",
       "question    Chopin's mazurkas contain more of what than hi...\n",
       "answers     {'text': ['folk features'], 'answer_start': [1...\n",
       "Name: 2096, dtype: object"
      ]
     },
     "metadata": {},
     "output_type": "display_data"
    },
    {
     "data": {
      "text/plain": [
       "id                                   56cff390234ae51400d9c151\n",
       "title                                         Frédéric_Chopin\n",
       "context     Chopin's polonaises show a marked advance on t...\n",
       "question        What time are Chopin's polonaises written in?\n",
       "answers      {'text': ['triple time'], 'answer_start': [193]}\n",
       "Name: 2101, dtype: object"
      ]
     },
     "metadata": {},
     "output_type": "display_data"
    },
    {
     "data": {
      "text/plain": [
       "id                                   56cff3f4234ae51400d9c153\n",
       "title                                         Frédéric_Chopin\n",
       "context     The 21 nocturnes are more structured, and of g...\n",
       "question               How many nocturnes did Chopin compose?\n",
       "answers                 {'text': ['21'], 'answer_start': [4]}\n",
       "Name: 2105, dtype: object"
      ]
     },
     "metadata": {},
     "output_type": "display_data"
    },
    {
     "data": {
      "text/plain": [
       "id                                   56cff427234ae51400d9c157\n",
       "title                                         Frédéric_Chopin\n",
       "context     Chopin's études are largely in straightforward...\n",
       "question    What pieces of his did Chopin use to teach his...\n",
       "answers             {'text': ['études'], 'answer_start': [9]}\n",
       "Name: 2110, dtype: object"
      ]
     },
     "metadata": {},
     "output_type": "display_data"
    },
    {
     "data": {
      "text/plain": [
       "id                                   56cff49a234ae51400d9c161\n",
       "title                                         Frédéric_Chopin\n",
       "context     The preludes, many of which are very brief (so...\n",
       "question    What piece of Bach's did Chopin take inspirati...\n",
       "answers     {'text': ['The Well-Tempered Clavier'], 'answe...\n",
       "Name: 2113, dtype: object"
      ]
     },
     "metadata": {},
     "output_type": "display_data"
    },
    {
     "data": {
      "text/plain": [
       "id                                   56cff536234ae51400d9c165\n",
       "title                                         Frédéric_Chopin\n",
       "context     The two mature piano sonatas (No. 2, Op. 35, w...\n",
       "question    How many movements are No. 2, Op. 35 and No. 3...\n",
       "answers             {'text': ['four'], 'answer_start': [104]}\n",
       "Name: 2119, dtype: object"
      ]
     },
     "metadata": {},
     "output_type": "display_data"
    },
    {
     "data": {
      "text/plain": [
       "id                                   56cff5a8234ae51400d9c173\n",
       "title                                         Frédéric_Chopin\n",
       "context     Chopin's harmonic innovations may have arisen ...\n",
       "question    Chopin's chord progressions are similar in sty...\n",
       "answers     {'text': ['Claude Debussy'], 'answer_start': [...\n",
       "Name: 2124, dtype: object"
      ]
     },
     "metadata": {},
     "output_type": "display_data"
    },
    {
     "data": {
      "text/plain": [
       "id                                   56cff635234ae51400d9c184\n",
       "title                                         Frédéric_Chopin\n",
       "context     In 1841, Léon Escudier wrote of a recital give...\n",
       "question                  What was Chopin's style based upon?\n",
       "answers     {'text': ['independent finger technique'], 'an...\n",
       "Name: 2127, dtype: object"
      ]
     },
     "metadata": {},
     "output_type": "display_data"
    },
    {
     "data": {
      "text/plain": [
       "id                                   56cff6f3234ae51400d9c191\n",
       "title                                         Frédéric_Chopin\n",
       "context     Polish composers of the following generation i...\n",
       "question    According to J. Barrie Jones who was the only ...\n",
       "answers     {'text': ['Karol Szymanowski'], 'answer_start'...\n",
       "Name: 2130, dtype: object"
      ]
     },
     "metadata": {},
     "output_type": "display_data"
    },
    {
     "data": {
      "text/plain": [
       "id                                   56cff817234ae51400d9c1a3\n",
       "title                                         Frédéric_Chopin\n",
       "context     Jonathan Bellman writes that modern concert pe...\n",
       "question    Who wrote that the current large concert style...\n",
       "answers     {'text': ['Jonathan Bellman'], 'answer_start':...\n",
       "Name: 2136, dtype: object"
      ]
     },
     "metadata": {},
     "output_type": "display_data"
    },
    {
     "data": {
      "text/plain": [
       "id                                   56cff885234ae51400d9c1b3\n",
       "title                                         Frédéric_Chopin\n",
       "context     Chopin's music is frequently played with rubat...\n",
       "question    Chopin's compositions are often played with what?\n",
       "answers            {'text': ['rubato'], 'answer_start': [41]}\n",
       "Name: 2142, dtype: object"
      ]
     },
     "metadata": {},
     "output_type": "display_data"
    },
    {
     "data": {
      "text/plain": [
       "id                                   56cff905234ae51400d9c1b7\n",
       "title                                         Frédéric_Chopin\n",
       "context     Friederike Müller, a pupil of Chopin, wrote: \"...\n",
       "question    According to who did Chopin demand strictly st...\n",
       "answers     {'text': ['Friederike Müller'], 'answer_start'...\n",
       "Name: 2146, dtype: object"
      ]
     },
     "metadata": {},
     "output_type": "display_data"
    },
    {
     "data": {
      "text/plain": [
       "id                                   56cffa2a234ae51400d9c1cf\n",
       "title                                         Frédéric_Chopin\n",
       "context     With his mazurkas and polonaises, Chopin has b...\n",
       "question       Chopin was noted as introducing music to what?\n",
       "answers     {'text': ['sense of nationalism'], 'answer_sta...\n",
       "Name: 2149, dtype: object"
      ]
     },
     "metadata": {},
     "output_type": "display_data"
    },
    {
     "data": {
      "text/plain": [
       "id                                   56cffb2b234ae51400d9c1e1\n",
       "title                                         Frédéric_Chopin\n",
       "context     Some modern commentators have argued against e...\n",
       "question    Who said that Chopin's familiarity with Polish...\n",
       "answers     {'text': ['Barbara Milewski'], 'answer_start':...\n",
       "Name: 2158, dtype: object"
      ]
     },
     "metadata": {},
     "output_type": "display_data"
    },
    {
     "data": {
      "text/plain": [
       "id                                   56cffba5234ae51400d9c1f1\n",
       "title                                         Frédéric_Chopin\n",
       "context     A reconciliation of these views is suggested b...\n",
       "question    William Atwood suggested that Chopin's music w...\n",
       "answers        {'text': ['intuitive'], 'answer_start': [443]}\n",
       "Name: 2161, dtype: object"
      ]
     },
     "metadata": {},
     "output_type": "display_data"
    },
    {
     "data": {
      "text/plain": [
       "id                                   56cffc2b234ae51400d9c1ff\n",
       "title                                         Frédéric_Chopin\n",
       "context     Jones comments that \"Chopin's unique position ...\n",
       "question    Arthur Hutchings stated that Chopin's lack of ...\n",
       "answers     {'text': ['Byronic flamboyance'], 'answer_star...\n",
       "Name: 2164, dtype: object"
      ]
     },
     "metadata": {},
     "output_type": "display_data"
    },
    {
     "data": {
      "text/plain": [
       "id                                   56cffcf3234ae51400d9c20d\n",
       "title                                         Frédéric_Chopin\n",
       "context     Chopin's qualities as a pianist and composer w...\n",
       "question    In what suite did Schumann name a work for Cho...\n",
       "answers         {'text': ['Carnaval'], 'answer_start': [138]}\n",
       "Name: 2168, dtype: object"
      ]
     },
     "metadata": {},
     "output_type": "display_data"
    },
    {
     "data": {
      "text/plain": [
       "id                                   56cffdaa234ae51400d9c226\n",
       "title                                         Frédéric_Chopin\n",
       "context     Two of Chopin's long-standing pupils, Karol Mi...\n",
       "question       Who dedicated his 1915 piano Études to Chopin?\n",
       "answers          {'text': ['Debussy'], 'answer_start': [392]}\n",
       "Name: 2176, dtype: object"
      ]
     },
     "metadata": {},
     "output_type": "display_data"
    },
    {
     "data": {
      "text/plain": [
       "id                                   56cc239e6d243a140015eeb7\n",
       "title          Sino-Tibetan_relations_during_the_Ming_dynasty\n",
       "context     The exact nature of relations between Tibet an...\n",
       "question            Who were Wang Jiawei and Nyima Gyaincain?\n",
       "answers     {'text': ['Mainland Chinese scholars'], 'answe...\n",
       "Name: 2180, dtype: object"
      ]
     },
     "metadata": {},
     "output_type": "display_data"
    }
   ],
   "source": [
    "counter = 0;\n",
    "total = 0\n",
    "for id, row in data.iterrows():\n",
    "\n",
    "  # This is to convert the content of 'answers' to be map<text,text> so it can be saved into Astra.\n",
    "  converted_answers = dict()\n",
    "  converted_answers['text'] = row.answers['text'][0]\n",
    "  converted_answers['answer_start'] = str(row.answers['answer_start'][0])\n",
    "\n",
    "  # Create Embedding for each conversation row, save them to the database\n",
    "  full_chunk = f\"{row.context} {row.title}\"\n",
    "  embedding = openai.Embedding.create(input=full_chunk, model=model_id)['data'][0]['embedding']\n",
    "\n",
    "  query = SimpleStatement(\n",
    "                f\"\"\"\n",
    "                INSERT INTO squad\n",
    "                (id, title, context, question, answers, title_context_embedding)\n",
    "                VALUES (%s, %s, %s, %s, %s, %s)\n",
    "                \"\"\"\n",
    "            )\n",
    "  display(row)\n",
    "\n",
    "  session.execute(query, (row.id, row.title, row.context, row.question, converted_answers, embedding))\n",
    "\n",
    "  # With free trial of openAI, the rate limit is set as 60/per min.  Please set this counter depends on your own rate limit.\n",
    "  counter += 1\n",
    "\n",
    "  # It takes a long time to load all data.  It is set as 300 so it takes a few mins to load.\n",
    "  total += 1\n",
    "\n",
    "  if(total >= 300):\n",
    "    break\n",
    "\n",
    "  # With OpenAPI free trial,  the rate limit is 60 / per min.   So when hit 60 requests,  the program will sleep for 60 seconds.\n",
    "  if (counter >= 60):\n",
    "    counter = 0;\n",
    "    time.sleep(60)\n"
   ]
  },
  {
   "cell_type": "markdown",
   "metadata": {
    "id": "LhPvL09Wo8to"
   },
   "source": [
    "# **Convert a query string into a text embedding to use as part of the query**\n",
    "\n",
    "Provide a question to find out the information of the university that you are interested and see how it works with Vector Search and ChatGPT.\n",
    "\n",
    "Here we use the same API that we used to calculate embeddings for each row in the database, but this time we are using your input question to calculate a vector to use in a query."
   ]
  },
  {
   "cell_type": "code",
   "execution_count": null,
   "metadata": {
    "colab": {
     "base_uri": "https://localhost:8080/",
     "height": 1000
    },
    "id": "1p_F_gUnpBf3",
    "outputId": "028a23a9-0d12-464f-9287-f3397cabd118"
   },
   "outputs": [
    {
     "data": {
      "text/plain": [
       "[-0.011592327617108822,\n",
       " -0.024977494031190872,\n",
       " -0.0011400480289012194,\n",
       " -0.027979139238595963,\n",
       " -0.002911664079874754,\n",
       " -0.01697763241827488,\n",
       " 0.0024430814664810896,\n",
       " -0.006960829719901085,\n",
       " -0.032189592719078064,\n",
       " 0.006128925830125809,\n",
       " 0.008203592151403427,\n",
       " -0.005117058753967285,\n",
       " 0.03887198865413666,\n",
       " -0.00402030348777771,\n",
       " -0.006828404031693935,\n",
       " -0.0028064027428627014,\n",
       " 0.0013480241177603602,\n",
       " -0.007456576451659203,\n",
       " 0.007959114387631416,\n",
       " 0.026933318004012108,\n",
       " -0.007605979684740305,\n",
       " 0.000877743645105511,\n",
       " 0.006356426049023867,\n",
       " -0.0010212046327069402,\n",
       " 0.0026468129362910986,\n",
       " -0.03572094067931175,\n",
       " 0.027340780943632126,\n",
       " -0.022763609886169434,\n",
       " 0.022600624710321426,\n",
       " -0.018947038799524307,\n",
       " -0.0021001333370804787,\n",
       " -0.016054049134254456,\n",
       " -0.03900780901312828,\n",
       " -0.018322261050343513,\n",
       " -0.030043620616197586,\n",
       " -0.012522702105343342,\n",
       " -0.009337698109447956,\n",
       " 0.0001390043762512505,\n",
       " 0.04403318837285042,\n",
       " 0.02838660217821598,\n",
       " 0.037595272064208984,\n",
       " 0.00550754414871335,\n",
       " -0.00481825228780508,\n",
       " -0.005504148546606302,\n",
       " -0.02075345814228058,\n",
       " 0.012183149345219135,\n",
       " 0.013133897446095943,\n",
       " 0.016638079658150673,\n",
       " -0.004105191677808762,\n",
       " 0.019354501739144325,\n",
       " 0.0022121856454759836,\n",
       " 0.032488398253917694,\n",
       " 0.004964259918779135,\n",
       " -0.014940316788852215,\n",
       " -0.035367805510759354,\n",
       " -0.01902853138744831,\n",
       " -0.018390173092484474,\n",
       " 0.029608992859721184,\n",
       " -0.010030386038124561,\n",
       " -0.03175496682524681,\n",
       " 0.011979417875409126,\n",
       " -0.0038946690037846565,\n",
       " -0.015130466781556606,\n",
       " 0.005358140915632248,\n",
       " -0.00810172688215971,\n",
       " 0.01788763515651226,\n",
       " 0.014464943669736385,\n",
       " -0.010526132769882679,\n",
       " -0.0220301765948534,\n",
       " -0.023673612624406815,\n",
       " 0.023986000567674637,\n",
       " 0.012841882184147835,\n",
       " 0.006271537858992815,\n",
       " -0.0016128751449286938,\n",
       " 0.005656947381794453,\n",
       " -0.006695978343486786,\n",
       " -0.012115239165723324,\n",
       " -0.009948893450200558,\n",
       " -0.0006349635077640414,\n",
       " 0.004923513624817133,\n",
       " 0.0035075789783149958,\n",
       " -0.028359439224004745,\n",
       " 0.0012130518443882465,\n",
       " -0.005870865657925606,\n",
       " -0.004556796979159117,\n",
       " -0.004475303925573826,\n",
       " 0.018200023099780083,\n",
       " 0.034906014800071716,\n",
       " -0.007164561189711094,\n",
       " -0.009188295342028141,\n",
       " 0.0189606212079525,\n",
       " 0.04416901245713234,\n",
       " 0.011762103997170925,\n",
       " 0.011959045194089413,\n",
       " -0.015999721363186836,\n",
       " 0.00029519860981963575,\n",
       " -0.015537929721176624,\n",
       " 0.011537999846041203,\n",
       " 0.04517408832907677,\n",
       " -0.0001282872399315238,\n",
       " -0.01248195581138134,\n",
       " 0.021269578486680984,\n",
       " -0.003565303049981594,\n",
       " -0.011938671581447124,\n",
       " -0.031646307557821274,\n",
       " -0.0258060023188591,\n",
       " 0.001246158266440034,\n",
       " -0.021405400708317757,\n",
       " 0.012020164169371128,\n",
       " -0.002376868622377515,\n",
       " -0.01203374657779932,\n",
       " 0.04332692176103592,\n",
       " -0.0017894424963742495,\n",
       " -0.0016502259531989694,\n",
       " 0.028468094766139984,\n",
       " -0.03919795900583267,\n",
       " 0.016651662066578865,\n",
       " 0.012583822011947632,\n",
       " 0.017615992575883865,\n",
       " -0.011952253989875317,\n",
       " 0.025724509730935097,\n",
       " 0.003281776560470462,\n",
       " 0.02675675041973591,\n",
       " -0.027041973546147346,\n",
       " 0.02275002934038639,\n",
       " -0.010913223028182983,\n",
       " -0.03607407584786415,\n",
       " -0.000855672697070986,\n",
       " 0.011605910025537014,\n",
       " 0.00495067797601223,\n",
       " 0.03305884823203087,\n",
       " -0.019476741552352905,\n",
       " 0.013704345561563969,\n",
       " 0.0003894244728144258,\n",
       " -0.010424266569316387,\n",
       " 0.0146143464371562,\n",
       " -0.01254307571798563,\n",
       " 0.0151847954839468,\n",
       " -0.036753181368112564,\n",
       " -0.033520638942718506,\n",
       " -0.0146143464371562,\n",
       " 0.002015245147049427,\n",
       " -0.014247629791498184,\n",
       " -0.0017054032068699598,\n",
       " -0.011110163293778896,\n",
       " 0.01962614431977272,\n",
       " 0.007076277397572994,\n",
       " 0.020006442442536354,\n",
       " 0.009378444403409958,\n",
       " -0.009405609220266342,\n",
       " 0.010526132769882679,\n",
       " -0.013242553919553757,\n",
       " 0.0001942877861438319,\n",
       " 0.01590464636683464,\n",
       " 0.012977702543139458,\n",
       " -0.0022817938588559628,\n",
       " -0.00655336631461978,\n",
       " 0.009731579571962357,\n",
       " -0.006247769109904766,\n",
       " 0.019177934154868126,\n",
       " -0.01776539534330368,\n",
       " -0.01800987310707569,\n",
       " 0.006217209156602621,\n",
       " 0.00031090292031876743,\n",
       " -0.004495677072554827,\n",
       " 0.023986000567674637,\n",
       " 0.006156089715659618,\n",
       " -0.013344420120120049,\n",
       " -0.0002415068302070722,\n",
       " -0.006933665368705988,\n",
       " -0.012685687281191349,\n",
       " 0.015252705663442612,\n",
       " -0.011741731315851212,\n",
       " -0.007368292659521103,\n",
       " 0.021514056250452995,\n",
       " 0.018458083271980286,\n",
       " 0.005490566603839397,\n",
       " 0.004543214570730925,\n",
       " -0.0292286928743124,\n",
       " -0.01585031859576702,\n",
       " 0.02113375812768936,\n",
       " 0.0004999912925995886,\n",
       " 0.02322540245950222,\n",
       " 0.034417059272527695,\n",
       " -0.029744813218712807,\n",
       " 0.008366577327251434,\n",
       " -0.00586407445371151,\n",
       " 0.020142264664173126,\n",
       " 0.01257023960351944,\n",
       " -0.0028861977625638247,\n",
       " 0.022247491404414177,\n",
       " 0.011035461910068989,\n",
       " 0.0019982673693448305,\n",
       " 0.010600834153592587,\n",
       " -0.6284712553024292,\n",
       " -0.028060631826519966,\n",
       " -0.0017215319676324725,\n",
       " -0.02586033008992672,\n",
       " -0.012285015545785427,\n",
       " 0.033765118569135666,\n",
       " 0.02952750027179718,\n",
       " 0.006268142256885767,\n",
       " -0.020902862772345543,\n",
       " 0.011707776226103306,\n",
       " -0.008719712495803833,\n",
       " 0.009514265693724155,\n",
       " -0.001501671620644629,\n",
       " -0.007497322745621204,\n",
       " -0.00815605465322733,\n",
       " -0.017018379643559456,\n",
       " 0.0054735890589654446,\n",
       " 0.0005836061318404973,\n",
       " 0.027381526306271553,\n",
       " -0.010071132332086563,\n",
       " -0.02873973734676838,\n",
       " 0.01521195936948061,\n",
       " -0.011517626233398914,\n",
       " 0.008305458351969719,\n",
       " -0.0037520569749176502,\n",
       " 0.010363147594034672,\n",
       " 0.008814787492156029,\n",
       " -0.0003476170531939715,\n",
       " -0.00828508473932743,\n",
       " -0.020495397970080376,\n",
       " 0.011320685967803001,\n",
       " 0.014437778852880001,\n",
       " -0.0022478385362774134,\n",
       " 0.004431162495166063,\n",
       " 0.01214919425547123,\n",
       " 0.023537790402770042,\n",
       " -0.0151847954839468,\n",
       " 0.0516120046377182,\n",
       " 0.011116954497992992,\n",
       " 0.02262778952717781,\n",
       " -0.012984493747353554,\n",
       " -0.016760319471359253,\n",
       " -0.0018573530251160264,\n",
       " 0.019408829510211945,\n",
       " -0.00795232318341732,\n",
       " 0.03400959447026253,\n",
       " 0.021106593310832977,\n",
       " -0.01722211204469204,\n",
       " 0.016094796359539032,\n",
       " -0.028848394751548767,\n",
       " 0.010838520713150501,\n",
       " -0.010071132332086563,\n",
       " -0.005117058753967285,\n",
       " -0.012740015983581543,\n",
       " 0.024094657972455025,\n",
       " -0.024868836626410484,\n",
       " 0.015714498236775398,\n",
       " -0.00854993611574173,\n",
       " 0.01523912325501442,\n",
       " -0.008984563872218132,\n",
       " 0.01026128139346838,\n",
       " 0.01872972585260868,\n",
       " -0.0013709438499063253,\n",
       " -0.015103302896022797,\n",
       " 0.011857178993523121,\n",
       " -0.023972418159246445,\n",
       " -0.048270806670188904,\n",
       " -0.015442855656147003,\n",
       " 0.02082137018442154,\n",
       " -0.008386950939893723,\n",
       " 0.005147618241608143,\n",
       " 0.010940386913716793,\n",
       " 0.010193371213972569,\n",
       " 0.018947038799524307,\n",
       " 0.023374805226922035,\n",
       " 0.009256205521523952,\n",
       " 0.015877483412623405,\n",
       " 0.0184309184551239,\n",
       " 0.008828368969261646,\n",
       " 0.0008921746048144996,\n",
       " -0.02003360725939274,\n",
       " -0.013663599267601967,\n",
       " 0.004916722420603037,\n",
       " 0.0075109051540493965,\n",
       " 0.008448069915175438,\n",
       " -0.035992581397295,\n",
       " -0.011470088735222816,\n",
       " -0.006777471397072077,\n",
       " -0.0043632518500089645,\n",
       " 0.01566016860306263,\n",
       " 0.02952750027179718,\n",
       " 0.01890629157423973,\n",
       " 0.002052595838904381,\n",
       " -0.04237617179751396,\n",
       " 0.00843448843806982,\n",
       " 0.046776775270700455,\n",
       " -0.01752091757953167,\n",
       " 0.0005806350382044911,\n",
       " -0.0013879215111956,\n",
       " 0.004241012968122959,\n",
       " -0.019585397094488144,\n",
       " 0.007993069477379322,\n",
       " 0.006723142694681883,\n",
       " -0.03270571306347847,\n",
       " 0.030831381678581238,\n",
       " 0.010471804067492485,\n",
       " 0.014532853849232197,\n",
       " 0.023021670058369637,\n",
       " 0.019775547087192535,\n",
       " -0.019286591559648514,\n",
       " 0.0022529319394379854,\n",
       " 0.006746911443769932,\n",
       " -0.024977494031190872,\n",
       " -0.006101761478930712,\n",
       " -0.02652585506439209,\n",
       " -0.039523929357528687,\n",
       " -0.011938671581447124,\n",
       " 0.013840166851878166,\n",
       " -0.011381804943084717,\n",
       " 0.012821508571505547,\n",
       " 0.0053547453135252,\n",
       " -0.03659019619226456,\n",
       " 0.007096650544553995,\n",
       " 0.0009821561397984624,\n",
       " -0.0026756750885397196,\n",
       " 0.0001931205770233646,\n",
       " -0.007130606099963188,\n",
       " -0.0052698575891554356,\n",
       " -0.020318832248449326,\n",
       " 0.016475094482302666,\n",
       " 0.0005827572895213962,\n",
       " 0.01902853138744831,\n",
       " 0.024882419034838676,\n",
       " -0.01152441743761301,\n",
       " 0.015823153778910637,\n",
       " 0.023537790402770042,\n",
       " -0.004010117147117853,\n",
       " -0.011694193817675114,\n",
       " -0.009188295342028141,\n",
       " -0.0002523300645407289,\n",
       " 0.0008726503583602607,\n",
       " 0.005083103198558092,\n",
       " 0.017656737938523293,\n",
       " 0.00448549073189497,\n",
       " -0.0025585293769836426,\n",
       " 0.0014142368454486132,\n",
       " -0.016719574108719826,\n",
       " 0.019463159143924713,\n",
       " -0.003775825724005699,\n",
       " 0.005140827503055334,\n",
       " 0.014410614967346191,\n",
       " -0.003471926087513566,\n",
       " -0.026960480958223343,\n",
       " 0.0009057567222043872,\n",
       " -0.0012571937404572964,\n",
       " -0.0013344419421628118,\n",
       " -0.007999860681593418,\n",
       " -0.02478734403848648,\n",
       " 0.0001732779637677595,\n",
       " -0.010471804067492485,\n",
       " 0.0016909722471609712,\n",
       " 0.027761826291680336,\n",
       " -0.0251948069781065,\n",
       " 0.005612805485725403,\n",
       " 0.007415830157697201,\n",
       " -0.0016960655339062214,\n",
       " -0.015578676015138626,\n",
       " 0.021649878472089767,\n",
       " -0.007463367655873299,\n",
       " -0.024162568151950836,\n",
       " 0.021106593310832977,\n",
       " 0.005884447600692511,\n",
       " -0.006682396400719881,\n",
       " 0.008658592589199543,\n",
       " 0.004954073578119278,\n",
       " -0.01476375013589859,\n",
       " -0.015999721363186836,\n",
       " -0.016244199126958847,\n",
       " -0.022247491404414177,\n",
       " -0.006125530228018761,\n",
       " -0.0004499072674661875,\n",
       " 0.0015857109101489186,\n",
       " -0.005741835571825504,\n",
       " -0.006383589934557676,\n",
       " 0.017072707414627075,\n",
       " -0.0006111948168836534,\n",
       " 0.013690763153135777,\n",
       " -0.012407254427671432,\n",
       " -0.015565094538033009,\n",
       " 0.021948684006929398,\n",
       " -0.012448000721633434,\n",
       " -0.005592432338744402,\n",
       " -0.007945531979203224,\n",
       " 0.012699269689619541,\n",
       " -0.005405678413808346,\n",
       " 0.005137431900948286,\n",
       " -0.007897995412349701,\n",
       " -0.013901285827159882,\n",
       " 0.01595897600054741,\n",
       " 0.00601687328889966,\n",
       " 0.016407184302806854,\n",
       " 0.011456507258117199,\n",
       " 0.041262440383434296,\n",
       " 0.027530930936336517,\n",
       " 0.0030814404599368572,\n",
       " -0.027096303179860115,\n",
       " 0.009106802754104137,\n",
       " 0.0017368118278682232,\n",
       " 0.03976840898394585,\n",
       " 0.0007156072533689439,\n",
       " -0.010920013301074505,\n",
       " 0.004981237463653088,\n",
       " -0.0186074860394001,\n",
       " -0.029500335454940796,\n",
       " -0.0003357327077537775,\n",
       " 0.027109885588288307,\n",
       " -0.005069521255791187,\n",
       " -0.0025822981260716915,\n",
       " -0.024678688496351242,\n",
       " -0.023075999692082405,\n",
       " 0.010139042511582375,\n",
       " 0.004967655520886183,\n",
       " 0.018444500863552094,\n",
       " -0.007266426924616098,\n",
       " -0.019042113795876503,\n",
       " -0.008230756968259811,\n",
       " -0.03604691103100777,\n",
       " 0.014940316788852215,\n",
       " 0.012142403051257133,\n",
       " -0.05533350259065628,\n",
       " -0.016121961176395416,\n",
       " 0.015918228775262833,\n",
       " -0.00908642914146185,\n",
       " 0.022057341411709785,\n",
       " 0.0261591374874115,\n",
       " 0.020183010026812553,\n",
       " -0.011388596147298813,\n",
       " 0.0025534359738230705,\n",
       " 0.021378235891461372,\n",
       " 0.021323908120393753,\n",
       " 0.019761964678764343,\n",
       " 0.02129674330353737,\n",
       " 0.01697763241827488,\n",
       " 0.009656878188252449,\n",
       " -0.012977702543139458,\n",
       " -0.01915077120065689,\n",
       " 0.015999721363186836,\n",
       " 0.0010025292867794633,\n",
       " -0.005561872851103544,\n",
       " 0.021500473842024803,\n",
       " -0.00010282079165335745,\n",
       " -0.0023683798499405384,\n",
       " 0.005449820309877396,\n",
       " 0.018050620332360268,\n",
       " 0.0111916558817029,\n",
       " -0.016407184302806854,\n",
       " 0.020848533138632774,\n",
       " 0.006967620458453894,\n",
       " 0.009514265693724155,\n",
       " 0.01722211204469204,\n",
       " 0.012461583130061626,\n",
       " 0.019164351746439934,\n",
       " 0.023714357987046242,\n",
       " 0.006424336228519678,\n",
       " 0.012760389596223831,\n",
       " -0.0036977285053581,\n",
       " 0.03066839650273323,\n",
       " 0.022274654358625412,\n",
       " -0.0009083033655770123,\n",
       " -0.010940386913716793,\n",
       " -0.02917436510324478,\n",
       " -0.026417197659611702,\n",
       " -0.004580565262585878,\n",
       " -0.01811853051185608,\n",
       " 0.010227326303720474,\n",
       " -0.007252844981849194,\n",
       " 0.02982630580663681,\n",
       " 0.0022104878444224596,\n",
       " 0.003510974580422044,\n",
       " 0.00885553378611803,\n",
       " -0.00022728806652594358,\n",
       " -0.0030814404599368572,\n",
       " 0.020264502614736557,\n",
       " 0.02389092557132244,\n",
       " -0.008841951377689838,\n",
       " -0.005925193894654512,\n",
       " -0.003100115805864334,\n",
       " 0.01296412106603384,\n",
       " -0.034362729638814926,\n",
       " -0.003072951687499881,\n",
       " 0.020318832248449326,\n",
       " 0.00948031060397625,\n",
       " -0.005955753847956657,\n",
       " 0.0043598562479019165,\n",
       " -0.0005568663473241031,\n",
       " -0.026933318004012108,\n",
       " 0.011225610971450806,\n",
       " -0.039686914533376694,\n",
       " -0.029446007683873177,\n",
       " 0.0020916443318128586,\n",
       " 0.0013573617907240987,\n",
       " 0.00038475560722872615,\n",
       " -0.017561662942171097,\n",
       " -0.018200023099780083,\n",
       " 0.05234543979167938,\n",
       " -0.012407254427671432,\n",
       " 0.0025958800688385963,\n",
       " -0.0022325587924569845,\n",
       " -0.015103302896022797,\n",
       " -0.010668744333088398,\n",
       " 0.029554663226008415,\n",
       " 0.004784297198057175,\n",
       " 0.0006816519889980555,\n",
       " 0.0009745161514729261,\n",
       " -0.0229945071041584,\n",
       " -0.006071201525628567,\n",
       " 0.005341163370758295,\n",
       " 0.0018403754802420735,\n",
       " 0.012352925725281239,\n",
       " -0.016665244475007057,\n",
       " 0.020848533138632774,\n",
       " -0.027503766119480133,\n",
       " -0.024447791278362274,\n",
       " 0.014777331613004208,\n",
       " 0.08670816570520401,\n",
       " 0.017235692590475082,\n",
       " 0.01026128139346838,\n",
       " 0.02124241553246975,\n",
       " 0.018797636032104492,\n",
       " -0.011904716491699219,\n",
       " -0.017846887931227684,\n",
       " -0.03656303137540817,\n",
       " 0.0015763732371851802,\n",
       " -0.004655267111957073,\n",
       " 0.007062695454806089,\n",
       " 0.009385235607624054,\n",
       " 0.02749018371105194,\n",
       " 0.005358140915632248,\n",
       " -0.018648233264684677,\n",
       " 0.005347954574972391,\n",
       " 0.002570413751527667,\n",
       " -0.02754451148211956,\n",
       " -0.0033378025982528925,\n",
       " -0.011157700791954994,\n",
       " -0.015537929721176624,\n",
       " 0.0063666123896837234,\n",
       " 0.03523198515176773,\n",
       " 0.028848394751548767,\n",
       " -0.011001505888998508,\n",
       " -0.022247491404414177,\n",
       " 0.01686897687613964,\n",
       " 0.01434270478785038,\n",
       " 0.013093151152133942,\n",
       " 0.003996534738689661,\n",
       " 0.017453007400035858,\n",
       " -0.0010246001183986664,\n",
       " 0.007524487096816301,\n",
       " -0.003538138698786497,\n",
       " -0.007429412100464106,\n",
       " 0.03941527381539345,\n",
       " 0.016352856531739235,\n",
       " 0.007850457914173603,\n",
       " 0.01223747804760933,\n",
       " 0.006027059629559517,\n",
       " 0.048162151128053665,\n",
       " 0.018525993451476097,\n",
       " -0.003010134445503354,\n",
       " -0.0107977744191885,\n",
       " 0.004743550904095173,\n",
       " -0.028603916987776756,\n",
       " 0.00650922441855073,\n",
       " 0.026661675423383713,\n",
       " 0.003969370853155851,\n",
       " -0.015293451957404613,\n",
       " 0.03580243140459061,\n",
       " -0.010152624920010567,\n",
       " -0.024977494031190872,\n",
       " -0.005106871947646141,\n",
       " 0.0030916270334273577,\n",
       " 0.0015797687228769064,\n",
       " 0.008706130087375641,\n",
       " -0.004149333573877811,\n",
       " 0.0006387834437191486,\n",
       " 4.0401460864814e-05,\n",
       " -0.0342269092798233,\n",
       " -0.019816294312477112,\n",
       " 0.0076806810684502125,\n",
       " -0.017453007400035858,\n",
       " -0.0023955439683049917,\n",
       " -0.03137466683983803,\n",
       " -0.009283369407057762,\n",
       " -0.015768826007843018,\n",
       " -0.02868540957570076,\n",
       " 0.0063767991960048676,\n",
       " -0.0005759662017226219,\n",
       " -0.01787405274808407,\n",
       " -0.04338124766945839,\n",
       " 0.0023514023050665855,\n",
       " 0.018525993451476097,\n",
       " -0.00806777086108923,\n",
       " 0.013975988142192364,\n",
       " 0.005915007553994656,\n",
       " -0.004308923147618771,\n",
       " 0.023198237642645836,\n",
       " -0.0059353807009756565,\n",
       " -0.024271223694086075,\n",
       " -0.010431057773530483,\n",
       " -0.025344211608171463,\n",
       " 0.005881051998585463,\n",
       " 0.01350061409175396,\n",
       " -0.026688840240240097,\n",
       " 0.012407254427671432,\n",
       " 0.007959114387631416,\n",
       " 0.0003533469862304628,\n",
       " 0.0070151579566299915,\n",
       " -0.028712572529911995,\n",
       " 0.0061119478195905685,\n",
       " -0.024637941271066666,\n",
       " -0.011959045194089413,\n",
       " 0.0035720940213650465,\n",
       " 0.004675640258938074,\n",
       " 0.02219316177070141,\n",
       " -0.01764315739274025,\n",
       " -0.01890629157423973,\n",
       " 0.006349634844809771,\n",
       " 0.0115855373442173,\n",
       " 0.00697441166266799,\n",
       " -0.021758534014225006,\n",
       " -0.005191760137677193,\n",
       " 0.029934963211417198,\n",
       " 0.015130466781556606,\n",
       " 0.024230478331446648,\n",
       " -0.0029388281982392073,\n",
       " 0.00628511980175972,\n",
       " 0.04074632003903389,\n",
       " -0.012685687281191349,\n",
       " 0.005969335790723562,\n",
       " 0.00025084451772272587,\n",
       " 0.009887773543596268,\n",
       " 0.0368618369102478,\n",
       " -0.005453215911984444,\n",
       " 0.007748591713607311,\n",
       " -0.014410614967346191,\n",
       " 0.013059195131063461,\n",
       " -0.00725963618606329,\n",
       " -0.004278363659977913,\n",
       " 0.024583613499999046,\n",
       " -0.002361588878557086,\n",
       " -0.02243763953447342,\n",
       " 0.02868540957570076,\n",
       " -0.010485386475920677,\n",
       " -0.017330767586827278,\n",
       " -0.030532576143741608,\n",
       " 0.023904507979750633,\n",
       " -0.009779117070138454,\n",
       " 0.03900780901312828,\n",
       " 0.01908285915851593,\n",
       " -0.030994366854429245,\n",
       " -0.01296412106603384,\n",
       " -0.040230199694633484,\n",
       " 0.006967620458453894,\n",
       " -0.01263135951012373,\n",
       " 0.00908642914146185,\n",
       " -0.026906153187155724,\n",
       " -0.0005615352420136333,\n",
       " -0.017385097220540047,\n",
       " -0.004930304829031229,\n",
       " -0.02754451148211956,\n",
       " -0.013432702980935574,\n",
       " -0.01686897687613964,\n",
       " -0.007965905591845512,\n",
       " -0.02245122194290161,\n",
       " 0.00040576542960479856,\n",
       " 0.007572024594992399,\n",
       " -0.006468478124588728,\n",
       " -0.0073071732185781,\n",
       " 0.0025568315759301186,\n",
       " 0.005867470055818558,\n",
       " -0.024556448683142662,\n",
       " -0.029663320630788803,\n",
       " -0.011857178993523121,\n",
       " -0.009806280955672264,\n",
       " 0.012101656757295132,\n",
       " 0.026199882850050926,\n",
       " 0.031347502022981644,\n",
       " -0.01281471736729145,\n",
       " 0.021160922944545746,\n",
       " 0.012475164607167244,\n",
       " 0.00708306860178709,\n",
       " 0.014546436257660389,\n",
       " -0.014478526078164577,\n",
       " 0.013711136765778065,\n",
       " -0.014913152903318405,\n",
       " 0.006831799633800983,\n",
       " 0.04998215287923813,\n",
       " -0.002106924308463931,\n",
       " 0.00852277223020792,\n",
       " -0.03227108344435692,\n",
       " -0.01925942674279213,\n",
       " 0.0009142455528490245,\n",
       " 0.017792560160160065,\n",
       " -0.0008408172870986164,\n",
       " -0.0026502085383981466,\n",
       " -0.04422333836555481,\n",
       " -0.03726930171251297,\n",
       " 0.01329688262194395,\n",
       " -5.3134685003897175e-05,\n",
       " 0.00615269411355257,\n",
       " -0.00038242118898779154,\n",
       " -0.009032100439071655,\n",
       " 0.01643434911966324,\n",
       " 0.02478734403848648,\n",
       " 0.008319039829075336,\n",
       " 0.0023632864467799664,\n",
       " 0.02459719590842724,\n",
       " -0.024923166260123253,\n",
       " 0.016393601894378662,\n",
       " 0.0023632864467799664,\n",
       " -0.010790984146296978,\n",
       " -0.021459728479385376,\n",
       " -0.02099793590605259,\n",
       " -0.020930025726556778,\n",
       " -0.005337767768651247,\n",
       " -0.003772430121898651,\n",
       " -0.015429273247718811,\n",
       " -0.011762103997170925,\n",
       " 0.010254490189254284,\n",
       " -0.0017223808681592345,\n",
       " -0.012183149345219135,\n",
       " 0.01729002222418785,\n",
       " -0.036943331360816956,\n",
       " -0.008183219470083714,\n",
       " 0.00559582794085145,\n",
       " -0.03917079418897629,\n",
       " 0.0061357165686786175,\n",
       " -0.012013372965157032,\n",
       " -0.03835586830973625,\n",
       " -0.015429273247718811,\n",
       " 0.0337107889354229,\n",
       " 0.00016542580851819366,\n",
       " -0.019721219316124916,\n",
       " 0.012529493309557438,\n",
       " -0.013908077031373978,\n",
       " -0.014410614967346191,\n",
       " 0.010790984146296978,\n",
       " -5.217969373916276e-05,\n",
       " 0.02094360813498497,\n",
       " 0.0045601921156048775,\n",
       " 0.012373299337923527,\n",
       " 0.01806420087814331,\n",
       " 0.004699409008026123,\n",
       " -0.00057978619588539,\n",
       " 0.016950469464063644,\n",
       " 0.030831381678581238,\n",
       " -0.01272643357515335,\n",
       " 0.021500473842024803,\n",
       " 0.022600624710321426,\n",
       " -0.024882419034838676,\n",
       " 0.008699338883161545,\n",
       " -0.00863821990787983,\n",
       " 0.0398498997092247,\n",
       " -0.00337515352293849,\n",
       " -0.016339274123311043,\n",
       " 0.02045465260744095,\n",
       " 0.0016035374719649553,\n",
       " -0.025412121787667274,\n",
       " 0.011938671581447124,\n",
       " -0.011857178993523121,\n",
       " -0.002222372218966484,\n",
       " 0.0007126361597329378,\n",
       " 0.003772430121898651,\n",
       " -0.010397102683782578,\n",
       " -0.028712572529911995,\n",
       " 0.008278293535113335,\n",
       " -0.010010012425482273,\n",
       " 0.008448069915175438,\n",
       " -0.010105087421834469,\n",
       " 0.028549587354063988,\n",
       " 0.013541360385715961,\n",
       " -0.0029948544688522816,\n",
       " 0.00801344309002161,\n",
       " -0.03066839650273323,\n",
       " -0.007354710716754198,\n",
       " 0.010071132332086563,\n",
       " -0.01667882688343525,\n",
       " 0.011870761401951313,\n",
       " -0.0032919631339609623,\n",
       " -0.00725963618606329,\n",
       " -0.006179858464747667,\n",
       " 0.010023594833910465,\n",
       " -0.027340780943632126,\n",
       " 0.010057549923658371,\n",
       " -0.0014821473741903901,\n",
       " 0.021677041426301003,\n",
       " 0.0029490150045603514,\n",
       " 0.0010127158602699637,\n",
       " 0.009453145787119865,\n",
       " -0.0005288532702252269,\n",
       " 0.028006304055452347,\n",
       " -0.015062556602060795,\n",
       " -0.015062556602060795,\n",
       " -0.009106802754104137,\n",
       " -0.021079430356621742,\n",
       " 0.008950607851147652,\n",
       " 0.005745231173932552,\n",
       " -0.0026315331924706697,\n",
       " -0.00559582794085145,\n",
       " 0.006207022815942764,\n",
       " -0.016298528760671616,\n",
       " -0.01897420361638069,\n",
       " 0.0019201702671125531,\n",
       " -0.011571954935789108,\n",
       " -0.029907798394560814,\n",
       " -0.005167991388589144,\n",
       " -0.012278224341571331,\n",
       " -0.027816154062747955,\n",
       " 0.005633178632706404,\n",
       " 0.008420906029641628,\n",
       " -0.0027113279793411493,\n",
       " 0.016475094482302666,\n",
       " 0.0043326918967068195,\n",
       " -0.0002801309456117451,\n",
       " 0.0018573530251160264,\n",
       " 0.013514196500182152,\n",
       " 0.0004668848996516317,\n",
       " 0.0151847954839468,\n",
       " -0.0016994611360132694,\n",
       " 0.013466659002006054,\n",
       " -0.010695909149944782,\n",
       " -0.0019082860089838505,\n",
       " 0.010974342003464699,\n",
       " -0.00852277223020792,\n",
       " -0.010661954060196877,\n",
       " 0.00632926169782877,\n",
       " 0.011286730878055096,\n",
       " -0.003162933047860861,\n",
       " 0.004869185388088226,\n",
       " -0.01853957585990429,\n",
       " 0.0020492002367973328,\n",
       " 0.008543144911527634,\n",
       " 0.023334059864282608,\n",
       " -0.03262421861290932,\n",
       " -0.02838660217821598,\n",
       " 0.007252844981849194,\n",
       " -0.004556796979159117,\n",
       " 0.012203522957861423,\n",
       " 0.019612561911344528,\n",
       " 0.002144275000318885,\n",
       " 0.013038822449743748,\n",
       " 0.015931811183691025,\n",
       " -0.00899814534932375,\n",
       " -0.003884482430294156,\n",
       " -0.01885196380317211,\n",
       " -0.017792560160160065,\n",
       " -0.006855568382889032,\n",
       " -0.007205307483673096,\n",
       " -0.015144049189984798,\n",
       " -0.015293451957404613,\n",
       " -0.025004658848047256,\n",
       " -0.0007351314998231828,\n",
       " -0.0015874087112024426,\n",
       " 0.02184002660214901,\n",
       " 0.008746876381337643,\n",
       " -0.018471665680408478,\n",
       " -0.0037350791972130537,\n",
       " 0.008454861119389534,\n",
       " 0.0022750028874725103,\n",
       " 0.012577030807733536,\n",
       " -0.0032257502898573875,\n",
       " -0.02466510608792305,\n",
       " -0.02622704766690731,\n",
       " -0.007368292659521103,\n",
       " -0.004777505993843079,\n",
       " -0.010200162418186665,\n",
       " -0.007633144035935402,\n",
       " 0.05948962643742561,\n",
       " -0.0035686984192579985,\n",
       " -0.009290160611271858,\n",
       " -0.004213848616927862,\n",
       " 0.0061662765219807625,\n",
       " -0.0075109051540493965,\n",
       " 0.003164630848914385,\n",
       " -0.024040328338742256,\n",
       " 0.01883838139474392,\n",
       " 0.03797556832432747,\n",
       " 0.01769748516380787,\n",
       " -0.0021595549769699574,\n",
       " -0.011999791488051414,\n",
       " -0.039034973829984665,\n",
       " 0.013045613653957844,\n",
       " 0.014668675139546394,\n",
       " 0.014682257547974586,\n",
       " 0.019734801724553108,\n",
       " 0.0018930061487480998,\n",
       " 0.00034846592461690307,\n",
       " 0.010050758719444275,\n",
       " -0.02352420799434185,\n",
       " -0.022274654358625412,\n",
       " 0.02461077645421028,\n",
       " -0.0024176149163395166,\n",
       " 0.01217635814100504,\n",
       " 0.02022375725209713,\n",
       " -0.000717729446478188,\n",
       " 0.013935240916907787,\n",
       " -0.0019116814946755767,\n",
       " -0.005690902471542358,\n",
       " 0.003096720203757286,\n",
       " 0.02873973734676838,\n",
       " 0.019001366570591927,\n",
       " -0.05405678600072861,\n",
       " -0.015442855656147003,\n",
       " -0.02315749228000641,\n",
       " -0.016420766711235046,\n",
       " 0.0011018484365195036,\n",
       " -0.017371514812111855,\n",
       " 0.0030814404599368572,\n",
       " 0.013378375209867954,\n",
       " -0.0063394480384886265,\n",
       " -0.002263118512928486,\n",
       " 0.012651732191443443,\n",
       " 0.005752021912485361,\n",
       " 0.0031850039958953857,\n",
       " 0.012610985897481441,\n",
       " 0.01043784897774458,\n",
       " -0.015048974193632603,\n",
       " 0.009880982339382172,\n",
       " 0.023374805226922035,\n",
       " 0.005212133284658194,\n",
       " -0.01338516641408205,\n",
       " 0.004838625434786081,\n",
       " -0.01368397194892168,\n",
       " 0.010315610095858574,\n",
       " -0.006774075794965029,\n",
       " -0.024081075564026833,\n",
       " 0.010634789243340492,\n",
       " -0.016339274123311043,\n",
       " -0.0020763645879924297,\n",
       " -0.007035531103610992,\n",
       " -0.013358001597225666,\n",
       " -0.028875557705760002,\n",
       " 0.012794344685971737,\n",
       " -0.008923443965613842,\n",
       " 0.0147909140214324,\n",
       " 0.019598979502916336,\n",
       " -0.03270571306347847,\n",
       " 0.0018403754802420735,\n",
       " -0.0019354502437636256,\n",
       " -0.0002939252881333232,\n",
       " -0.03170063719153404,\n",
       " -0.006875941529870033,\n",
       " 0.013425912708044052,\n",
       " -0.01590464636683464,\n",
       " -0.046668119728565216,\n",
       " 0.0421316958963871,\n",
       " -0.03601974621415138,\n",
       " -0.012420836836099625,\n",
       " 0.0015831643249839544,\n",
       " 0.00038157231756486,\n",
       " 0.0047707147896289825,\n",
       " 0.012223895639181137,\n",
       " 0.21981281042099,\n",
       " 0.009174712933599949,\n",
       " -0.0005568663473241031,\n",
       " 0.020386742427945137,\n",
       " -0.02261420711874962,\n",
       " -0.017059125006198883,\n",
       " 0.016189871355891228,\n",
       " 0.005823328159749508,\n",
       " -0.034824520349502563,\n",
       " 0.034906014800071716,\n",
       " -0.017833305522799492,\n",
       " 0.014356286264955997,\n",
       " -0.04226751625537872,\n",
       " 0.00648206053301692,\n",
       " 0.002522876253351569,\n",
       " 0.0077078454196453094,\n",
       " -0.03477019444108009,\n",
       " -0.03841019794344902,\n",
       " -0.022831521928310394,\n",
       " 0.03955109417438507,\n",
       " 0.00019662221893668175,\n",
       " -0.015130466781556606,\n",
       " -0.012155985459685326,\n",
       " -0.036155566573143005,\n",
       " 0.023660030215978622,\n",
       " 0.020087935030460358,\n",
       " -0.004200266674160957,\n",
       " 0.01685539446771145,\n",
       " 0.03580243140459061,\n",
       " 0.0047673191875219345,\n",
       " -0.003514370182529092,\n",
       " 0.014247629791498184,\n",
       " -0.00023365467495750636,\n",
       " 0.010852103121578693,\n",
       " -0.011402178555727005,\n",
       " -0.0043292962945997715,\n",
       " 0.0012155985459685326,\n",
       " -0.014695839025080204,\n",
       " -0.008142473176121712,\n",
       " 0.0039489977061748505,\n",
       " -0.013697554357349873,\n",
       " -0.012651732191443443,\n",
       " 0.005762208718806505,\n",
       " -0.018403753638267517,\n",
       " -0.025004658848047256,\n",
       " -0.00025275451480410993,\n",
       " ...]"
      ]
     },
     "metadata": {},
     "output_type": "display_data"
    }
   ],
   "source": [
    "# Question to find out the information that you need.\n",
    "customer_input = \"when was the college of engineering in the University of Notre Dame established?\"\n",
    "\n",
    "# Create embedding based on same model\n",
    "embedding = openai.Embedding.create(input=customer_input, model=model_id)['data'][0]['embedding']\n",
    "display(embedding)"
   ]
  },
  {
   "cell_type": "markdown",
   "metadata": {
    "id": "ocsEwZ1XpUGy"
   },
   "source": [
    "Let's take a look at what a query against a vector index could look like. The query vector has the same dimensions (number of entries in the list) as the embeddings we generated a few steps ago for each row in the database."
   ]
  },
  {
   "cell_type": "code",
   "execution_count": null,
   "metadata": {
    "colab": {
     "base_uri": "https://localhost:8080/",
     "height": 1000
    },
    "id": "Idy_fxvypbae",
    "outputId": "21740c11-a582-4e7f-b37d-5f6c09c3a09a"
   },
   "outputs": [
    {
     "data": {
      "text/plain": [
       "<SimpleStatement query=\"\n",
       "    SELECT *\n",
       "    FROM vector_preview.squad\n",
       "    ORDER BY title_context_embedding ANN OF [-0.011592327617108822, -0.024977494031190872, -0.0011400480289012194, -0.027979139238595963, -0.002911664079874754, -0.01697763241827488, 0.0024430814664810896, -0.006960829719901085, -0.032189592719078064, 0.006128925830125809, 0.008203592151403427, -0.005117058753967285, 0.03887198865413666, -0.00402030348777771, -0.006828404031693935, -0.0028064027428627014, 0.0013480241177603602, -0.007456576451659203, 0.007959114387631416, 0.026933318004012108, -0.007605979684740305, 0.000877743645105511, 0.006356426049023867, -0.0010212046327069402, 0.0026468129362910986, -0.03572094067931175, 0.027340780943632126, -0.022763609886169434, 0.022600624710321426, -0.018947038799524307, -0.0021001333370804787, -0.016054049134254456, -0.03900780901312828, -0.018322261050343513, -0.030043620616197586, -0.012522702105343342, -0.009337698109447956, 0.0001390043762512505, 0.04403318837285042, 0.02838660217821598, 0.037595272064208984, 0.00550754414871335, -0.00481825228780508, -0.005504148546606302, -0.02075345814228058, 0.012183149345219135, 0.013133897446095943, 0.016638079658150673, -0.004105191677808762, 0.019354501739144325, 0.0022121856454759836, 0.032488398253917694, 0.004964259918779135, -0.014940316788852215, -0.035367805510759354, -0.01902853138744831, -0.018390173092484474, 0.029608992859721184, -0.010030386038124561, -0.03175496682524681, 0.011979417875409126, -0.0038946690037846565, -0.015130466781556606, 0.005358140915632248, -0.00810172688215971, 0.01788763515651226, 0.014464943669736385, -0.010526132769882679, -0.0220301765948534, -0.023673612624406815, 0.023986000567674637, 0.012841882184147835, 0.006271537858992815, -0.0016128751449286938, 0.005656947381794453, -0.006695978343486786, -0.012115239165723324, -0.009948893450200558, -0.0006349635077640414, 0.004923513624817133, 0.0035075789783149958, -0.028359439224004745, 0.0012130518443882465, -0.005870865657925606, -0.004556796979159117, -0.004475303925573826, 0.018200023099780083, 0.034906014800071716, -0.007164561189711094, -0.009188295342028141, 0.0189606212079525, 0.04416901245713234, 0.011762103997170925, 0.011959045194089413, -0.015999721363186836, 0.00029519860981963575, -0.015537929721176624, 0.011537999846041203, 0.04517408832907677, -0.0001282872399315238, -0.01248195581138134, 0.021269578486680984, -0.003565303049981594, -0.011938671581447124, -0.031646307557821274, -0.0258060023188591, 0.001246158266440034, -0.021405400708317757, 0.012020164169371128, -0.002376868622377515, -0.01203374657779932, 0.04332692176103592, -0.0017894424963742495, -0.0016502259531989694, 0.028468094766139984, -0.03919795900583267, 0.016651662066578865, 0.012583822011947632, 0.017615992575883865, -0.011952253989875317, 0.025724509730935097, 0.003281776560470462, 0.02675675041973591, -0.027041973546147346, 0.02275002934038639, -0.010913223028182983, -0.03607407584786415, -0.000855672697070986, 0.011605910025537014, 0.00495067797601223, 0.03305884823203087, -0.019476741552352905, 0.013704345561563969, 0.0003894244728144258, -0.010424266569316387, 0.0146143464371562, -0.01254307571798563, 0.0151847954839468, -0.036753181368112564, -0.033520638942718506, -0.0146143464371562, 0.002015245147049427, -0.014247629791498184, -0.0017054032068699598, -0.011110163293778896, 0.01962614431977272, 0.007076277397572994, 0.020006442442536354, 0.009378444403409958, -0.009405609220266342, 0.010526132769882679, -0.013242553919553757, 0.0001942877861438319, 0.01590464636683464, 0.012977702543139458, -0.0022817938588559628, -0.00655336631461978, 0.009731579571962357, -0.006247769109904766, 0.019177934154868126, -0.01776539534330368, -0.01800987310707569, 0.006217209156602621, 0.00031090292031876743, -0.004495677072554827, 0.023986000567674637, 0.006156089715659618, -0.013344420120120049, -0.0002415068302070722, -0.006933665368705988, -0.012685687281191349, 0.015252705663442612, -0.011741731315851212, -0.007368292659521103, 0.021514056250452995, 0.018458083271980286, 0.005490566603839397, 0.004543214570730925, -0.0292286928743124, -0.01585031859576702, 0.02113375812768936, 0.0004999912925995886, 0.02322540245950222, 0.034417059272527695, -0.029744813218712807, 0.008366577327251434, -0.00586407445371151, 0.020142264664173126, 0.01257023960351944, -0.0028861977625638247, 0.022247491404414177, 0.011035461910068989, 0.0019982673693448305, 0.010600834153592587, -0.6284712553024292, -0.028060631826519966, -0.0017215319676324725, -0.02586033008992672, -0.012285015545785427, 0.033765118569135666, 0.02952750027179718, 0.006268142256885767, -0.020902862772345543, 0.011707776226103306, -0.008719712495803833, 0.009514265693724155, -0.001501671620644629, -0.007497322745621204, -0.00815605465322733, -0.017018379643559456, 0.0054735890589654446, 0.0005836061318404973, 0.027381526306271553, -0.010071132332086563, -0.02873973734676838, 0.01521195936948061, -0.011517626233398914, 0.008305458351969719, -0.0037520569749176502, 0.010363147594034672, 0.008814787492156029, -0.0003476170531939715, -0.00828508473932743, -0.020495397970080376, 0.011320685967803001, 0.014437778852880001, -0.0022478385362774134, 0.004431162495166063, 0.01214919425547123, 0.023537790402770042, -0.0151847954839468, 0.0516120046377182, 0.011116954497992992, 0.02262778952717781, -0.012984493747353554, -0.016760319471359253, -0.0018573530251160264, 0.019408829510211945, -0.00795232318341732, 0.03400959447026253, 0.021106593310832977, -0.01722211204469204, 0.016094796359539032, -0.028848394751548767, 0.010838520713150501, -0.010071132332086563, -0.005117058753967285, -0.012740015983581543, 0.024094657972455025, -0.024868836626410484, 0.015714498236775398, -0.00854993611574173, 0.01523912325501442, -0.008984563872218132, 0.01026128139346838, 0.01872972585260868, -0.0013709438499063253, -0.015103302896022797, 0.011857178993523121, -0.023972418159246445, -0.048270806670188904, -0.015442855656147003, 0.02082137018442154, -0.008386950939893723, 0.005147618241608143, 0.010940386913716793, 0.010193371213972569, 0.018947038799524307, 0.023374805226922035, 0.009256205521523952, 0.015877483412623405, 0.0184309184551239, 0.008828368969261646, 0.0008921746048144996, -0.02003360725939274, -0.013663599267601967, 0.004916722420603037, 0.0075109051540493965, 0.008448069915175438, -0.035992581397295, -0.011470088735222816, -0.006777471397072077, -0.0043632518500089645, 0.01566016860306263, 0.02952750027179718, 0.01890629157423973, 0.002052595838904381, -0.04237617179751396, 0.00843448843806982, 0.046776775270700455, -0.01752091757953167, 0.0005806350382044911, -0.0013879215111956, 0.004241012968122959, -0.019585397094488144, 0.007993069477379322, 0.006723142694681883, -0.03270571306347847, 0.030831381678581238, 0.010471804067492485, 0.014532853849232197, 0.023021670058369637, 0.019775547087192535, -0.019286591559648514, 0.0022529319394379854, 0.006746911443769932, -0.024977494031190872, -0.006101761478930712, -0.02652585506439209, -0.039523929357528687, -0.011938671581447124, 0.013840166851878166, -0.011381804943084717, 0.012821508571505547, 0.0053547453135252, -0.03659019619226456, 0.007096650544553995, 0.0009821561397984624, -0.0026756750885397196, 0.0001931205770233646, -0.007130606099963188, -0.0052698575891554356, -0.020318832248449326, 0.016475094482302666, 0.0005827572895213962, 0.01902853138744831, 0.024882419034838676, -0.01152441743761301, 0.015823153778910637, 0.023537790402770042, -0.004010117147117853, -0.011694193817675114, -0.009188295342028141, -0.0002523300645407289, 0.0008726503583602607, 0.005083103198558092, 0.017656737938523293, 0.00448549073189497, -0.0025585293769836426, 0.0014142368454486132, -0.016719574108719826, 0.019463159143924713, -0.003775825724005699, 0.005140827503055334, 0.014410614967346191, -0.003471926087513566, -0.026960480958223343, 0.0009057567222043872, -0.0012571937404572964, -0.0013344419421628118, -0.007999860681593418, -0.02478734403848648, 0.0001732779637677595, -0.010471804067492485, 0.0016909722471609712, 0.027761826291680336, -0.0251948069781065, 0.005612805485725403, 0.007415830157697201, -0.0016960655339062214, -0.015578676015138626, 0.021649878472089767, -0.007463367655873299, -0.024162568151950836, 0.021106593310832977, 0.005884447600692511, -0.006682396400719881, 0.008658592589199543, 0.004954073578119278, -0.01476375013589859, -0.015999721363186836, -0.016244199126958847, -0.022247491404414177, -0.006125530228018761, -0.0004499072674661875, 0.0015857109101489186, -0.005741835571825504, -0.006383589934557676, 0.017072707414627075, -0.0006111948168836534, 0.013690763153135777, -0.012407254427671432, -0.015565094538033009, 0.021948684006929398, -0.012448000721633434, -0.005592432338744402, -0.007945531979203224, 0.012699269689619541, -0.005405678413808346, 0.005137431900948286, -0.007897995412349701, -0.013901285827159882, 0.01595897600054741, 0.00601687328889966, 0.016407184302806854, 0.011456507258117199, 0.041262440383434296, 0.027530930936336517, 0.0030814404599368572, -0.027096303179860115, 0.009106802754104137, 0.0017368118278682232, 0.03976840898394585, 0.0007156072533689439, -0.010920013301074505, 0.004981237463653088, -0.0186074860394001, -0.029500335454940796, -0.0003357327077537775, 0.027109885588288307, -0.005069521255791187, -0.0025822981260716915, -0.024678688496351242, -0.023075999692082405, 0.010139042511582375, 0.004967655520886183, 0.018444500863552094, -0.007266426924616098, -0.019042113795876503, -0.008230756968259811, -0.03604691103100777, 0.014940316788852215, 0.012142403051257133, -0.05533350259065628, -0.016121961176395416, 0.015918228775262833, -0.00908642914146185, 0.022057341411709785, 0.0261591374874115, 0.020183010026812553, -0.011388596147298813, 0.0025534359738230705, 0.021378235891461372, 0.021323908120393753, 0.019761964678764343, 0.02129674330353737, 0.01697763241827488, 0.009656878188252449, -0.012977702543139458, -0.01915077120065689, 0.015999721363186836, 0.0010025292867794633, -0.005561872851103544, 0.021500473842024803, -0.00010282079165335745, -0.0023683798499405384, 0.005449820309877396, 0.018050620332360268, 0.0111916558817029, -0.016407184302806854, 0.020848533138632774, 0.006967620458453894, 0.009514265693724155, 0.01722211204469204, 0.012461583130061626, 0.019164351746439934, 0.023714357987046242, 0.006424336228519678, 0.012760389596223831, -0.0036977285053581, 0.03066839650273323, 0.022274654358625412, -0.0009083033655770123, -0.010940386913716793, -0.02917436510324478, -0.026417197659611702, -0.004580565262585878, -0.01811853051185608, 0.010227326303720474, -0.007252844981849194, 0.02982630580663681, 0.0022104878444224596, 0.003510974580422044, 0.00885553378611803, -0.00022728806652594358, -0.0030814404599368572, 0.020264502614736557, 0.02389092557132244, -0.008841951377689838, -0.005925193894654512, -0.003100115805864334, 0.01296412106603384, -0.034362729638814926, -0.003072951687499881, 0.020318832248449326, 0.00948031060397625, -0.005955753847956657, 0.0043598562479019165, -0.0005568663473241031, -0.026933318004012108, 0.011225610971450806, -0.039686914533376694, -0.029446007683873177, 0.0020916443318128586, 0.0013573617907240987, 0.00038475560722872615, -0.017561662942171097, -0.018200023099780083, 0.05234543979167938, -0.012407254427671432, 0.0025958800688385963, -0.0022325587924569845, -0.015103302896022797, -0.010668744333088398, 0.029554663226008415, 0.004784297198057175, 0.0006816519889980555, 0.0009745161514729261, -0.0229945071041584, -0.006071201525628567, 0.005341163370758295, 0.0018403754802420735, 0.012352925725281239, -0.016665244475007057, 0.020848533138632774, -0.027503766119480133, -0.024447791278362274, 0.014777331613004208, 0.08670816570520401, 0.017235692590475082, 0.01026128139346838, 0.02124241553246975, 0.018797636032104492, -0.011904716491699219, -0.017846887931227684, -0.03656303137540817, 0.0015763732371851802, -0.004655267111957073, 0.007062695454806089, 0.009385235607624054, 0.02749018371105194, 0.005358140915632248, -0.018648233264684677, 0.005347954574972391, 0.002570413751527667, -0.02754451148211956, -0.0033378025982528925, -0.011157700791954994, -0.015537929721176624, 0.0063666123896837234, 0.03523198515176773, 0.028848394751548767, -0.011001505888998508, -0.022247491404414177, 0.01686897687613964, 0.01434270478785038, 0.013093151152133942, 0.003996534738689661, 0.017453007400035858, -0.0010246001183986664, 0.007524487096816301, -0.003538138698786497, -0.007429412100464106, 0.03941527381539345, 0.016352856531739235, 0.007850457914173603, 0.01223747804760933, 0.006027059629559517, 0.048162151128053665, 0.018525993451476097, -0.003010134445503354, -0.0107977744191885, 0.004743550904095173, -0.028603916987776756, 0.00650922441855073, 0.026661675423383713, 0.003969370853155851, -0.015293451957404613, 0.03580243140459061, -0.010152624920010567, -0.024977494031190872, -0.005106871947646141, 0.0030916270334273577, 0.0015797687228769064, 0.008706130087375641, -0.004149333573877811, 0.0006387834437191486, 4.0401460864814e-05, -0.0342269092798233, -0.019816294312477112, 0.0076806810684502125, -0.017453007400035858, -0.0023955439683049917, -0.03137466683983803, -0.009283369407057762, -0.015768826007843018, -0.02868540957570076, 0.0063767991960048676, -0.0005759662017226219, -0.01787405274808407, -0.04338124766945839, 0.0023514023050665855, 0.018525993451476097, -0.00806777086108923, 0.013975988142192364, 0.005915007553994656, -0.004308923147618771, 0.023198237642645836, -0.0059353807009756565, -0.024271223694086075, -0.010431057773530483, -0.025344211608171463, 0.005881051998585463, 0.01350061409175396, -0.026688840240240097, 0.012407254427671432, 0.007959114387631416, 0.0003533469862304628, 0.0070151579566299915, -0.028712572529911995, 0.0061119478195905685, -0.024637941271066666, -0.011959045194089413, 0.0035720940213650465, 0.004675640258938074, 0.02219316177070141, -0.01764315739274025, -0.01890629157423973, 0.006349634844809771, 0.0115855373442173, 0.00697441166266799, -0.021758534014225006, -0.005191760137677193, 0.029934963211417198, 0.015130466781556606, 0.024230478331446648, -0.0029388281982392073, 0.00628511980175972, 0.04074632003903389, -0.012685687281191349, 0.005969335790723562, 0.00025084451772272587, 0.009887773543596268, 0.0368618369102478, -0.005453215911984444, 0.007748591713607311, -0.014410614967346191, 0.013059195131063461, -0.00725963618606329, -0.004278363659977913, 0.024583613499999046, -0.002361588878557086, -0.02243763953447342, 0.02868540957570076, -0.010485386475920677, -0.017330767586827278, -0.030532576143741608, 0.023904507979750633, -0.009779117070138454, 0.03900780901312828, 0.01908285915851593, -0.030994366854429245, -0.01296412106603384, -0.040230199694633484, 0.006967620458453894, -0.01263135951012373, 0.00908642914146185, -0.026906153187155724, -0.0005615352420136333, -0.017385097220540047, -0.004930304829031229, -0.02754451148211956, -0.013432702980935574, -0.01686897687613964, -0.007965905591845512, -0.02245122194290161, 0.00040576542960479856, 0.007572024594992399, -0.006468478124588728, -0.0073071732185781, 0.0025568315759301186, 0.005867470055818558, -0.024556448683142662, -0.029663320630788803, -0.011857178993523121, -0.009806280955672264, 0.012101656757295132, 0.026199882850050926, 0.031347502022981644, -0.01281471736729145, 0.021160922944545746, 0.012475164607167244, 0.00708306860178709, 0.014546436257660389, -0.014478526078164577, 0.013711136765778065, -0.014913152903318405, 0.006831799633800983, 0.04998215287923813, -0.002106924308463931, 0.00852277223020792, -0.03227108344435692, -0.01925942674279213, 0.0009142455528490245, 0.017792560160160065, -0.0008408172870986164, -0.0026502085383981466, -0.04422333836555481, -0.03726930171251297, 0.01329688262194395, -5.3134685003897175e-05, 0.00615269411355257, -0.00038242118898779154, -0.009032100439071655, 0.01643434911966324, 0.02478734403848648, 0.008319039829075336, 0.0023632864467799664, 0.02459719590842724, -0.024923166260123253, 0.016393601894378662, 0.0023632864467799664, -0.010790984146296978, -0.021459728479385376, -0.02099793590605259, -0.020930025726556778, -0.005337767768651247, -0.003772430121898651, -0.015429273247718811, -0.011762103997170925, 0.010254490189254284, -0.0017223808681592345, -0.012183149345219135, 0.01729002222418785, -0.036943331360816956, -0.008183219470083714, 0.00559582794085145, -0.03917079418897629, 0.0061357165686786175, -0.012013372965157032, -0.03835586830973625, -0.015429273247718811, 0.0337107889354229, 0.00016542580851819366, -0.019721219316124916, 0.012529493309557438, -0.013908077031373978, -0.014410614967346191, 0.010790984146296978, -5.217969373916276e-05, 0.02094360813498497, 0.0045601921156048775, 0.012373299337923527, 0.01806420087814331, 0.004699409008026123, -0.00057978619588539, 0.016950469464063644, 0.030831381678581238, -0.01272643357515335, 0.021500473842024803, 0.022600624710321426, -0.024882419034838676, 0.008699338883161545, -0.00863821990787983, 0.0398498997092247, -0.00337515352293849, -0.016339274123311043, 0.02045465260744095, 0.0016035374719649553, -0.025412121787667274, 0.011938671581447124, -0.011857178993523121, -0.002222372218966484, 0.0007126361597329378, 0.003772430121898651, -0.010397102683782578, -0.028712572529911995, 0.008278293535113335, -0.010010012425482273, 0.008448069915175438, -0.010105087421834469, 0.028549587354063988, 0.013541360385715961, -0.0029948544688522816, 0.00801344309002161, -0.03066839650273323, -0.007354710716754198, 0.010071132332086563, -0.01667882688343525, 0.011870761401951313, -0.0032919631339609623, -0.00725963618606329, -0.006179858464747667, 0.010023594833910465, -0.027340780943632126, 0.010057549923658371, -0.0014821473741903901, 0.021677041426301003, 0.0029490150045603514, 0.0010127158602699637, 0.009453145787119865, -0.0005288532702252269, 0.028006304055452347, -0.015062556602060795, -0.015062556602060795, -0.009106802754104137, -0.021079430356621742, 0.008950607851147652, 0.005745231173932552, -0.0026315331924706697, -0.00559582794085145, 0.006207022815942764, -0.016298528760671616, -0.01897420361638069, 0.0019201702671125531, -0.011571954935789108, -0.029907798394560814, -0.005167991388589144, -0.012278224341571331, -0.027816154062747955, 0.005633178632706404, 0.008420906029641628, -0.0027113279793411493, 0.016475094482302666, 0.0043326918967068195, -0.0002801309456117451, 0.0018573530251160264, 0.013514196500182152, 0.0004668848996516317, 0.0151847954839468, -0.0016994611360132694, 0.013466659002006054, -0.010695909149944782, -0.0019082860089838505, 0.010974342003464699, -0.00852277223020792, -0.010661954060196877, 0.00632926169782877, 0.011286730878055096, -0.003162933047860861, 0.004869185388088226, -0.01853957585990429, 0.0020492002367973328, 0.008543144911527634, 0.023334059864282608, -0.03262421861290932, -0.02838660217821598, 0.007252844981849194, -0.004556796979159117, 0.012203522957861423, 0.019612561911344528, 0.002144275000318885, 0.013038822449743748, 0.015931811183691025, -0.00899814534932375, -0.003884482430294156, -0.01885196380317211, -0.017792560160160065, -0.006855568382889032, -0.007205307483673096, -0.015144049189984798, -0.015293451957404613, -0.025004658848047256, -0.0007351314998231828, -0.0015874087112024426, 0.02184002660214901, 0.008746876381337643, -0.018471665680408478, -0.0037350791972130537, 0.008454861119389534, 0.0022750028874725103, 0.012577030807733536, -0.0032257502898573875, -0.02466510608792305, -0.02622704766690731, -0.007368292659521103, -0.004777505993843079, -0.010200162418186665, -0.007633144035935402, 0.05948962643742561, -0.0035686984192579985, -0.009290160611271858, -0.004213848616927862, 0.0061662765219807625, -0.0075109051540493965, 0.003164630848914385, -0.024040328338742256, 0.01883838139474392, 0.03797556832432747, 0.01769748516380787, -0.0021595549769699574, -0.011999791488051414, -0.039034973829984665, 0.013045613653957844, 0.014668675139546394, 0.014682257547974586, 0.019734801724553108, 0.0018930061487480998, 0.00034846592461690307, 0.010050758719444275, -0.02352420799434185, -0.022274654358625412, 0.02461077645421028, -0.0024176149163395166, 0.01217635814100504, 0.02022375725209713, -0.000717729446478188, 0.013935240916907787, -0.0019116814946755767, -0.005690902471542358, 0.003096720203757286, 0.02873973734676838, 0.019001366570591927, -0.05405678600072861, -0.015442855656147003, -0.02315749228000641, -0.016420766711235046, 0.0011018484365195036, -0.017371514812111855, 0.0030814404599368572, 0.013378375209867954, -0.0063394480384886265, -0.002263118512928486, 0.012651732191443443, 0.005752021912485361, 0.0031850039958953857, 0.012610985897481441, 0.01043784897774458, -0.015048974193632603, 0.009880982339382172, 0.023374805226922035, 0.005212133284658194, -0.01338516641408205, 0.004838625434786081, -0.01368397194892168, 0.010315610095858574, -0.006774075794965029, -0.024081075564026833, 0.010634789243340492, -0.016339274123311043, -0.0020763645879924297, -0.007035531103610992, -0.013358001597225666, -0.028875557705760002, 0.012794344685971737, -0.008923443965613842, 0.0147909140214324, 0.019598979502916336, -0.03270571306347847, 0.0018403754802420735, -0.0019354502437636256, -0.0002939252881333232, -0.03170063719153404, -0.006875941529870033, 0.013425912708044052, -0.01590464636683464, -0.046668119728565216, 0.0421316958963871, -0.03601974621415138, -0.012420836836099625, 0.0015831643249839544, 0.00038157231756486, 0.0047707147896289825, 0.012223895639181137, 0.21981281042099, 0.009174712933599949, -0.0005568663473241031, 0.020386742427945137, -0.02261420711874962, -0.017059125006198883, 0.016189871355891228, 0.005823328159749508, -0.034824520349502563, 0.034906014800071716, -0.017833305522799492, 0.014356286264955997, -0.04226751625537872, 0.00648206053301692, 0.002522876253351569, 0.0077078454196453094, -0.03477019444108009, -0.03841019794344902, -0.022831521928310394, 0.03955109417438507, 0.00019662221893668175, -0.015130466781556606, -0.012155985459685326, -0.036155566573143005, 0.023660030215978622, 0.020087935030460358, -0.004200266674160957, 0.01685539446771145, 0.03580243140459061, 0.0047673191875219345, -0.003514370182529092, 0.014247629791498184, -0.00023365467495750636, 0.010852103121578693, -0.011402178555727005, -0.0043292962945997715, 0.0012155985459685326, -0.014695839025080204, -0.008142473176121712, 0.0039489977061748505, -0.013697554357349873, -0.012651732191443443, 0.005762208718806505, -0.018403753638267517, -0.025004658848047256, -0.00025275451480410993, -0.01764315739274025, -0.02094360813498497, -0.017249274998903275, 0.024529283866286278, -0.01178926881402731, -0.02701481059193611, 0.04338124766945839, 0.03414541482925415, 0.006712956354022026, -0.02310316264629364, 0.010390311479568481, 0.00992851983755827, 0.03210809826850891, 0.012984493747353554, -0.03474302962422371, 0.019218681380152702, -0.032787203788757324, -0.002656999509781599, 0.0004881069471593946, 0.0014218768337741494, -0.014301958493888378, 0.013276509009301662, -0.0021816259250044823, -0.014641511254012585, 0.0029676903504878283, -0.012108447961509228, -0.002241047564893961, 0.00948031060397625, -0.026987645775079727, -0.0074837408028542995, 0.029690485447645187, 0.010824939236044884, -0.018403753638267517, 0.020318832248449326, 0.017724649980664253, -0.014057480730116367, -0.02568376436829567, -2.7853930077981204e-05, -0.012692478485405445, 0.006665418855845928, 0.021595548838377, -0.021880773827433586, -0.02394525334239006, 0.018390173092484474, 0.014397032558918, -0.022831521928310394, -0.03463437035679817, 0.012088075280189514, 0.0074769495986402035, 0.030016455799341202, 0.010573670268058777, 0.033520638942718506, -0.006611090153455734, 0.027530930936336517, -0.050987228751182556, 0.018390173092484474, 0.03941527381539345, 0.0010076225735247135, -0.03102153167128563, 0.018200023099780083, 0.005599223542958498, 0.03305884823203087, 0.02112017571926117, -0.0184309184551239, -0.021799281239509583, -0.013161061331629753, 0.01077061053365469, -0.00013030333502683789, -0.003144257701933384, 0.03346630930900574, -0.030206605792045593, -0.013059195131063461, 0.009942102245986462, -0.025181226432323456, -0.00792515929788351, -0.014084644615650177, -0.002915059681981802, 0.005952358245849609, -0.03047824651002884, -0.01107620820403099, -0.036101240664720535, 0.013663599267601967, -0.008142473176121712, -0.042403336614370346, 0.015755243599414825, -0.01068232674151659, 0.009527848102152348, 0.004190079867839813, -0.01014583371579647, -0.00013635162031278014, 0.0026298353914171457, -0.007076277397572994, -0.02717779576778412, -0.00319688837043941, 0.0009422586299479008, -0.03895348310470581, 0.02508615143597126, 0.003813176415860653, 0.019164351746439934, -0.017140617594122887, 0.009582175873219967, -0.00026676105335354805, 0.004675640258938074, -0.02418973110616207, 0.003329313825815916, -0.019789129495620728, -0.0016026885714381933, -0.032678548246622086, 0.007551651448011398, -0.030858546495437622, -0.018512411043047905, -0.048460956662893295, -0.038736168295145035, 0.004061049781739712, -0.019666889682412148, 0.007123814895749092, 0.03425407409667969, -0.02064480260014534, -0.011660238727927208, 9.703778778202832e-05, -0.17287304997444153, 0.01608121395111084, 0.019340919330716133, -0.020006442442536354, 0.020441070199012756, 0.013222180306911469, 0.03232541307806969, 0.015116884373128414, -0.011408969759941101, -0.005195155739784241, 0.009643295779824257, -0.0028794065583497286, -0.02766675129532814, 0.004400602541863918, -0.009548220783472061, 0.02503182180225849, 0.004519445821642876, 0.009256205521523952, 0.0011358036426827312, 0.0026756750885397196, 0.01908285915851593, -0.02784331887960434, 0.016543006524443626, -0.028114961460232735, -0.015945393592119217, 0.00124870496802032, -0.009684042073786259, 0.003701124107465148, -0.006115343421697617, -0.003541534300893545, 0.018444500863552094, 0.016475094482302666, 0.04302811250090599, 0.0022817938588559628, 0.0022834916599094868, -0.007667099125683308, -0.005799559410661459, -0.007605979684740305, -0.008027024567127228, 0.015130466781556606, 0.020495397970080376, 0.029500335454940796, 0.023374805226922035, -0.024692269042134285, -0.008712921291589737, 0.023198237642645836, 0.020359577611088753, 0.010886058211326599, 0.03917079418897629, -0.012889418751001358, 0.0012843579752370715, -0.04243050143122673, -0.008482025936245918, 0.016705991700291634, -0.002431197091937065, 0.0035347433295100927, -0.007191725540906191, 0.02621346525847912, 0.003677355358377099, -0.0021001333370804787, -0.025167644023895264, -0.002341215731576085, 0.02040032483637333, 0.0021205064840614796, -0.030532576143741608, -0.025710927322506905, 0.0021120174787938595, 0.005989708937704563, -0.009521056897938251, 0.012882628478109837, -0.0003769034519791603, -0.039279453456401825, -0.013534569181501865, -0.01697763241827488, 0.002814891515299678, -0.0061662765219807625, -0.004427766893059015, -0.005161200650036335, -0.012855463661253452, -0.004719782155007124, -0.009072847664356232, 0.03276004269719124, 0.01699121482670307, 0.008515981025993824, -0.006274933461099863, -0.019639726728200912, -0.009412399493157864, -0.01248195581138134, -0.004033885430544615, -0.008502398617565632, 0.0036094447132200003, -0.032135263085365295, -0.008807996287941933, -0.03360213339328766, 0.01613554172217846, 0.019761964678764343, -0.017914798110723495, -0.006950642913579941, -0.011402178555727005, -0.02473301626741886, 0.0110150882974267, -0.024393463507294655, -0.009867400862276554, 0.03444422408938408, 0.01752091757953167, 0.02903854474425316, -0.020563310012221336, -0.006159485317766666, 0.059924256056547165, 0.00439720693975687, -0.0009261298691853881, 0.007653517182916403, 0.01943599432706833, 0.019042113795876503, -0.0030016456730663776, 0.015442855656147003, 0.012943747453391552, -0.009521056897938251, -0.006210418418049812, -0.0059048207476735115, 0.03732362762093544, 0.03232541307806969, 0.004522841423749924, 0.021758534014225006, 0.004930304829031229, 0.00319688837043941, -0.10539714992046356, -0.012536284513771534, 0.008903071284294128, 0.04408751800656319, 0.007429412100464106, 0.016841812059283257, -0.00655336631461978, 0.0026756750885397196, -0.051530513912439346, 0.03172780200839043, 0.01383337564766407, -0.01901494897902012, -0.0033649669494479895, -0.0001378371671307832, 0.015374944545328617, -0.009656878188252449, -0.01017299760133028, -0.02849525958299637, -0.041561245918273926, 0.017615992575883865, -0.011225610971450806, -0.0073003824800252914, 0.0146143464371562, -0.010458221659064293, -0.0061085522174835205, -0.01788763515651226, -0.01699121482670307, 0.017181364819407463, 0.017860470339655876, 0.010281655006110668, -0.00033679380430839956, -0.0033649669494479895, 0.004784297198057175, -0.03172780200839043, -0.02712346613407135, -0.017615992575883865, -0.011334268376231194, 0.01853957585990429, 0.0256294347345829, -0.007008367218077183, 0.0027639586478471756, -0.020386742427945137, 0.01824076846241951, -0.0059048207476735115, 0.008733294904232025, -0.010139042511582375, -0.003118791151791811, 0.027395108714699745, -0.0006307190633378923, -0.055849622935056686, -0.014858824200928211, 0.005504148546606302, -0.016638079658150673, 0.0036434000357985497, 0.0184309184551239, -0.01908285915851593, 0.026485107839107513, 0.007103441748768091, -0.014981064014136791, -0.009446355514228344, 0.014994645491242409, 0.02675675041973591, -0.011069416999816895, -0.0013361397432163358, 0.023361222818493843, 0.020794205367565155, -0.0227364469319582, -0.0013225576840341091, -0.0052630663849413395, -0.014016734436154366, 0.0052596707828342915, 0.005334372166544199, -0.02076704055070877, 0.0021544615738093853, -0.01662449911236763, -0.007266426924616098, -0.004414184484630823, 0.011653447523713112, -0.015076138079166412, -0.019952114671468735, -0.0019252635538578033, -0.011096580885350704, 0.02334764041006565, -0.009100011549890041, 0.019042113795876503, 0.02022375725209713, -0.013738300651311874, 0.009582175873219967, 0.017439424991607666, 0.001386223710142076, 0.00652620242908597, 0.008074562065303326, 0.029663320630788803, -0.012346134521067142, -0.0031510486733168364, 0.006872545927762985, 0.015320615842938423, -0.01727643981575966, -0.04321826249361038, 0.03577527031302452, -0.010974342003464699, 0.003327616024762392, -0.07155054062604904, 0.028060631826519966, 0.010308818891644478, -0.011347849853336811, -0.0014660186134278774, -0.018104948103427887, 0.026186302304267883, -0.002201999071985483, 0.004634893964976072, 0.004842021036893129, -0.033629294484853745, -0.002753772074356675, 0.010906431823968887, -0.012291806749999523, -0.018756888806819916, 0.008278293535113335, 0.04517408832907677, 0.006353030446916819, 0.024447791278362274, 0.011755312792956829, 0.006101761478930712, -0.02101151831448078, 0.028169289231300354, 0.009011727757751942, -0.03308601304888725, -0.009595758281648159, 0.013908077031373978, -0.0026247419882565737, -0.005758813116699457, -0.007884413003921509, 0.011470088735222816, -0.006203627213835716, 0.010763819329440594, 0.032787203788757324, -0.0070694866590201855, -0.045934684574604034, 0.0021663459483534098, 0.029120037332177162, 0.021228833124041557, 0.038736168295145035, -0.0007202760898508132, -0.03066839650273323, 0.009622922167181969, 0.01601330377161503, 0.006987994071096182, 0.007008367218077183, 0.010750236921012402, 0.009588967077434063, 0.003945602104067802, 0.004431162495166063, -0.007993069477379322, 0.015931811183691025, -0.02143256366252899, 0.0024193127173930407, -0.012522702105343342, 0.00513064069673419, -0.010363147594034672, 0.02370077557861805, 1.1075252587033901e-05, -0.04392453283071518, 0.018756888806819916, -0.024257643148303032, -0.0009312231559306383, -0.008312249556183815, 0.00963650457561016, 0.01644793152809143, 0.011252774856984615, 0.0055211265571415424, 0.010125460103154182, 0.001085719675756991, -0.005843701306730509, -0.016298528760671616, 0.0114972535520792, 0.02112017571926117, -0.002429499290883541, -0.02742227353155613, -0.0025602271780371666, 0.01901494897902012, -0.01776539534330368, 0.018091365694999695, 0.0001134318154072389, -0.021215250715613365, -0.018756888806819916, 0.012977702543139458, 0.041914381086826324, -0.0021935102995485067, -0.0011926786974072456, 0.0052630663849413395, 0.0013004867359995842, 0.02010151743888855, 0.011863970197737217, 0.024203313514590263, -0.007123814895749092, -0.012312179431319237, 0.006492246873676777, -0.02113375812768936, -0.019191516563296318, -0.007212098687887192, -0.01987062208354473, 0.009004936553537846, 0.0016349460929632187, -0.012801135890185833, -0.007830084301531315, -0.017072707414627075, -0.027653168886899948, 0.030043620616197586, -0.011490462347865105, -0.016964051872491837, -0.025846749544143677, 0.017181364819407463, 0.0015339291421696544, 0.035259149968624115, -0.02952750027179718, 0.016773901879787445, -0.010886058211326599, -0.012502329424023628, -0.017860470339655876, -0.03172780200839043, -0.017493752762675285, 0.0356394462287426, 0.008509189821779728, 0.017928380519151688, 0.013269717805087566, -0.00012998499732930213, 0.026851825416088104, -0.006797844544053078, 0.02045465260744095, -0.03061406873166561, -0.009527848102152348, 0.005117058753967285, -0.00936486292630434, -0.0033157318830490112, 0.0036501912400126457, -0.021649878472089767, 0.00761956162750721, 0.00532758142799139, -0.017792560160160065, 0.021527638658881187, -0.025588689371943474, 0.06090216711163521, 0.014234047383069992, 0.0016969144344329834, 0.016597334295511246, -0.011796060018241405, 0.03398242965340614, -0.0059591494500637054, -0.0012300295056775212, -0.0038573183119297028, -0.02034599520266056, 0.0024142195470631123, -0.005915007553994656, 0.022913014516234398, -0.030559739097952843, -0.006689187604933977, -0.006797844544053078, -0.013127106241881847, 0.02406749315559864, -0.010750236921012402, -0.008325831033289433, 0.013398747891187668, -0.019055696204304695, -0.0048284390941262245, 0.029391678050160408, -0.014926735311746597, 0.0037384747993201017, 0.015741661190986633, 0.010179788805544376, -0.02417615056037903, -0.04783618077635765, -0.0002932886127382517, 0.03151048719882965, -0.045391399413347244, -0.008454861119389534, 0.013935240916907787, 0.006862359587103128, -0.012984493747353554, -0.004577170126140118, 0.025289881974458694, -0.03390093892812729, -0.023374805226922035, 0.02705555595457554, -0.01920509897172451, -0.006451500579714775, 0.005524521693587303, 0.01566016860306263, -0.014546436257660389, 0.012312179431319237, -0.019055696204304695] LIMIT 3;\n",
       "    \", consistency=Not Set>"
      ]
     },
     "metadata": {},
     "output_type": "display_data"
    }
   ],
   "source": [
    "# Use the embedding to find the information nearest to the question asked.\n",
    "query = SimpleStatement(\n",
    "    f\"\"\"\n",
    "    SELECT *\n",
    "    FROM squad\n",
    "    ORDER BY title_context_embedding ANN OF {embedding} LIMIT 3;\n",
    "    \"\"\"\n",
    "    )\n",
    "display(query)"
   ]
  },
  {
   "cell_type": "markdown",
   "metadata": {
    "id": "MMc2ZpL-3n1v"
   },
   "source": [
    "# **Find the top 3 results using ANN Similarity**"
   ]
  },
  {
   "cell_type": "code",
   "execution_count": null,
   "metadata": {
    "colab": {
     "base_uri": "https://localhost:8080/"
    },
    "id": "L2xxz1bn3oVg",
    "outputId": "b17791de-f9c6-42cc-b579-e1383cfd7acb"
   },
   "outputs": [
    {
     "name": "stdout",
     "output_type": "stream",
     "text": [
      "In 1842, the Bishop of Vincennes, Célestine Guynemer de la Hailandière, offered land to Father Edward Sorin of the Congregation of the Holy Cross, on the condition that he build a college in two years. Fr. Sorin arrived on the site with eight Holy Cross brothers from France and Ireland on November 26, 1842, and began the school using Father Stephen Badin's old log chapel. He soon erected additional buildings, including Old College, the first church, and the first main building. They immediately acquired two students and set about building additions to the campus.\n",
      "\n",
      "The first degrees from the college were awarded in 1849. The university was expanded with new buildings to accommodate more students and faculty. With each new president, new academic programs were offered and new buildings built to accommodate them. The original Main Building built by Sorin just after he arrived was replaced by a larger \"Main Building\" in 1865, which housed the university's administration, classrooms, and dormitories. Beginning in 1873, a library collection was started by Father Lemonnier. By 1879 it had grown to ten thousand volumes that were housed in the Main Building.\n",
      "\n",
      "In 1919 Father James Burns became president of Notre Dame, and in three years he produced an academic revolution that brought the school up to national standards by adopting the elective system and moving away from the university's traditional scholastic and classical emphasis. By contrast, the Jesuit colleges, bastions of academic conservatism, were reluctant to move to a system of electives. Their graduates were shut out of Harvard Law School for that reason. Notre Dame continued to grow over the years, adding more colleges, programs, and sports teams. By 1921, with the addition of the College of Commerce, Notre Dame had grown from a small college to a university with five colleges and a professional law school. The university continued to expand and add new residence halls and buildings with each subsequent president.\n",
      "\n"
     ]
    }
   ],
   "source": [
    "results = session.execute(query)\n",
    "top_3_results = results._current_rows\n",
    "\n",
    "for row in top_3_results:\n",
    "  print(f\"\"\"{row.context}\\n\"\"\")"
   ]
  },
  {
   "cell_type": "markdown",
   "metadata": {
    "id": "NJT7kj6q7A1T"
   },
   "source": [
    "# **Ask ChatGPT for some help**\n",
    "\n",
    "* Here we build a prompt with which we'll query ChatGPT. Note the \"roles\" in this little conversation give the LLM more context about who that part of the conversation is coming from.\n",
    "* This may take 10-20 seconds to return, so be patient."
   ]
  },
  {
   "cell_type": "code",
   "execution_count": null,
   "metadata": {
    "colab": {
     "base_uri": "https://localhost:8080/"
    },
    "id": "MdNR6fLT7MUM",
    "outputId": "966111fc-f59a-498f-cfc5-431737a0e5d0"
   },
   "outputs": [
    {
     "name": "stdout",
     "output_type": "stream",
     "text": [
      "The College of Engineering at the University of Notre Dame was established in 1920.\n"
     ]
    }
   ],
   "source": [
    "message_objects = []\n",
    "\n",
    "# With the role as 'system',  we tell the model how we want it to behave and tell it how its personality and type of response should be.\n",
    "message_objects.append({\"role\":\"system\",\n",
    "                        \"content\":\"You're a chatbot helping customers with questions.\"})\n",
    "\n",
    "# With the role as 'user',  pass the question from user.\n",
    "message_objects.append({\"role\":\"user\",\n",
    "                        \"content\": customer_input})\n",
    "\n",
    "answers_list = []\n",
    "\n",
    "# With the role as 'assistant',  load the results from Astra with Vector Search.  That helps the model to provide answer to the question asked by user.\n",
    "for row in top_3_results:\n",
    "    brand_dict = {'role': \"assistant\", \"content\": f\"{row.context}\"}\n",
    "    answers_list.append(brand_dict)\n",
    "\n",
    "message_objects.extend(answers_list)\n",
    "message_objects.append({\"role\": \"assistant\", \"content\":\"Here's my answer to your question.\"})\n",
    "\n",
    "completion = openai.ChatCompletion.create(\n",
    "  model=\"gpt-3.5-turbo\",\n",
    "  messages=message_objects\n",
    ")\n",
    "\n",
    "print(completion.choices[0].message['content'])"
   ]
  }
 ],
 "metadata": {
  "colab": {
   "provenance": []
  },
  "kernelspec": {
   "display_name": "Python 3 (ipykernel)",
   "language": "python",
   "name": "python3"
  },
  "language_info": {
   "codemirror_mode": {
    "name": "ipython",
    "version": 3
   },
   "file_extension": ".py",
   "mimetype": "text/x-python",
   "name": "python",
   "nbconvert_exporter": "python",
   "pygments_lexer": "ipython3",
   "version": "3.11.4"
  },
  "widgets": {
   "application/vnd.jupyter.widget-state+json": {
    "08e578822a94460fb81f339ef9212ffa": {
     "model_module": "@jupyter-widgets/controls",
     "model_module_version": "1.5.0",
     "model_name": "DescriptionStyleModel",
     "state": {
      "_model_module": "@jupyter-widgets/controls",
      "_model_module_version": "1.5.0",
      "_model_name": "DescriptionStyleModel",
      "_view_count": null,
      "_view_module": "@jupyter-widgets/base",
      "_view_module_version": "1.2.0",
      "_view_name": "StyleView",
      "description_width": ""
     }
    },
    "0e36c3a84bd543c9ac24985c51ed8889": {
     "model_module": "@jupyter-widgets/base",
     "model_module_version": "1.2.0",
     "model_name": "LayoutModel",
     "state": {
      "_model_module": "@jupyter-widgets/base",
      "_model_module_version": "1.2.0",
      "_model_name": "LayoutModel",
      "_view_count": null,
      "_view_module": "@jupyter-widgets/base",
      "_view_module_version": "1.2.0",
      "_view_name": "LayoutView",
      "align_content": null,
      "align_items": null,
      "align_self": null,
      "border": null,
      "bottom": null,
      "display": null,
      "flex": null,
      "flex_flow": null,
      "grid_area": null,
      "grid_auto_columns": null,
      "grid_auto_flow": null,
      "grid_auto_rows": null,
      "grid_column": null,
      "grid_gap": null,
      "grid_row": null,
      "grid_template_areas": null,
      "grid_template_columns": null,
      "grid_template_rows": null,
      "height": null,
      "justify_content": null,
      "justify_items": null,
      "left": null,
      "margin": null,
      "max_height": null,
      "max_width": null,
      "min_height": null,
      "min_width": null,
      "object_fit": null,
      "object_position": null,
      "order": null,
      "overflow": null,
      "overflow_x": null,
      "overflow_y": null,
      "padding": null,
      "right": null,
      "top": null,
      "visibility": "hidden",
      "width": null
     }
    },
    "195b98d6ba0746e3b2eda7fdf02361b3": {
     "model_module": "@jupyter-widgets/controls",
     "model_module_version": "1.5.0",
     "model_name": "HBoxModel",
     "state": {
      "_dom_classes": [],
      "_model_module": "@jupyter-widgets/controls",
      "_model_module_version": "1.5.0",
      "_model_name": "HBoxModel",
      "_view_count": null,
      "_view_module": "@jupyter-widgets/controls",
      "_view_module_version": "1.5.0",
      "_view_name": "HBoxView",
      "box_style": "",
      "children": [
       "IPY_MODEL_dfa53507de114dc49c005ea1be627cdb",
       "IPY_MODEL_c944d67837934d8b84961b5488a13af3",
       "IPY_MODEL_3fdb6ef1a19640ad92b5785024d376ea"
      ],
      "layout": "IPY_MODEL_76a61358ec3846508421a2f3f01477ca"
     }
    },
    "19ce8205761944f084ab3954a5ca14d5": {
     "model_module": "@jupyter-widgets/base",
     "model_module_version": "1.2.0",
     "model_name": "LayoutModel",
     "state": {
      "_model_module": "@jupyter-widgets/base",
      "_model_module_version": "1.2.0",
      "_model_name": "LayoutModel",
      "_view_count": null,
      "_view_module": "@jupyter-widgets/base",
      "_view_module_version": "1.2.0",
      "_view_name": "LayoutView",
      "align_content": null,
      "align_items": null,
      "align_self": null,
      "border": null,
      "bottom": null,
      "display": null,
      "flex": null,
      "flex_flow": null,
      "grid_area": null,
      "grid_auto_columns": null,
      "grid_auto_flow": null,
      "grid_auto_rows": null,
      "grid_column": null,
      "grid_gap": null,
      "grid_row": null,
      "grid_template_areas": null,
      "grid_template_columns": null,
      "grid_template_rows": null,
      "height": null,
      "justify_content": null,
      "justify_items": null,
      "left": null,
      "margin": null,
      "max_height": null,
      "max_width": null,
      "min_height": null,
      "min_width": null,
      "object_fit": null,
      "object_position": null,
      "order": null,
      "overflow": null,
      "overflow_x": null,
      "overflow_y": null,
      "padding": null,
      "right": null,
      "top": null,
      "visibility": null,
      "width": null
     }
    },
    "201bb625527d42c9972928140aaff556": {
     "model_module": "@jupyter-widgets/controls",
     "model_module_version": "1.5.0",
     "model_name": "DescriptionStyleModel",
     "state": {
      "_model_module": "@jupyter-widgets/controls",
      "_model_module_version": "1.5.0",
      "_model_name": "DescriptionStyleModel",
      "_view_count": null,
      "_view_module": "@jupyter-widgets/base",
      "_view_module_version": "1.2.0",
      "_view_name": "StyleView",
      "description_width": ""
     }
    },
    "2708519431f044b69a7da7a04d4088d3": {
     "model_module": "@jupyter-widgets/base",
     "model_module_version": "1.2.0",
     "model_name": "LayoutModel",
     "state": {
      "_model_module": "@jupyter-widgets/base",
      "_model_module_version": "1.2.0",
      "_model_name": "LayoutModel",
      "_view_count": null,
      "_view_module": "@jupyter-widgets/base",
      "_view_module_version": "1.2.0",
      "_view_name": "LayoutView",
      "align_content": null,
      "align_items": null,
      "align_self": null,
      "border": null,
      "bottom": null,
      "display": null,
      "flex": null,
      "flex_flow": null,
      "grid_area": null,
      "grid_auto_columns": null,
      "grid_auto_flow": null,
      "grid_auto_rows": null,
      "grid_column": null,
      "grid_gap": null,
      "grid_row": null,
      "grid_template_areas": null,
      "grid_template_columns": null,
      "grid_template_rows": null,
      "height": null,
      "justify_content": null,
      "justify_items": null,
      "left": null,
      "margin": null,
      "max_height": null,
      "max_width": null,
      "min_height": null,
      "min_width": null,
      "object_fit": null,
      "object_position": null,
      "order": null,
      "overflow": null,
      "overflow_x": null,
      "overflow_y": null,
      "padding": null,
      "right": null,
      "top": null,
      "visibility": null,
      "width": null
     }
    },
    "2ae0a8c599f448de8913ea793a7d9207": {
     "model_module": "@jupyter-widgets/controls",
     "model_module_version": "1.5.0",
     "model_name": "DescriptionStyleModel",
     "state": {
      "_model_module": "@jupyter-widgets/controls",
      "_model_module_version": "1.5.0",
      "_model_name": "DescriptionStyleModel",
      "_view_count": null,
      "_view_module": "@jupyter-widgets/base",
      "_view_module_version": "1.2.0",
      "_view_name": "StyleView",
      "description_width": ""
     }
    },
    "2c1a4962da6a4d568fedc29940af5970": {
     "model_module": "@jupyter-widgets/controls",
     "model_module_version": "1.5.0",
     "model_name": "FloatProgressModel",
     "state": {
      "_dom_classes": [],
      "_model_module": "@jupyter-widgets/controls",
      "_model_module_version": "1.5.0",
      "_model_name": "FloatProgressModel",
      "_view_count": null,
      "_view_module": "@jupyter-widgets/controls",
      "_view_module_version": "1.5.0",
      "_view_name": "ProgressView",
      "bar_style": "",
      "description": "",
      "description_tooltip": null,
      "layout": "IPY_MODEL_19ce8205761944f084ab3954a5ca14d5",
      "max": 87599,
      "min": 0,
      "orientation": "horizontal",
      "style": "IPY_MODEL_65a9675995694888a98f35fd2fa7155c",
      "value": 87599
     }
    },
    "3233cf0a24174cfbbdb061a5692a10bd": {
     "model_module": "@jupyter-widgets/controls",
     "model_module_version": "1.5.0",
     "model_name": "HTMLModel",
     "state": {
      "_dom_classes": [],
      "_model_module": "@jupyter-widgets/controls",
      "_model_module_version": "1.5.0",
      "_model_name": "HTMLModel",
      "_view_count": null,
      "_view_module": "@jupyter-widgets/controls",
      "_view_module_version": "1.5.0",
      "_view_name": "HTMLView",
      "description": "",
      "description_tooltip": null,
      "layout": "IPY_MODEL_8df3f0d3076c413bacc6574efbfff7f3",
      "placeholder": "​",
      "style": "IPY_MODEL_c02b4e5c26c44712878859ae6e45d2b1",
      "value": "Extracting data files: 100%"
     }
    },
    "3736d3e9aeb348d692582e829d544ac3": {
     "model_module": "@jupyter-widgets/controls",
     "model_module_version": "1.5.0",
     "model_name": "HBoxModel",
     "state": {
      "_dom_classes": [],
      "_model_module": "@jupyter-widgets/controls",
      "_model_module_version": "1.5.0",
      "_model_name": "HBoxModel",
      "_view_count": null,
      "_view_module": "@jupyter-widgets/controls",
      "_view_module_version": "1.5.0",
      "_view_name": "HBoxView",
      "box_style": "",
      "children": [
       "IPY_MODEL_3e7a9cb0156940d7a1433736d6f0fc44",
       "IPY_MODEL_3d446b2d24434bb08e74c1aa68053e0c",
       "IPY_MODEL_3eaec0f6f346407a9b815497b9c2960a"
      ],
      "layout": "IPY_MODEL_a96f613dbbc44d2098594996cddfbcd5"
     }
    },
    "373c800cb7d04c809fb6ccb4a62bf136": {
     "model_module": "@jupyter-widgets/controls",
     "model_module_version": "1.5.0",
     "model_name": "ProgressStyleModel",
     "state": {
      "_model_module": "@jupyter-widgets/controls",
      "_model_module_version": "1.5.0",
      "_model_name": "ProgressStyleModel",
      "_view_count": null,
      "_view_module": "@jupyter-widgets/base",
      "_view_module_version": "1.2.0",
      "_view_name": "StyleView",
      "bar_color": null,
      "description_width": ""
     }
    },
    "3d446b2d24434bb08e74c1aa68053e0c": {
     "model_module": "@jupyter-widgets/controls",
     "model_module_version": "1.5.0",
     "model_name": "FloatProgressModel",
     "state": {
      "_dom_classes": [],
      "_model_module": "@jupyter-widgets/controls",
      "_model_module_version": "1.5.0",
      "_model_name": "FloatProgressModel",
      "_view_count": null,
      "_view_module": "@jupyter-widgets/controls",
      "_view_module_version": "1.5.0",
      "_view_name": "ProgressView",
      "bar_style": "success",
      "description": "",
      "description_tooltip": null,
      "layout": "IPY_MODEL_6ec61bfc93174001abf6f82285a04764",
      "max": 2360,
      "min": 0,
      "orientation": "horizontal",
      "style": "IPY_MODEL_496e102fcb03494ca64b665f39ba7b7b",
      "value": 2360
     }
    },
    "3dd65fcc82c844cb916568d7af241228": {
     "model_module": "@jupyter-widgets/controls",
     "model_module_version": "1.5.0",
     "model_name": "FloatProgressModel",
     "state": {
      "_dom_classes": [],
      "_model_module": "@jupyter-widgets/controls",
      "_model_module_version": "1.5.0",
      "_model_name": "FloatProgressModel",
      "_view_count": null,
      "_view_module": "@jupyter-widgets/controls",
      "_view_module_version": "1.5.0",
      "_view_name": "ProgressView",
      "bar_style": "success",
      "description": "",
      "description_tooltip": null,
      "layout": "IPY_MODEL_e48cbef7b50743488e4f44d344229ce6",
      "max": 1054280,
      "min": 0,
      "orientation": "horizontal",
      "style": "IPY_MODEL_7733be3500164eac95452cc40ae2720c",
      "value": 1054280
     }
    },
    "3e7a9cb0156940d7a1433736d6f0fc44": {
     "model_module": "@jupyter-widgets/controls",
     "model_module_version": "1.5.0",
     "model_name": "HTMLModel",
     "state": {
      "_dom_classes": [],
      "_model_module": "@jupyter-widgets/controls",
      "_model_module_version": "1.5.0",
      "_model_name": "HTMLModel",
      "_view_count": null,
      "_view_module": "@jupyter-widgets/controls",
      "_view_module_version": "1.5.0",
      "_view_name": "HTMLView",
      "description": "",
      "description_tooltip": null,
      "layout": "IPY_MODEL_b581b3c5ea1543e4a4b602d5c23641b4",
      "placeholder": "​",
      "style": "IPY_MODEL_975f896bda8c4500b1512b6d51d58b89",
      "value": "Downloading metadata: 100%"
     }
    },
    "3eaec0f6f346407a9b815497b9c2960a": {
     "model_module": "@jupyter-widgets/controls",
     "model_module_version": "1.5.0",
     "model_name": "HTMLModel",
     "state": {
      "_dom_classes": [],
      "_model_module": "@jupyter-widgets/controls",
      "_model_module_version": "1.5.0",
      "_model_name": "HTMLModel",
      "_view_count": null,
      "_view_module": "@jupyter-widgets/controls",
      "_view_module_version": "1.5.0",
      "_view_name": "HTMLView",
      "description": "",
      "description_tooltip": null,
      "layout": "IPY_MODEL_bcf07c2dd1874dfe87da6f05fb3cfe9e",
      "placeholder": "​",
      "style": "IPY_MODEL_b5d4154dd21d44b98be6fa80d4cce1a0",
      "value": " 2.36k/2.36k [00:00&lt;00:00, 8.34kB/s]"
     }
    },
    "3fdb6ef1a19640ad92b5785024d376ea": {
     "model_module": "@jupyter-widgets/controls",
     "model_module_version": "1.5.0",
     "model_name": "HTMLModel",
     "state": {
      "_dom_classes": [],
      "_model_module": "@jupyter-widgets/controls",
      "_model_module_version": "1.5.0",
      "_model_name": "HTMLModel",
      "_view_count": null,
      "_view_module": "@jupyter-widgets/controls",
      "_view_module_version": "1.5.0",
      "_view_name": "HTMLView",
      "description": "",
      "description_tooltip": null,
      "layout": "IPY_MODEL_e6781f78709d4e699aabcf3a4278761d",
      "placeholder": "​",
      "style": "IPY_MODEL_f853ea5678cf4820ac366d3a5689354b",
      "value": " 2/2 [00:00&lt;00:00,  2.58it/s]"
     }
    },
    "431f193e056f46498d50a9e87f618b1b": {
     "model_module": "@jupyter-widgets/controls",
     "model_module_version": "1.5.0",
     "model_name": "HTMLModel",
     "state": {
      "_dom_classes": [],
      "_model_module": "@jupyter-widgets/controls",
      "_model_module_version": "1.5.0",
      "_model_name": "HTMLModel",
      "_view_count": null,
      "_view_module": "@jupyter-widgets/controls",
      "_view_module_version": "1.5.0",
      "_view_name": "HTMLView",
      "description": "",
      "description_tooltip": null,
      "layout": "IPY_MODEL_68257813a5c74de195887e7cc574a5bf",
      "placeholder": "​",
      "style": "IPY_MODEL_a550b3cb34074ea7b25c21e5324a2bf8",
      "value": " 7.67k/7.67k [00:00&lt;00:00, 368kB/s]"
     }
    },
    "496e102fcb03494ca64b665f39ba7b7b": {
     "model_module": "@jupyter-widgets/controls",
     "model_module_version": "1.5.0",
     "model_name": "ProgressStyleModel",
     "state": {
      "_model_module": "@jupyter-widgets/controls",
      "_model_module_version": "1.5.0",
      "_model_name": "ProgressStyleModel",
      "_view_count": null,
      "_view_module": "@jupyter-widgets/base",
      "_view_module_version": "1.2.0",
      "_view_name": "StyleView",
      "bar_color": null,
      "description_width": ""
     }
    },
    "5705d2cfbdcc469eb9cd489e1b85cd65": {
     "model_module": "@jupyter-widgets/base",
     "model_module_version": "1.2.0",
     "model_name": "LayoutModel",
     "state": {
      "_model_module": "@jupyter-widgets/base",
      "_model_module_version": "1.2.0",
      "_model_name": "LayoutModel",
      "_view_count": null,
      "_view_module": "@jupyter-widgets/base",
      "_view_module_version": "1.2.0",
      "_view_name": "LayoutView",
      "align_content": null,
      "align_items": null,
      "align_self": null,
      "border": null,
      "bottom": null,
      "display": null,
      "flex": null,
      "flex_flow": null,
      "grid_area": null,
      "grid_auto_columns": null,
      "grid_auto_flow": null,
      "grid_auto_rows": null,
      "grid_column": null,
      "grid_gap": null,
      "grid_row": null,
      "grid_template_areas": null,
      "grid_template_columns": null,
      "grid_template_rows": null,
      "height": null,
      "justify_content": null,
      "justify_items": null,
      "left": null,
      "margin": null,
      "max_height": null,
      "max_width": null,
      "min_height": null,
      "min_width": null,
      "object_fit": null,
      "object_position": null,
      "order": null,
      "overflow": null,
      "overflow_x": null,
      "overflow_y": null,
      "padding": null,
      "right": null,
      "top": null,
      "visibility": null,
      "width": null
     }
    },
    "571a5834852b4a968ed660912040f24d": {
     "model_module": "@jupyter-widgets/base",
     "model_module_version": "1.2.0",
     "model_name": "LayoutModel",
     "state": {
      "_model_module": "@jupyter-widgets/base",
      "_model_module_version": "1.2.0",
      "_model_name": "LayoutModel",
      "_view_count": null,
      "_view_module": "@jupyter-widgets/base",
      "_view_module_version": "1.2.0",
      "_view_name": "LayoutView",
      "align_content": null,
      "align_items": null,
      "align_self": null,
      "border": null,
      "bottom": null,
      "display": null,
      "flex": null,
      "flex_flow": null,
      "grid_area": null,
      "grid_auto_columns": null,
      "grid_auto_flow": null,
      "grid_auto_rows": null,
      "grid_column": null,
      "grid_gap": null,
      "grid_row": null,
      "grid_template_areas": null,
      "grid_template_columns": null,
      "grid_template_rows": null,
      "height": null,
      "justify_content": null,
      "justify_items": null,
      "left": null,
      "margin": null,
      "max_height": null,
      "max_width": null,
      "min_height": null,
      "min_width": null,
      "object_fit": null,
      "object_position": null,
      "order": null,
      "overflow": null,
      "overflow_x": null,
      "overflow_y": null,
      "padding": null,
      "right": null,
      "top": null,
      "visibility": null,
      "width": null
     }
    },
    "598c498e1cb342109c6350165f25cad8": {
     "model_module": "@jupyter-widgets/base",
     "model_module_version": "1.2.0",
     "model_name": "LayoutModel",
     "state": {
      "_model_module": "@jupyter-widgets/base",
      "_model_module_version": "1.2.0",
      "_model_name": "LayoutModel",
      "_view_count": null,
      "_view_module": "@jupyter-widgets/base",
      "_view_module_version": "1.2.0",
      "_view_name": "LayoutView",
      "align_content": null,
      "align_items": null,
      "align_self": null,
      "border": null,
      "bottom": null,
      "display": null,
      "flex": null,
      "flex_flow": null,
      "grid_area": null,
      "grid_auto_columns": null,
      "grid_auto_flow": null,
      "grid_auto_rows": null,
      "grid_column": null,
      "grid_gap": null,
      "grid_row": null,
      "grid_template_areas": null,
      "grid_template_columns": null,
      "grid_template_rows": null,
      "height": null,
      "justify_content": null,
      "justify_items": null,
      "left": null,
      "margin": null,
      "max_height": null,
      "max_width": null,
      "min_height": null,
      "min_width": null,
      "object_fit": null,
      "object_position": null,
      "order": null,
      "overflow": null,
      "overflow_x": null,
      "overflow_y": null,
      "padding": null,
      "right": null,
      "top": null,
      "visibility": null,
      "width": null
     }
    },
    "5a725c87060d4cec939ab83c3bfef968": {
     "model_module": "@jupyter-widgets/controls",
     "model_module_version": "1.5.0",
     "model_name": "HTMLModel",
     "state": {
      "_dom_classes": [],
      "_model_module": "@jupyter-widgets/controls",
      "_model_module_version": "1.5.0",
      "_model_name": "HTMLModel",
      "_view_count": null,
      "_view_module": "@jupyter-widgets/controls",
      "_view_module_version": "1.5.0",
      "_view_name": "HTMLView",
      "description": "",
      "description_tooltip": null,
      "layout": "IPY_MODEL_2708519431f044b69a7da7a04d4088d3",
      "placeholder": "​",
      "style": "IPY_MODEL_201bb625527d42c9972928140aaff556",
      "value": " 87599/87599 [00:09&lt;00:00, 12040.42 examples/s]"
     }
    },
    "5ade2fce595749c5bd3bce75d14729e3": {
     "model_module": "@jupyter-widgets/controls",
     "model_module_version": "1.5.0",
     "model_name": "HTMLModel",
     "state": {
      "_dom_classes": [],
      "_model_module": "@jupyter-widgets/controls",
      "_model_module_version": "1.5.0",
      "_model_name": "HTMLModel",
      "_view_count": null,
      "_view_module": "@jupyter-widgets/controls",
      "_view_module_version": "1.5.0",
      "_view_name": "HTMLView",
      "description": "",
      "description_tooltip": null,
      "layout": "IPY_MODEL_dcfb7314aae74bb8a2522271c8676d54",
      "placeholder": "​",
      "style": "IPY_MODEL_64d3a34379184082b2d0d878dc66c406",
      "value": "Downloading builder script: 100%"
     }
    },
    "5cba4bec397e404eaafea01a08ef0fc7": {
     "model_module": "@jupyter-widgets/base",
     "model_module_version": "1.2.0",
     "model_name": "LayoutModel",
     "state": {
      "_model_module": "@jupyter-widgets/base",
      "_model_module_version": "1.2.0",
      "_model_name": "LayoutModel",
      "_view_count": null,
      "_view_module": "@jupyter-widgets/base",
      "_view_module_version": "1.2.0",
      "_view_name": "LayoutView",
      "align_content": null,
      "align_items": null,
      "align_self": null,
      "border": null,
      "bottom": null,
      "display": null,
      "flex": null,
      "flex_flow": null,
      "grid_area": null,
      "grid_auto_columns": null,
      "grid_auto_flow": null,
      "grid_auto_rows": null,
      "grid_column": null,
      "grid_gap": null,
      "grid_row": null,
      "grid_template_areas": null,
      "grid_template_columns": null,
      "grid_template_rows": null,
      "height": null,
      "justify_content": null,
      "justify_items": null,
      "left": null,
      "margin": null,
      "max_height": null,
      "max_width": null,
      "min_height": null,
      "min_width": null,
      "object_fit": null,
      "object_position": null,
      "order": null,
      "overflow": null,
      "overflow_x": null,
      "overflow_y": null,
      "padding": null,
      "right": null,
      "top": null,
      "visibility": null,
      "width": null
     }
    },
    "5cf7881b925b499690a9c69e3542f83b": {
     "model_module": "@jupyter-widgets/base",
     "model_module_version": "1.2.0",
     "model_name": "LayoutModel",
     "state": {
      "_model_module": "@jupyter-widgets/base",
      "_model_module_version": "1.2.0",
      "_model_name": "LayoutModel",
      "_view_count": null,
      "_view_module": "@jupyter-widgets/base",
      "_view_module_version": "1.2.0",
      "_view_name": "LayoutView",
      "align_content": null,
      "align_items": null,
      "align_self": null,
      "border": null,
      "bottom": null,
      "display": null,
      "flex": null,
      "flex_flow": null,
      "grid_area": null,
      "grid_auto_columns": null,
      "grid_auto_flow": null,
      "grid_auto_rows": null,
      "grid_column": null,
      "grid_gap": null,
      "grid_row": null,
      "grid_template_areas": null,
      "grid_template_columns": null,
      "grid_template_rows": null,
      "height": null,
      "justify_content": null,
      "justify_items": null,
      "left": null,
      "margin": null,
      "max_height": null,
      "max_width": null,
      "min_height": null,
      "min_width": null,
      "object_fit": null,
      "object_position": null,
      "order": null,
      "overflow": null,
      "overflow_x": null,
      "overflow_y": null,
      "padding": null,
      "right": null,
      "top": null,
      "visibility": null,
      "width": null
     }
    },
    "5fb8982ba9b841f09c86706896748229": {
     "model_module": "@jupyter-widgets/base",
     "model_module_version": "1.2.0",
     "model_name": "LayoutModel",
     "state": {
      "_model_module": "@jupyter-widgets/base",
      "_model_module_version": "1.2.0",
      "_model_name": "LayoutModel",
      "_view_count": null,
      "_view_module": "@jupyter-widgets/base",
      "_view_module_version": "1.2.0",
      "_view_name": "LayoutView",
      "align_content": null,
      "align_items": null,
      "align_self": null,
      "border": null,
      "bottom": null,
      "display": null,
      "flex": null,
      "flex_flow": null,
      "grid_area": null,
      "grid_auto_columns": null,
      "grid_auto_flow": null,
      "grid_auto_rows": null,
      "grid_column": null,
      "grid_gap": null,
      "grid_row": null,
      "grid_template_areas": null,
      "grid_template_columns": null,
      "grid_template_rows": null,
      "height": null,
      "justify_content": null,
      "justify_items": null,
      "left": null,
      "margin": null,
      "max_height": null,
      "max_width": null,
      "min_height": null,
      "min_width": null,
      "object_fit": null,
      "object_position": null,
      "order": null,
      "overflow": null,
      "overflow_x": null,
      "overflow_y": null,
      "padding": null,
      "right": null,
      "top": null,
      "visibility": null,
      "width": null
     }
    },
    "606b93ad28d34083809eec71c95daa95": {
     "model_module": "@jupyter-widgets/controls",
     "model_module_version": "1.5.0",
     "model_name": "DescriptionStyleModel",
     "state": {
      "_model_module": "@jupyter-widgets/controls",
      "_model_module_version": "1.5.0",
      "_model_name": "DescriptionStyleModel",
      "_view_count": null,
      "_view_module": "@jupyter-widgets/base",
      "_view_module_version": "1.2.0",
      "_view_name": "StyleView",
      "description_width": ""
     }
    },
    "64d3a34379184082b2d0d878dc66c406": {
     "model_module": "@jupyter-widgets/controls",
     "model_module_version": "1.5.0",
     "model_name": "DescriptionStyleModel",
     "state": {
      "_model_module": "@jupyter-widgets/controls",
      "_model_module_version": "1.5.0",
      "_model_name": "DescriptionStyleModel",
      "_view_count": null,
      "_view_module": "@jupyter-widgets/base",
      "_view_module_version": "1.2.0",
      "_view_name": "StyleView",
      "description_width": ""
     }
    },
    "65a9675995694888a98f35fd2fa7155c": {
     "model_module": "@jupyter-widgets/controls",
     "model_module_version": "1.5.0",
     "model_name": "ProgressStyleModel",
     "state": {
      "_model_module": "@jupyter-widgets/controls",
      "_model_module_version": "1.5.0",
      "_model_name": "ProgressStyleModel",
      "_view_count": null,
      "_view_module": "@jupyter-widgets/base",
      "_view_module_version": "1.2.0",
      "_view_name": "StyleView",
      "bar_color": null,
      "description_width": ""
     }
    },
    "65beeac059664abcbfca4ed096810ef2": {
     "model_module": "@jupyter-widgets/base",
     "model_module_version": "1.2.0",
     "model_name": "LayoutModel",
     "state": {
      "_model_module": "@jupyter-widgets/base",
      "_model_module_version": "1.2.0",
      "_model_name": "LayoutModel",
      "_view_count": null,
      "_view_module": "@jupyter-widgets/base",
      "_view_module_version": "1.2.0",
      "_view_name": "LayoutView",
      "align_content": null,
      "align_items": null,
      "align_self": null,
      "border": null,
      "bottom": null,
      "display": null,
      "flex": null,
      "flex_flow": null,
      "grid_area": null,
      "grid_auto_columns": null,
      "grid_auto_flow": null,
      "grid_auto_rows": null,
      "grid_column": null,
      "grid_gap": null,
      "grid_row": null,
      "grid_template_areas": null,
      "grid_template_columns": null,
      "grid_template_rows": null,
      "height": null,
      "justify_content": null,
      "justify_items": null,
      "left": null,
      "margin": null,
      "max_height": null,
      "max_width": null,
      "min_height": null,
      "min_width": null,
      "object_fit": null,
      "object_position": null,
      "order": null,
      "overflow": null,
      "overflow_x": null,
      "overflow_y": null,
      "padding": null,
      "right": null,
      "top": null,
      "visibility": null,
      "width": null
     }
    },
    "68257813a5c74de195887e7cc574a5bf": {
     "model_module": "@jupyter-widgets/base",
     "model_module_version": "1.2.0",
     "model_name": "LayoutModel",
     "state": {
      "_model_module": "@jupyter-widgets/base",
      "_model_module_version": "1.2.0",
      "_model_name": "LayoutModel",
      "_view_count": null,
      "_view_module": "@jupyter-widgets/base",
      "_view_module_version": "1.2.0",
      "_view_name": "LayoutView",
      "align_content": null,
      "align_items": null,
      "align_self": null,
      "border": null,
      "bottom": null,
      "display": null,
      "flex": null,
      "flex_flow": null,
      "grid_area": null,
      "grid_auto_columns": null,
      "grid_auto_flow": null,
      "grid_auto_rows": null,
      "grid_column": null,
      "grid_gap": null,
      "grid_row": null,
      "grid_template_areas": null,
      "grid_template_columns": null,
      "grid_template_rows": null,
      "height": null,
      "justify_content": null,
      "justify_items": null,
      "left": null,
      "margin": null,
      "max_height": null,
      "max_width": null,
      "min_height": null,
      "min_width": null,
      "object_fit": null,
      "object_position": null,
      "order": null,
      "overflow": null,
      "overflow_x": null,
      "overflow_y": null,
      "padding": null,
      "right": null,
      "top": null,
      "visibility": null,
      "width": null
     }
    },
    "6a3fb05ad441421885c85f832344b9e2": {
     "model_module": "@jupyter-widgets/controls",
     "model_module_version": "1.5.0",
     "model_name": "HBoxModel",
     "state": {
      "_dom_classes": [],
      "_model_module": "@jupyter-widgets/controls",
      "_model_module_version": "1.5.0",
      "_model_name": "HBoxModel",
      "_view_count": null,
      "_view_module": "@jupyter-widgets/controls",
      "_view_module_version": "1.5.0",
      "_view_name": "HBoxView",
      "box_style": "",
      "children": [
       "IPY_MODEL_ad1e62ef99e349cca63ae3e5b13b05e6",
       "IPY_MODEL_f2b99e88439e492c9fbb2224aaadcefb",
       "IPY_MODEL_a80901ecfd624502b579b840f1f29ce2"
      ],
      "layout": "IPY_MODEL_65beeac059664abcbfca4ed096810ef2"
     }
    },
    "6c3bfa374d824f188b38d734db11b37d": {
     "model_module": "@jupyter-widgets/controls",
     "model_module_version": "1.5.0",
     "model_name": "HTMLModel",
     "state": {
      "_dom_classes": [],
      "_model_module": "@jupyter-widgets/controls",
      "_model_module_version": "1.5.0",
      "_model_name": "HTMLModel",
      "_view_count": null,
      "_view_module": "@jupyter-widgets/controls",
      "_view_module_version": "1.5.0",
      "_view_name": "HTMLView",
      "description": "",
      "description_tooltip": null,
      "layout": "IPY_MODEL_afd8b7ac01754a4e8b7c9135dc88c17a",
      "placeholder": "​",
      "style": "IPY_MODEL_2ae0a8c599f448de8913ea793a7d9207",
      "value": " 4.85M/? [00:00&lt;00:00, 49.1MB/s]"
     }
    },
    "6cc13b37e5984f3e9aa6cf5c64f56fa5": {
     "model_module": "@jupyter-widgets/controls",
     "model_module_version": "1.5.0",
     "model_name": "DescriptionStyleModel",
     "state": {
      "_model_module": "@jupyter-widgets/controls",
      "_model_module_version": "1.5.0",
      "_model_name": "DescriptionStyleModel",
      "_view_count": null,
      "_view_module": "@jupyter-widgets/base",
      "_view_module_version": "1.2.0",
      "_view_name": "StyleView",
      "description_width": ""
     }
    },
    "6d25eb6fd25b4cb6bbc976fca9cd1ac2": {
     "model_module": "@jupyter-widgets/base",
     "model_module_version": "1.2.0",
     "model_name": "LayoutModel",
     "state": {
      "_model_module": "@jupyter-widgets/base",
      "_model_module_version": "1.2.0",
      "_model_name": "LayoutModel",
      "_view_count": null,
      "_view_module": "@jupyter-widgets/base",
      "_view_module_version": "1.2.0",
      "_view_name": "LayoutView",
      "align_content": null,
      "align_items": null,
      "align_self": null,
      "border": null,
      "bottom": null,
      "display": null,
      "flex": null,
      "flex_flow": null,
      "grid_area": null,
      "grid_auto_columns": null,
      "grid_auto_flow": null,
      "grid_auto_rows": null,
      "grid_column": null,
      "grid_gap": null,
      "grid_row": null,
      "grid_template_areas": null,
      "grid_template_columns": null,
      "grid_template_rows": null,
      "height": null,
      "justify_content": null,
      "justify_items": null,
      "left": null,
      "margin": null,
      "max_height": null,
      "max_width": null,
      "min_height": null,
      "min_width": null,
      "object_fit": null,
      "object_position": null,
      "order": null,
      "overflow": null,
      "overflow_x": null,
      "overflow_y": null,
      "padding": null,
      "right": null,
      "top": null,
      "visibility": null,
      "width": null
     }
    },
    "6ec61bfc93174001abf6f82285a04764": {
     "model_module": "@jupyter-widgets/base",
     "model_module_version": "1.2.0",
     "model_name": "LayoutModel",
     "state": {
      "_model_module": "@jupyter-widgets/base",
      "_model_module_version": "1.2.0",
      "_model_name": "LayoutModel",
      "_view_count": null,
      "_view_module": "@jupyter-widgets/base",
      "_view_module_version": "1.2.0",
      "_view_name": "LayoutView",
      "align_content": null,
      "align_items": null,
      "align_self": null,
      "border": null,
      "bottom": null,
      "display": null,
      "flex": null,
      "flex_flow": null,
      "grid_area": null,
      "grid_auto_columns": null,
      "grid_auto_flow": null,
      "grid_auto_rows": null,
      "grid_column": null,
      "grid_gap": null,
      "grid_row": null,
      "grid_template_areas": null,
      "grid_template_columns": null,
      "grid_template_rows": null,
      "height": null,
      "justify_content": null,
      "justify_items": null,
      "left": null,
      "margin": null,
      "max_height": null,
      "max_width": null,
      "min_height": null,
      "min_width": null,
      "object_fit": null,
      "object_position": null,
      "order": null,
      "overflow": null,
      "overflow_x": null,
      "overflow_y": null,
      "padding": null,
      "right": null,
      "top": null,
      "visibility": null,
      "width": null
     }
    },
    "6ff0be46299f4649b08704cadf17ed41": {
     "model_module": "@jupyter-widgets/controls",
     "model_module_version": "1.5.0",
     "model_name": "DescriptionStyleModel",
     "state": {
      "_model_module": "@jupyter-widgets/controls",
      "_model_module_version": "1.5.0",
      "_model_name": "DescriptionStyleModel",
      "_view_count": null,
      "_view_module": "@jupyter-widgets/base",
      "_view_module_version": "1.2.0",
      "_view_name": "StyleView",
      "description_width": ""
     }
    },
    "75437ce9ad0c484cb552956c4f272e6b": {
     "model_module": "@jupyter-widgets/controls",
     "model_module_version": "1.5.0",
     "model_name": "HBoxModel",
     "state": {
      "_dom_classes": [],
      "_model_module": "@jupyter-widgets/controls",
      "_model_module_version": "1.5.0",
      "_model_name": "HBoxModel",
      "_view_count": null,
      "_view_module": "@jupyter-widgets/controls",
      "_view_module_version": "1.5.0",
      "_view_name": "HBoxView",
      "box_style": "",
      "children": [
       "IPY_MODEL_8bf9144504854fe0b77e2ffdc9373f0d",
       "IPY_MODEL_c5c46f10bc99481b9f9fbce1fb850f2f",
       "IPY_MODEL_431f193e056f46498d50a9e87f618b1b"
      ],
      "layout": "IPY_MODEL_571a5834852b4a968ed660912040f24d"
     }
    },
    "76a61358ec3846508421a2f3f01477ca": {
     "model_module": "@jupyter-widgets/base",
     "model_module_version": "1.2.0",
     "model_name": "LayoutModel",
     "state": {
      "_model_module": "@jupyter-widgets/base",
      "_model_module_version": "1.2.0",
      "_model_name": "LayoutModel",
      "_view_count": null,
      "_view_module": "@jupyter-widgets/base",
      "_view_module_version": "1.2.0",
      "_view_name": "LayoutView",
      "align_content": null,
      "align_items": null,
      "align_self": null,
      "border": null,
      "bottom": null,
      "display": null,
      "flex": null,
      "flex_flow": null,
      "grid_area": null,
      "grid_auto_columns": null,
      "grid_auto_flow": null,
      "grid_auto_rows": null,
      "grid_column": null,
      "grid_gap": null,
      "grid_row": null,
      "grid_template_areas": null,
      "grid_template_columns": null,
      "grid_template_rows": null,
      "height": null,
      "justify_content": null,
      "justify_items": null,
      "left": null,
      "margin": null,
      "max_height": null,
      "max_width": null,
      "min_height": null,
      "min_width": null,
      "object_fit": null,
      "object_position": null,
      "order": null,
      "overflow": null,
      "overflow_x": null,
      "overflow_y": null,
      "padding": null,
      "right": null,
      "top": null,
      "visibility": null,
      "width": null
     }
    },
    "7733be3500164eac95452cc40ae2720c": {
     "model_module": "@jupyter-widgets/controls",
     "model_module_version": "1.5.0",
     "model_name": "ProgressStyleModel",
     "state": {
      "_model_module": "@jupyter-widgets/controls",
      "_model_module_version": "1.5.0",
      "_model_name": "ProgressStyleModel",
      "_view_count": null,
      "_view_module": "@jupyter-widgets/base",
      "_view_module_version": "1.2.0",
      "_view_name": "StyleView",
      "bar_color": null,
      "description_width": ""
     }
    },
    "77cb6788ea7b48749efc03ceac8012e4": {
     "model_module": "@jupyter-widgets/base",
     "model_module_version": "1.2.0",
     "model_name": "LayoutModel",
     "state": {
      "_model_module": "@jupyter-widgets/base",
      "_model_module_version": "1.2.0",
      "_model_name": "LayoutModel",
      "_view_count": null,
      "_view_module": "@jupyter-widgets/base",
      "_view_module_version": "1.2.0",
      "_view_name": "LayoutView",
      "align_content": null,
      "align_items": null,
      "align_self": null,
      "border": null,
      "bottom": null,
      "display": null,
      "flex": null,
      "flex_flow": null,
      "grid_area": null,
      "grid_auto_columns": null,
      "grid_auto_flow": null,
      "grid_auto_rows": null,
      "grid_column": null,
      "grid_gap": null,
      "grid_row": null,
      "grid_template_areas": null,
      "grid_template_columns": null,
      "grid_template_rows": null,
      "height": null,
      "justify_content": null,
      "justify_items": null,
      "left": null,
      "margin": null,
      "max_height": null,
      "max_width": null,
      "min_height": null,
      "min_width": null,
      "object_fit": null,
      "object_position": null,
      "order": null,
      "overflow": null,
      "overflow_x": null,
      "overflow_y": null,
      "padding": null,
      "right": null,
      "top": null,
      "visibility": null,
      "width": null
     }
    },
    "77de4bceb4ed48ec92c9c46304cbba3b": {
     "model_module": "@jupyter-widgets/controls",
     "model_module_version": "1.5.0",
     "model_name": "HTMLModel",
     "state": {
      "_dom_classes": [],
      "_model_module": "@jupyter-widgets/controls",
      "_model_module_version": "1.5.0",
      "_model_name": "HTMLModel",
      "_view_count": null,
      "_view_module": "@jupyter-widgets/controls",
      "_view_module_version": "1.5.0",
      "_view_name": "HTMLView",
      "description": "",
      "description_tooltip": null,
      "layout": "IPY_MODEL_8d55f7103986434399885971e7f6c0c9",
      "placeholder": "​",
      "style": "IPY_MODEL_606b93ad28d34083809eec71c95daa95",
      "value": "Generating train split: 100%"
     }
    },
    "7a59dd8c0b2e497a90f0423b47391892": {
     "model_module": "@jupyter-widgets/controls",
     "model_module_version": "1.5.0",
     "model_name": "HBoxModel",
     "state": {
      "_dom_classes": [],
      "_model_module": "@jupyter-widgets/controls",
      "_model_module_version": "1.5.0",
      "_model_name": "HBoxModel",
      "_view_count": null,
      "_view_module": "@jupyter-widgets/controls",
      "_view_module_version": "1.5.0",
      "_view_name": "HBoxView",
      "box_style": "",
      "children": [
       "IPY_MODEL_3233cf0a24174cfbbdb061a5692a10bd",
       "IPY_MODEL_af7e60c53f84457d9177c750c148f8fc",
       "IPY_MODEL_ced6ec11ab6d471f9c2c2d52e53aaea4"
      ],
      "layout": "IPY_MODEL_598c498e1cb342109c6350165f25cad8"
     }
    },
    "7bb2bf25d2ec4d8b9bf19a5ff8f0c3fd": {
     "model_module": "@jupyter-widgets/controls",
     "model_module_version": "1.5.0",
     "model_name": "HTMLModel",
     "state": {
      "_dom_classes": [],
      "_model_module": "@jupyter-widgets/controls",
      "_model_module_version": "1.5.0",
      "_model_name": "HTMLModel",
      "_view_count": null,
      "_view_module": "@jupyter-widgets/controls",
      "_view_module_version": "1.5.0",
      "_view_name": "HTMLView",
      "description": "",
      "description_tooltip": null,
      "layout": "IPY_MODEL_6d25eb6fd25b4cb6bbc976fca9cd1ac2",
      "placeholder": "​",
      "style": "IPY_MODEL_f2aff0ce571b47fa86cb83b5d2782663",
      "value": " 5.27k/5.27k [00:00&lt;00:00, 138kB/s]"
     }
    },
    "87e03d8905994d5ba7c5365f440f33a4": {
     "model_module": "@jupyter-widgets/controls",
     "model_module_version": "1.5.0",
     "model_name": "ProgressStyleModel",
     "state": {
      "_model_module": "@jupyter-widgets/controls",
      "_model_module_version": "1.5.0",
      "_model_name": "ProgressStyleModel",
      "_view_count": null,
      "_view_module": "@jupyter-widgets/base",
      "_view_module_version": "1.2.0",
      "_view_name": "StyleView",
      "bar_color": null,
      "description_width": ""
     }
    },
    "8834b8abc33d48d790df1bb9119cf1ca": {
     "model_module": "@jupyter-widgets/base",
     "model_module_version": "1.2.0",
     "model_name": "LayoutModel",
     "state": {
      "_model_module": "@jupyter-widgets/base",
      "_model_module_version": "1.2.0",
      "_model_name": "LayoutModel",
      "_view_count": null,
      "_view_module": "@jupyter-widgets/base",
      "_view_module_version": "1.2.0",
      "_view_name": "LayoutView",
      "align_content": null,
      "align_items": null,
      "align_self": null,
      "border": null,
      "bottom": null,
      "display": null,
      "flex": null,
      "flex_flow": null,
      "grid_area": null,
      "grid_auto_columns": null,
      "grid_auto_flow": null,
      "grid_auto_rows": null,
      "grid_column": null,
      "grid_gap": null,
      "grid_row": null,
      "grid_template_areas": null,
      "grid_template_columns": null,
      "grid_template_rows": null,
      "height": null,
      "justify_content": null,
      "justify_items": null,
      "left": null,
      "margin": null,
      "max_height": null,
      "max_width": null,
      "min_height": null,
      "min_width": null,
      "object_fit": null,
      "object_position": null,
      "order": null,
      "overflow": null,
      "overflow_x": null,
      "overflow_y": null,
      "padding": null,
      "right": null,
      "top": null,
      "visibility": "hidden",
      "width": null
     }
    },
    "88ea99c3202d4d07ac52e4b36c4dbe25": {
     "model_module": "@jupyter-widgets/base",
     "model_module_version": "1.2.0",
     "model_name": "LayoutModel",
     "state": {
      "_model_module": "@jupyter-widgets/base",
      "_model_module_version": "1.2.0",
      "_model_name": "LayoutModel",
      "_view_count": null,
      "_view_module": "@jupyter-widgets/base",
      "_view_module_version": "1.2.0",
      "_view_name": "LayoutView",
      "align_content": null,
      "align_items": null,
      "align_self": null,
      "border": null,
      "bottom": null,
      "display": null,
      "flex": null,
      "flex_flow": null,
      "grid_area": null,
      "grid_auto_columns": null,
      "grid_auto_flow": null,
      "grid_auto_rows": null,
      "grid_column": null,
      "grid_gap": null,
      "grid_row": null,
      "grid_template_areas": null,
      "grid_template_columns": null,
      "grid_template_rows": null,
      "height": null,
      "justify_content": null,
      "justify_items": null,
      "left": null,
      "margin": null,
      "max_height": null,
      "max_width": null,
      "min_height": null,
      "min_width": null,
      "object_fit": null,
      "object_position": null,
      "order": null,
      "overflow": null,
      "overflow_x": null,
      "overflow_y": null,
      "padding": null,
      "right": null,
      "top": null,
      "visibility": null,
      "width": null
     }
    },
    "8901a08b6b6a45c39d0e426f18a77ef8": {
     "model_module": "@jupyter-widgets/controls",
     "model_module_version": "1.5.0",
     "model_name": "ProgressStyleModel",
     "state": {
      "_model_module": "@jupyter-widgets/controls",
      "_model_module_version": "1.5.0",
      "_model_name": "ProgressStyleModel",
      "_view_count": null,
      "_view_module": "@jupyter-widgets/base",
      "_view_module_version": "1.2.0",
      "_view_name": "StyleView",
      "bar_color": null,
      "description_width": ""
     }
    },
    "8bf9144504854fe0b77e2ffdc9373f0d": {
     "model_module": "@jupyter-widgets/controls",
     "model_module_version": "1.5.0",
     "model_name": "HTMLModel",
     "state": {
      "_dom_classes": [],
      "_model_module": "@jupyter-widgets/controls",
      "_model_module_version": "1.5.0",
      "_model_name": "HTMLModel",
      "_view_count": null,
      "_view_module": "@jupyter-widgets/controls",
      "_view_module_version": "1.5.0",
      "_view_name": "HTMLView",
      "description": "",
      "description_tooltip": null,
      "layout": "IPY_MODEL_fd032114b1c44e49bacf9740d587b62a",
      "placeholder": "​",
      "style": "IPY_MODEL_08e578822a94460fb81f339ef9212ffa",
      "value": "Downloading readme: 100%"
     }
    },
    "8c50d6c03ffd45e48644bc5e39af1cdd": {
     "model_module": "@jupyter-widgets/controls",
     "model_module_version": "1.5.0",
     "model_name": "DescriptionStyleModel",
     "state": {
      "_model_module": "@jupyter-widgets/controls",
      "_model_module_version": "1.5.0",
      "_model_name": "DescriptionStyleModel",
      "_view_count": null,
      "_view_module": "@jupyter-widgets/base",
      "_view_module_version": "1.2.0",
      "_view_name": "StyleView",
      "description_width": ""
     }
    },
    "8d55f7103986434399885971e7f6c0c9": {
     "model_module": "@jupyter-widgets/base",
     "model_module_version": "1.2.0",
     "model_name": "LayoutModel",
     "state": {
      "_model_module": "@jupyter-widgets/base",
      "_model_module_version": "1.2.0",
      "_model_name": "LayoutModel",
      "_view_count": null,
      "_view_module": "@jupyter-widgets/base",
      "_view_module_version": "1.2.0",
      "_view_name": "LayoutView",
      "align_content": null,
      "align_items": null,
      "align_self": null,
      "border": null,
      "bottom": null,
      "display": null,
      "flex": null,
      "flex_flow": null,
      "grid_area": null,
      "grid_auto_columns": null,
      "grid_auto_flow": null,
      "grid_auto_rows": null,
      "grid_column": null,
      "grid_gap": null,
      "grid_row": null,
      "grid_template_areas": null,
      "grid_template_columns": null,
      "grid_template_rows": null,
      "height": null,
      "justify_content": null,
      "justify_items": null,
      "left": null,
      "margin": null,
      "max_height": null,
      "max_width": null,
      "min_height": null,
      "min_width": null,
      "object_fit": null,
      "object_position": null,
      "order": null,
      "overflow": null,
      "overflow_x": null,
      "overflow_y": null,
      "padding": null,
      "right": null,
      "top": null,
      "visibility": null,
      "width": null
     }
    },
    "8df3f0d3076c413bacc6574efbfff7f3": {
     "model_module": "@jupyter-widgets/base",
     "model_module_version": "1.2.0",
     "model_name": "LayoutModel",
     "state": {
      "_model_module": "@jupyter-widgets/base",
      "_model_module_version": "1.2.0",
      "_model_name": "LayoutModel",
      "_view_count": null,
      "_view_module": "@jupyter-widgets/base",
      "_view_module_version": "1.2.0",
      "_view_name": "LayoutView",
      "align_content": null,
      "align_items": null,
      "align_self": null,
      "border": null,
      "bottom": null,
      "display": null,
      "flex": null,
      "flex_flow": null,
      "grid_area": null,
      "grid_auto_columns": null,
      "grid_auto_flow": null,
      "grid_auto_rows": null,
      "grid_column": null,
      "grid_gap": null,
      "grid_row": null,
      "grid_template_areas": null,
      "grid_template_columns": null,
      "grid_template_rows": null,
      "height": null,
      "justify_content": null,
      "justify_items": null,
      "left": null,
      "margin": null,
      "max_height": null,
      "max_width": null,
      "min_height": null,
      "min_width": null,
      "object_fit": null,
      "object_position": null,
      "order": null,
      "overflow": null,
      "overflow_x": null,
      "overflow_y": null,
      "padding": null,
      "right": null,
      "top": null,
      "visibility": null,
      "width": null
     }
    },
    "93d64105f66f43d5af46ccb0ce7174a7": {
     "model_module": "@jupyter-widgets/controls",
     "model_module_version": "1.5.0",
     "model_name": "HTMLModel",
     "state": {
      "_dom_classes": [],
      "_model_module": "@jupyter-widgets/controls",
      "_model_module_version": "1.5.0",
      "_model_name": "HTMLModel",
      "_view_count": null,
      "_view_module": "@jupyter-widgets/controls",
      "_view_module_version": "1.5.0",
      "_view_name": "HTMLView",
      "description": "",
      "description_tooltip": null,
      "layout": "IPY_MODEL_5cf7881b925b499690a9c69e3542f83b",
      "placeholder": "​",
      "style": "IPY_MODEL_6ff0be46299f4649b08704cadf17ed41",
      "value": " 10227/10570 [00:01&lt;00:00, 10796.31 examples/s]"
     }
    },
    "975f896bda8c4500b1512b6d51d58b89": {
     "model_module": "@jupyter-widgets/controls",
     "model_module_version": "1.5.0",
     "model_name": "DescriptionStyleModel",
     "state": {
      "_model_module": "@jupyter-widgets/controls",
      "_model_module_version": "1.5.0",
      "_model_name": "DescriptionStyleModel",
      "_view_count": null,
      "_view_module": "@jupyter-widgets/base",
      "_view_module_version": "1.2.0",
      "_view_name": "StyleView",
      "description_width": ""
     }
    },
    "9782dfbc95904b1f900455c2f7d4f771": {
     "model_module": "@jupyter-widgets/controls",
     "model_module_version": "1.5.0",
     "model_name": "HTMLModel",
     "state": {
      "_dom_classes": [],
      "_model_module": "@jupyter-widgets/controls",
      "_model_module_version": "1.5.0",
      "_model_name": "HTMLModel",
      "_view_count": null,
      "_view_module": "@jupyter-widgets/controls",
      "_view_module_version": "1.5.0",
      "_view_name": "HTMLView",
      "description": "",
      "description_tooltip": null,
      "layout": "IPY_MODEL_88ea99c3202d4d07ac52e4b36c4dbe25",
      "placeholder": "​",
      "style": "IPY_MODEL_cf6fff1b90c143dabcfca5f45f7612f2",
      "value": "Generating validation split:  97%"
     }
    },
    "97a598833e30497da31f366d40684d71": {
     "model_module": "@jupyter-widgets/base",
     "model_module_version": "1.2.0",
     "model_name": "LayoutModel",
     "state": {
      "_model_module": "@jupyter-widgets/base",
      "_model_module_version": "1.2.0",
      "_model_name": "LayoutModel",
      "_view_count": null,
      "_view_module": "@jupyter-widgets/base",
      "_view_module_version": "1.2.0",
      "_view_name": "LayoutView",
      "align_content": null,
      "align_items": null,
      "align_self": null,
      "border": null,
      "bottom": null,
      "display": null,
      "flex": null,
      "flex_flow": null,
      "grid_area": null,
      "grid_auto_columns": null,
      "grid_auto_flow": null,
      "grid_auto_rows": null,
      "grid_column": null,
      "grid_gap": null,
      "grid_row": null,
      "grid_template_areas": null,
      "grid_template_columns": null,
      "grid_template_rows": null,
      "height": null,
      "justify_content": null,
      "justify_items": null,
      "left": null,
      "margin": null,
      "max_height": null,
      "max_width": null,
      "min_height": null,
      "min_width": null,
      "object_fit": null,
      "object_position": null,
      "order": null,
      "overflow": null,
      "overflow_x": null,
      "overflow_y": null,
      "padding": null,
      "right": null,
      "top": null,
      "visibility": null,
      "width": null
     }
    },
    "98462bf49e7a49c8aebfcfae3b0dcf28": {
     "model_module": "@jupyter-widgets/base",
     "model_module_version": "1.2.0",
     "model_name": "LayoutModel",
     "state": {
      "_model_module": "@jupyter-widgets/base",
      "_model_module_version": "1.2.0",
      "_model_name": "LayoutModel",
      "_view_count": null,
      "_view_module": "@jupyter-widgets/base",
      "_view_module_version": "1.2.0",
      "_view_name": "LayoutView",
      "align_content": null,
      "align_items": null,
      "align_self": null,
      "border": null,
      "bottom": null,
      "display": null,
      "flex": null,
      "flex_flow": null,
      "grid_area": null,
      "grid_auto_columns": null,
      "grid_auto_flow": null,
      "grid_auto_rows": null,
      "grid_column": null,
      "grid_gap": null,
      "grid_row": null,
      "grid_template_areas": null,
      "grid_template_columns": null,
      "grid_template_rows": null,
      "height": null,
      "justify_content": null,
      "justify_items": null,
      "left": null,
      "margin": null,
      "max_height": null,
      "max_width": null,
      "min_height": null,
      "min_width": null,
      "object_fit": null,
      "object_position": null,
      "order": null,
      "overflow": null,
      "overflow_x": null,
      "overflow_y": null,
      "padding": null,
      "right": null,
      "top": null,
      "visibility": null,
      "width": null
     }
    },
    "a550b3cb34074ea7b25c21e5324a2bf8": {
     "model_module": "@jupyter-widgets/controls",
     "model_module_version": "1.5.0",
     "model_name": "DescriptionStyleModel",
     "state": {
      "_model_module": "@jupyter-widgets/controls",
      "_model_module_version": "1.5.0",
      "_model_name": "DescriptionStyleModel",
      "_view_count": null,
      "_view_module": "@jupyter-widgets/base",
      "_view_module_version": "1.2.0",
      "_view_name": "StyleView",
      "description_width": ""
     }
    },
    "a57d2270ba074691af1c305d3f298eb1": {
     "model_module": "@jupyter-widgets/base",
     "model_module_version": "1.2.0",
     "model_name": "LayoutModel",
     "state": {
      "_model_module": "@jupyter-widgets/base",
      "_model_module_version": "1.2.0",
      "_model_name": "LayoutModel",
      "_view_count": null,
      "_view_module": "@jupyter-widgets/base",
      "_view_module_version": "1.2.0",
      "_view_name": "LayoutView",
      "align_content": null,
      "align_items": null,
      "align_self": null,
      "border": null,
      "bottom": null,
      "display": null,
      "flex": null,
      "flex_flow": null,
      "grid_area": null,
      "grid_auto_columns": null,
      "grid_auto_flow": null,
      "grid_auto_rows": null,
      "grid_column": null,
      "grid_gap": null,
      "grid_row": null,
      "grid_template_areas": null,
      "grid_template_columns": null,
      "grid_template_rows": null,
      "height": null,
      "justify_content": null,
      "justify_items": null,
      "left": null,
      "margin": null,
      "max_height": null,
      "max_width": null,
      "min_height": null,
      "min_width": null,
      "object_fit": null,
      "object_position": null,
      "order": null,
      "overflow": null,
      "overflow_x": null,
      "overflow_y": null,
      "padding": null,
      "right": null,
      "top": null,
      "visibility": null,
      "width": null
     }
    },
    "a6a6a94e5a5843d5a013f0175e2f74c6": {
     "model_module": "@jupyter-widgets/base",
     "model_module_version": "1.2.0",
     "model_name": "LayoutModel",
     "state": {
      "_model_module": "@jupyter-widgets/base",
      "_model_module_version": "1.2.0",
      "_model_name": "LayoutModel",
      "_view_count": null,
      "_view_module": "@jupyter-widgets/base",
      "_view_module_version": "1.2.0",
      "_view_name": "LayoutView",
      "align_content": null,
      "align_items": null,
      "align_self": null,
      "border": null,
      "bottom": null,
      "display": null,
      "flex": null,
      "flex_flow": null,
      "grid_area": null,
      "grid_auto_columns": null,
      "grid_auto_flow": null,
      "grid_auto_rows": null,
      "grid_column": null,
      "grid_gap": null,
      "grid_row": null,
      "grid_template_areas": null,
      "grid_template_columns": null,
      "grid_template_rows": null,
      "height": null,
      "justify_content": null,
      "justify_items": null,
      "left": null,
      "margin": null,
      "max_height": null,
      "max_width": null,
      "min_height": null,
      "min_width": null,
      "object_fit": null,
      "object_position": null,
      "order": null,
      "overflow": null,
      "overflow_x": null,
      "overflow_y": null,
      "padding": null,
      "right": null,
      "top": null,
      "visibility": null,
      "width": null
     }
    },
    "a80901ecfd624502b579b840f1f29ce2": {
     "model_module": "@jupyter-widgets/controls",
     "model_module_version": "1.5.0",
     "model_name": "HTMLModel",
     "state": {
      "_dom_classes": [],
      "_model_module": "@jupyter-widgets/controls",
      "_model_module_version": "1.5.0",
      "_model_name": "HTMLModel",
      "_view_count": null,
      "_view_module": "@jupyter-widgets/controls",
      "_view_module_version": "1.5.0",
      "_view_name": "HTMLView",
      "description": "",
      "description_tooltip": null,
      "layout": "IPY_MODEL_d49cc706540542b19c763bffb247c9fa",
      "placeholder": "​",
      "style": "IPY_MODEL_6cc13b37e5984f3e9aa6cf5c64f56fa5",
      "value": " 30.3M/? [00:00&lt;00:00, 75.0MB/s]"
     }
    },
    "a96f613dbbc44d2098594996cddfbcd5": {
     "model_module": "@jupyter-widgets/base",
     "model_module_version": "1.2.0",
     "model_name": "LayoutModel",
     "state": {
      "_model_module": "@jupyter-widgets/base",
      "_model_module_version": "1.2.0",
      "_model_name": "LayoutModel",
      "_view_count": null,
      "_view_module": "@jupyter-widgets/base",
      "_view_module_version": "1.2.0",
      "_view_name": "LayoutView",
      "align_content": null,
      "align_items": null,
      "align_self": null,
      "border": null,
      "bottom": null,
      "display": null,
      "flex": null,
      "flex_flow": null,
      "grid_area": null,
      "grid_auto_columns": null,
      "grid_auto_flow": null,
      "grid_auto_rows": null,
      "grid_column": null,
      "grid_gap": null,
      "grid_row": null,
      "grid_template_areas": null,
      "grid_template_columns": null,
      "grid_template_rows": null,
      "height": null,
      "justify_content": null,
      "justify_items": null,
      "left": null,
      "margin": null,
      "max_height": null,
      "max_width": null,
      "min_height": null,
      "min_width": null,
      "object_fit": null,
      "object_position": null,
      "order": null,
      "overflow": null,
      "overflow_x": null,
      "overflow_y": null,
      "padding": null,
      "right": null,
      "top": null,
      "visibility": null,
      "width": null
     }
    },
    "ac8fac79b8fd488f93f179e00103a98c": {
     "model_module": "@jupyter-widgets/base",
     "model_module_version": "1.2.0",
     "model_name": "LayoutModel",
     "state": {
      "_model_module": "@jupyter-widgets/base",
      "_model_module_version": "1.2.0",
      "_model_name": "LayoutModel",
      "_view_count": null,
      "_view_module": "@jupyter-widgets/base",
      "_view_module_version": "1.2.0",
      "_view_name": "LayoutView",
      "align_content": null,
      "align_items": null,
      "align_self": null,
      "border": null,
      "bottom": null,
      "display": null,
      "flex": null,
      "flex_flow": null,
      "grid_area": null,
      "grid_auto_columns": null,
      "grid_auto_flow": null,
      "grid_auto_rows": null,
      "grid_column": null,
      "grid_gap": null,
      "grid_row": null,
      "grid_template_areas": null,
      "grid_template_columns": null,
      "grid_template_rows": null,
      "height": null,
      "justify_content": null,
      "justify_items": null,
      "left": null,
      "margin": null,
      "max_height": null,
      "max_width": null,
      "min_height": null,
      "min_width": null,
      "object_fit": null,
      "object_position": null,
      "order": null,
      "overflow": null,
      "overflow_x": null,
      "overflow_y": null,
      "padding": null,
      "right": null,
      "top": null,
      "visibility": null,
      "width": null
     }
    },
    "aca16d6be5b24b6d9874adb85d3f0b1f": {
     "model_module": "@jupyter-widgets/controls",
     "model_module_version": "1.5.0",
     "model_name": "HBoxModel",
     "state": {
      "_dom_classes": [],
      "_model_module": "@jupyter-widgets/controls",
      "_model_module_version": "1.5.0",
      "_model_name": "HBoxModel",
      "_view_count": null,
      "_view_module": "@jupyter-widgets/controls",
      "_view_module_version": "1.5.0",
      "_view_name": "HBoxView",
      "box_style": "",
      "children": [
       "IPY_MODEL_f999da726cc64ee2ad0c0d1803023155",
       "IPY_MODEL_3dd65fcc82c844cb916568d7af241228",
       "IPY_MODEL_6c3bfa374d824f188b38d734db11b37d"
      ],
      "layout": "IPY_MODEL_a6a6a94e5a5843d5a013f0175e2f74c6"
     }
    },
    "ad1e62ef99e349cca63ae3e5b13b05e6": {
     "model_module": "@jupyter-widgets/controls",
     "model_module_version": "1.5.0",
     "model_name": "HTMLModel",
     "state": {
      "_dom_classes": [],
      "_model_module": "@jupyter-widgets/controls",
      "_model_module_version": "1.5.0",
      "_model_name": "HTMLModel",
      "_view_count": null,
      "_view_module": "@jupyter-widgets/controls",
      "_view_module_version": "1.5.0",
      "_view_name": "HTMLView",
      "description": "",
      "description_tooltip": null,
      "layout": "IPY_MODEL_5fb8982ba9b841f09c86706896748229",
      "placeholder": "​",
      "style": "IPY_MODEL_cdb36d90baaa45cbb8d8cfd8fce0aead",
      "value": "Downloading data: "
     }
    },
    "af78682e5a9a489fbca859906d6048be": {
     "model_module": "@jupyter-widgets/controls",
     "model_module_version": "1.5.0",
     "model_name": "ProgressStyleModel",
     "state": {
      "_model_module": "@jupyter-widgets/controls",
      "_model_module_version": "1.5.0",
      "_model_name": "ProgressStyleModel",
      "_view_count": null,
      "_view_module": "@jupyter-widgets/base",
      "_view_module_version": "1.2.0",
      "_view_name": "StyleView",
      "bar_color": null,
      "description_width": ""
     }
    },
    "af7e60c53f84457d9177c750c148f8fc": {
     "model_module": "@jupyter-widgets/controls",
     "model_module_version": "1.5.0",
     "model_name": "FloatProgressModel",
     "state": {
      "_dom_classes": [],
      "_model_module": "@jupyter-widgets/controls",
      "_model_module_version": "1.5.0",
      "_model_name": "FloatProgressModel",
      "_view_count": null,
      "_view_module": "@jupyter-widgets/controls",
      "_view_module_version": "1.5.0",
      "_view_name": "ProgressView",
      "bar_style": "success",
      "description": "",
      "description_tooltip": null,
      "layout": "IPY_MODEL_ac8fac79b8fd488f93f179e00103a98c",
      "max": 2,
      "min": 0,
      "orientation": "horizontal",
      "style": "IPY_MODEL_87e03d8905994d5ba7c5365f440f33a4",
      "value": 2
     }
    },
    "afd8b7ac01754a4e8b7c9135dc88c17a": {
     "model_module": "@jupyter-widgets/base",
     "model_module_version": "1.2.0",
     "model_name": "LayoutModel",
     "state": {
      "_model_module": "@jupyter-widgets/base",
      "_model_module_version": "1.2.0",
      "_model_name": "LayoutModel",
      "_view_count": null,
      "_view_module": "@jupyter-widgets/base",
      "_view_module_version": "1.2.0",
      "_view_name": "LayoutView",
      "align_content": null,
      "align_items": null,
      "align_self": null,
      "border": null,
      "bottom": null,
      "display": null,
      "flex": null,
      "flex_flow": null,
      "grid_area": null,
      "grid_auto_columns": null,
      "grid_auto_flow": null,
      "grid_auto_rows": null,
      "grid_column": null,
      "grid_gap": null,
      "grid_row": null,
      "grid_template_areas": null,
      "grid_template_columns": null,
      "grid_template_rows": null,
      "height": null,
      "justify_content": null,
      "justify_items": null,
      "left": null,
      "margin": null,
      "max_height": null,
      "max_width": null,
      "min_height": null,
      "min_width": null,
      "object_fit": null,
      "object_position": null,
      "order": null,
      "overflow": null,
      "overflow_x": null,
      "overflow_y": null,
      "padding": null,
      "right": null,
      "top": null,
      "visibility": null,
      "width": null
     }
    },
    "b1722e6484c1404c9bb8d0df6423b0c1": {
     "model_module": "@jupyter-widgets/controls",
     "model_module_version": "1.5.0",
     "model_name": "HBoxModel",
     "state": {
      "_dom_classes": [],
      "_model_module": "@jupyter-widgets/controls",
      "_model_module_version": "1.5.0",
      "_model_name": "HBoxModel",
      "_view_count": null,
      "_view_module": "@jupyter-widgets/controls",
      "_view_module_version": "1.5.0",
      "_view_name": "HBoxView",
      "box_style": "",
      "children": [
       "IPY_MODEL_77de4bceb4ed48ec92c9c46304cbba3b",
       "IPY_MODEL_2c1a4962da6a4d568fedc29940af5970",
       "IPY_MODEL_5a725c87060d4cec939ab83c3bfef968"
      ],
      "layout": "IPY_MODEL_0e36c3a84bd543c9ac24985c51ed8889"
     }
    },
    "b47f1a4fc44342558aa8bfb494544a5a": {
     "model_module": "@jupyter-widgets/base",
     "model_module_version": "1.2.0",
     "model_name": "LayoutModel",
     "state": {
      "_model_module": "@jupyter-widgets/base",
      "_model_module_version": "1.2.0",
      "_model_name": "LayoutModel",
      "_view_count": null,
      "_view_module": "@jupyter-widgets/base",
      "_view_module_version": "1.2.0",
      "_view_name": "LayoutView",
      "align_content": null,
      "align_items": null,
      "align_self": null,
      "border": null,
      "bottom": null,
      "display": null,
      "flex": null,
      "flex_flow": null,
      "grid_area": null,
      "grid_auto_columns": null,
      "grid_auto_flow": null,
      "grid_auto_rows": null,
      "grid_column": null,
      "grid_gap": null,
      "grid_row": null,
      "grid_template_areas": null,
      "grid_template_columns": null,
      "grid_template_rows": null,
      "height": null,
      "justify_content": null,
      "justify_items": null,
      "left": null,
      "margin": null,
      "max_height": null,
      "max_width": null,
      "min_height": null,
      "min_width": null,
      "object_fit": null,
      "object_position": null,
      "order": null,
      "overflow": null,
      "overflow_x": null,
      "overflow_y": null,
      "padding": null,
      "right": null,
      "top": null,
      "visibility": null,
      "width": null
     }
    },
    "b581b3c5ea1543e4a4b602d5c23641b4": {
     "model_module": "@jupyter-widgets/base",
     "model_module_version": "1.2.0",
     "model_name": "LayoutModel",
     "state": {
      "_model_module": "@jupyter-widgets/base",
      "_model_module_version": "1.2.0",
      "_model_name": "LayoutModel",
      "_view_count": null,
      "_view_module": "@jupyter-widgets/base",
      "_view_module_version": "1.2.0",
      "_view_name": "LayoutView",
      "align_content": null,
      "align_items": null,
      "align_self": null,
      "border": null,
      "bottom": null,
      "display": null,
      "flex": null,
      "flex_flow": null,
      "grid_area": null,
      "grid_auto_columns": null,
      "grid_auto_flow": null,
      "grid_auto_rows": null,
      "grid_column": null,
      "grid_gap": null,
      "grid_row": null,
      "grid_template_areas": null,
      "grid_template_columns": null,
      "grid_template_rows": null,
      "height": null,
      "justify_content": null,
      "justify_items": null,
      "left": null,
      "margin": null,
      "max_height": null,
      "max_width": null,
      "min_height": null,
      "min_width": null,
      "object_fit": null,
      "object_position": null,
      "order": null,
      "overflow": null,
      "overflow_x": null,
      "overflow_y": null,
      "padding": null,
      "right": null,
      "top": null,
      "visibility": null,
      "width": null
     }
    },
    "b5d4154dd21d44b98be6fa80d4cce1a0": {
     "model_module": "@jupyter-widgets/controls",
     "model_module_version": "1.5.0",
     "model_name": "DescriptionStyleModel",
     "state": {
      "_model_module": "@jupyter-widgets/controls",
      "_model_module_version": "1.5.0",
      "_model_name": "DescriptionStyleModel",
      "_view_count": null,
      "_view_module": "@jupyter-widgets/base",
      "_view_module_version": "1.2.0",
      "_view_name": "StyleView",
      "description_width": ""
     }
    },
    "bcf07c2dd1874dfe87da6f05fb3cfe9e": {
     "model_module": "@jupyter-widgets/base",
     "model_module_version": "1.2.0",
     "model_name": "LayoutModel",
     "state": {
      "_model_module": "@jupyter-widgets/base",
      "_model_module_version": "1.2.0",
      "_model_name": "LayoutModel",
      "_view_count": null,
      "_view_module": "@jupyter-widgets/base",
      "_view_module_version": "1.2.0",
      "_view_name": "LayoutView",
      "align_content": null,
      "align_items": null,
      "align_self": null,
      "border": null,
      "bottom": null,
      "display": null,
      "flex": null,
      "flex_flow": null,
      "grid_area": null,
      "grid_auto_columns": null,
      "grid_auto_flow": null,
      "grid_auto_rows": null,
      "grid_column": null,
      "grid_gap": null,
      "grid_row": null,
      "grid_template_areas": null,
      "grid_template_columns": null,
      "grid_template_rows": null,
      "height": null,
      "justify_content": null,
      "justify_items": null,
      "left": null,
      "margin": null,
      "max_height": null,
      "max_width": null,
      "min_height": null,
      "min_width": null,
      "object_fit": null,
      "object_position": null,
      "order": null,
      "overflow": null,
      "overflow_x": null,
      "overflow_y": null,
      "padding": null,
      "right": null,
      "top": null,
      "visibility": null,
      "width": null
     }
    },
    "bf52da97978b44b8ae9c360c45453f05": {
     "model_module": "@jupyter-widgets/controls",
     "model_module_version": "1.5.0",
     "model_name": "DescriptionStyleModel",
     "state": {
      "_model_module": "@jupyter-widgets/controls",
      "_model_module_version": "1.5.0",
      "_model_name": "DescriptionStyleModel",
      "_view_count": null,
      "_view_module": "@jupyter-widgets/base",
      "_view_module_version": "1.2.0",
      "_view_name": "StyleView",
      "description_width": ""
     }
    },
    "c02b4e5c26c44712878859ae6e45d2b1": {
     "model_module": "@jupyter-widgets/controls",
     "model_module_version": "1.5.0",
     "model_name": "DescriptionStyleModel",
     "state": {
      "_model_module": "@jupyter-widgets/controls",
      "_model_module_version": "1.5.0",
      "_model_name": "DescriptionStyleModel",
      "_view_count": null,
      "_view_module": "@jupyter-widgets/base",
      "_view_module_version": "1.2.0",
      "_view_name": "StyleView",
      "description_width": ""
     }
    },
    "c18aa8f12a14484c860b5390d8913f15": {
     "model_module": "@jupyter-widgets/controls",
     "model_module_version": "1.5.0",
     "model_name": "HBoxModel",
     "state": {
      "_dom_classes": [],
      "_model_module": "@jupyter-widgets/controls",
      "_model_module_version": "1.5.0",
      "_model_name": "HBoxModel",
      "_view_count": null,
      "_view_module": "@jupyter-widgets/controls",
      "_view_module_version": "1.5.0",
      "_view_name": "HBoxView",
      "box_style": "",
      "children": [
       "IPY_MODEL_5ade2fce595749c5bd3bce75d14729e3",
       "IPY_MODEL_ece00ca43e3d41dab3a76bf712484464",
       "IPY_MODEL_7bb2bf25d2ec4d8b9bf19a5ff8f0c3fd"
      ],
      "layout": "IPY_MODEL_5705d2cfbdcc469eb9cd489e1b85cd65"
     }
    },
    "c5c46f10bc99481b9f9fbce1fb850f2f": {
     "model_module": "@jupyter-widgets/controls",
     "model_module_version": "1.5.0",
     "model_name": "FloatProgressModel",
     "state": {
      "_dom_classes": [],
      "_model_module": "@jupyter-widgets/controls",
      "_model_module_version": "1.5.0",
      "_model_name": "FloatProgressModel",
      "_view_count": null,
      "_view_module": "@jupyter-widgets/controls",
      "_view_module_version": "1.5.0",
      "_view_name": "ProgressView",
      "bar_style": "success",
      "description": "",
      "description_tooltip": null,
      "layout": "IPY_MODEL_a57d2270ba074691af1c305d3f298eb1",
      "max": 7665,
      "min": 0,
      "orientation": "horizontal",
      "style": "IPY_MODEL_ff54fc4bcf5745be936ca3ed2d6f3b02",
      "value": 7665
     }
    },
    "c944d67837934d8b84961b5488a13af3": {
     "model_module": "@jupyter-widgets/controls",
     "model_module_version": "1.5.0",
     "model_name": "FloatProgressModel",
     "state": {
      "_dom_classes": [],
      "_model_module": "@jupyter-widgets/controls",
      "_model_module_version": "1.5.0",
      "_model_name": "FloatProgressModel",
      "_view_count": null,
      "_view_module": "@jupyter-widgets/controls",
      "_view_module_version": "1.5.0",
      "_view_name": "ProgressView",
      "bar_style": "success",
      "description": "",
      "description_tooltip": null,
      "layout": "IPY_MODEL_db1430405e754bec88ed98ae0054ff74",
      "max": 2,
      "min": 0,
      "orientation": "horizontal",
      "style": "IPY_MODEL_af78682e5a9a489fbca859906d6048be",
      "value": 2
     }
    },
    "cdb36d90baaa45cbb8d8cfd8fce0aead": {
     "model_module": "@jupyter-widgets/controls",
     "model_module_version": "1.5.0",
     "model_name": "DescriptionStyleModel",
     "state": {
      "_model_module": "@jupyter-widgets/controls",
      "_model_module_version": "1.5.0",
      "_model_name": "DescriptionStyleModel",
      "_view_count": null,
      "_view_module": "@jupyter-widgets/base",
      "_view_module_version": "1.2.0",
      "_view_name": "StyleView",
      "description_width": ""
     }
    },
    "ced6ec11ab6d471f9c2c2d52e53aaea4": {
     "model_module": "@jupyter-widgets/controls",
     "model_module_version": "1.5.0",
     "model_name": "HTMLModel",
     "state": {
      "_dom_classes": [],
      "_model_module": "@jupyter-widgets/controls",
      "_model_module_version": "1.5.0",
      "_model_name": "HTMLModel",
      "_view_count": null,
      "_view_module": "@jupyter-widgets/controls",
      "_view_module_version": "1.5.0",
      "_view_name": "HTMLView",
      "description": "",
      "description_tooltip": null,
      "layout": "IPY_MODEL_98462bf49e7a49c8aebfcfae3b0dcf28",
      "placeholder": "​",
      "style": "IPY_MODEL_e10e9e2aae864a909bedc72bde9432dd",
      "value": " 2/2 [00:00&lt;00:00, 87.85it/s]"
     }
    },
    "cf6fff1b90c143dabcfca5f45f7612f2": {
     "model_module": "@jupyter-widgets/controls",
     "model_module_version": "1.5.0",
     "model_name": "DescriptionStyleModel",
     "state": {
      "_model_module": "@jupyter-widgets/controls",
      "_model_module_version": "1.5.0",
      "_model_name": "DescriptionStyleModel",
      "_view_count": null,
      "_view_module": "@jupyter-widgets/base",
      "_view_module_version": "1.2.0",
      "_view_name": "StyleView",
      "description_width": ""
     }
    },
    "d49cc706540542b19c763bffb247c9fa": {
     "model_module": "@jupyter-widgets/base",
     "model_module_version": "1.2.0",
     "model_name": "LayoutModel",
     "state": {
      "_model_module": "@jupyter-widgets/base",
      "_model_module_version": "1.2.0",
      "_model_name": "LayoutModel",
      "_view_count": null,
      "_view_module": "@jupyter-widgets/base",
      "_view_module_version": "1.2.0",
      "_view_name": "LayoutView",
      "align_content": null,
      "align_items": null,
      "align_self": null,
      "border": null,
      "bottom": null,
      "display": null,
      "flex": null,
      "flex_flow": null,
      "grid_area": null,
      "grid_auto_columns": null,
      "grid_auto_flow": null,
      "grid_auto_rows": null,
      "grid_column": null,
      "grid_gap": null,
      "grid_row": null,
      "grid_template_areas": null,
      "grid_template_columns": null,
      "grid_template_rows": null,
      "height": null,
      "justify_content": null,
      "justify_items": null,
      "left": null,
      "margin": null,
      "max_height": null,
      "max_width": null,
      "min_height": null,
      "min_width": null,
      "object_fit": null,
      "object_position": null,
      "order": null,
      "overflow": null,
      "overflow_x": null,
      "overflow_y": null,
      "padding": null,
      "right": null,
      "top": null,
      "visibility": null,
      "width": null
     }
    },
    "db1430405e754bec88ed98ae0054ff74": {
     "model_module": "@jupyter-widgets/base",
     "model_module_version": "1.2.0",
     "model_name": "LayoutModel",
     "state": {
      "_model_module": "@jupyter-widgets/base",
      "_model_module_version": "1.2.0",
      "_model_name": "LayoutModel",
      "_view_count": null,
      "_view_module": "@jupyter-widgets/base",
      "_view_module_version": "1.2.0",
      "_view_name": "LayoutView",
      "align_content": null,
      "align_items": null,
      "align_self": null,
      "border": null,
      "bottom": null,
      "display": null,
      "flex": null,
      "flex_flow": null,
      "grid_area": null,
      "grid_auto_columns": null,
      "grid_auto_flow": null,
      "grid_auto_rows": null,
      "grid_column": null,
      "grid_gap": null,
      "grid_row": null,
      "grid_template_areas": null,
      "grid_template_columns": null,
      "grid_template_rows": null,
      "height": null,
      "justify_content": null,
      "justify_items": null,
      "left": null,
      "margin": null,
      "max_height": null,
      "max_width": null,
      "min_height": null,
      "min_width": null,
      "object_fit": null,
      "object_position": null,
      "order": null,
      "overflow": null,
      "overflow_x": null,
      "overflow_y": null,
      "padding": null,
      "right": null,
      "top": null,
      "visibility": null,
      "width": null
     }
    },
    "dcfb7314aae74bb8a2522271c8676d54": {
     "model_module": "@jupyter-widgets/base",
     "model_module_version": "1.2.0",
     "model_name": "LayoutModel",
     "state": {
      "_model_module": "@jupyter-widgets/base",
      "_model_module_version": "1.2.0",
      "_model_name": "LayoutModel",
      "_view_count": null,
      "_view_module": "@jupyter-widgets/base",
      "_view_module_version": "1.2.0",
      "_view_name": "LayoutView",
      "align_content": null,
      "align_items": null,
      "align_self": null,
      "border": null,
      "bottom": null,
      "display": null,
      "flex": null,
      "flex_flow": null,
      "grid_area": null,
      "grid_auto_columns": null,
      "grid_auto_flow": null,
      "grid_auto_rows": null,
      "grid_column": null,
      "grid_gap": null,
      "grid_row": null,
      "grid_template_areas": null,
      "grid_template_columns": null,
      "grid_template_rows": null,
      "height": null,
      "justify_content": null,
      "justify_items": null,
      "left": null,
      "margin": null,
      "max_height": null,
      "max_width": null,
      "min_height": null,
      "min_width": null,
      "object_fit": null,
      "object_position": null,
      "order": null,
      "overflow": null,
      "overflow_x": null,
      "overflow_y": null,
      "padding": null,
      "right": null,
      "top": null,
      "visibility": null,
      "width": null
     }
    },
    "df0c8257e64e4df29e3914c0729e016d": {
     "model_module": "@jupyter-widgets/controls",
     "model_module_version": "1.5.0",
     "model_name": "FloatProgressModel",
     "state": {
      "_dom_classes": [],
      "_model_module": "@jupyter-widgets/controls",
      "_model_module_version": "1.5.0",
      "_model_name": "FloatProgressModel",
      "_view_count": null,
      "_view_module": "@jupyter-widgets/controls",
      "_view_module_version": "1.5.0",
      "_view_name": "ProgressView",
      "bar_style": "",
      "description": "",
      "description_tooltip": null,
      "layout": "IPY_MODEL_5cba4bec397e404eaafea01a08ef0fc7",
      "max": 10570,
      "min": 0,
      "orientation": "horizontal",
      "style": "IPY_MODEL_8901a08b6b6a45c39d0e426f18a77ef8",
      "value": 10570
     }
    },
    "dfa53507de114dc49c005ea1be627cdb": {
     "model_module": "@jupyter-widgets/controls",
     "model_module_version": "1.5.0",
     "model_name": "HTMLModel",
     "state": {
      "_dom_classes": [],
      "_model_module": "@jupyter-widgets/controls",
      "_model_module_version": "1.5.0",
      "_model_name": "HTMLModel",
      "_view_count": null,
      "_view_module": "@jupyter-widgets/controls",
      "_view_module_version": "1.5.0",
      "_view_name": "HTMLView",
      "description": "",
      "description_tooltip": null,
      "layout": "IPY_MODEL_b47f1a4fc44342558aa8bfb494544a5a",
      "placeholder": "​",
      "style": "IPY_MODEL_bf52da97978b44b8ae9c360c45453f05",
      "value": "Downloading data files: 100%"
     }
    },
    "dff8dc9111694b2e8672e8640363554a": {
     "model_module": "@jupyter-widgets/base",
     "model_module_version": "1.2.0",
     "model_name": "LayoutModel",
     "state": {
      "_model_module": "@jupyter-widgets/base",
      "_model_module_version": "1.2.0",
      "_model_name": "LayoutModel",
      "_view_count": null,
      "_view_module": "@jupyter-widgets/base",
      "_view_module_version": "1.2.0",
      "_view_name": "LayoutView",
      "align_content": null,
      "align_items": null,
      "align_self": null,
      "border": null,
      "bottom": null,
      "display": null,
      "flex": null,
      "flex_flow": null,
      "grid_area": null,
      "grid_auto_columns": null,
      "grid_auto_flow": null,
      "grid_auto_rows": null,
      "grid_column": null,
      "grid_gap": null,
      "grid_row": null,
      "grid_template_areas": null,
      "grid_template_columns": null,
      "grid_template_rows": null,
      "height": null,
      "justify_content": null,
      "justify_items": null,
      "left": null,
      "margin": null,
      "max_height": null,
      "max_width": null,
      "min_height": null,
      "min_width": null,
      "object_fit": null,
      "object_position": null,
      "order": null,
      "overflow": null,
      "overflow_x": null,
      "overflow_y": null,
      "padding": null,
      "right": null,
      "top": null,
      "visibility": null,
      "width": null
     }
    },
    "e08998ac19f04d13ab309c363ed3e501": {
     "model_module": "@jupyter-widgets/controls",
     "model_module_version": "1.5.0",
     "model_name": "ProgressStyleModel",
     "state": {
      "_model_module": "@jupyter-widgets/controls",
      "_model_module_version": "1.5.0",
      "_model_name": "ProgressStyleModel",
      "_view_count": null,
      "_view_module": "@jupyter-widgets/base",
      "_view_module_version": "1.2.0",
      "_view_name": "StyleView",
      "bar_color": null,
      "description_width": ""
     }
    },
    "e10e9e2aae864a909bedc72bde9432dd": {
     "model_module": "@jupyter-widgets/controls",
     "model_module_version": "1.5.0",
     "model_name": "DescriptionStyleModel",
     "state": {
      "_model_module": "@jupyter-widgets/controls",
      "_model_module_version": "1.5.0",
      "_model_name": "DescriptionStyleModel",
      "_view_count": null,
      "_view_module": "@jupyter-widgets/base",
      "_view_module_version": "1.2.0",
      "_view_name": "StyleView",
      "description_width": ""
     }
    },
    "e48cbef7b50743488e4f44d344229ce6": {
     "model_module": "@jupyter-widgets/base",
     "model_module_version": "1.2.0",
     "model_name": "LayoutModel",
     "state": {
      "_model_module": "@jupyter-widgets/base",
      "_model_module_version": "1.2.0",
      "_model_name": "LayoutModel",
      "_view_count": null,
      "_view_module": "@jupyter-widgets/base",
      "_view_module_version": "1.2.0",
      "_view_name": "LayoutView",
      "align_content": null,
      "align_items": null,
      "align_self": null,
      "border": null,
      "bottom": null,
      "display": null,
      "flex": null,
      "flex_flow": null,
      "grid_area": null,
      "grid_auto_columns": null,
      "grid_auto_flow": null,
      "grid_auto_rows": null,
      "grid_column": null,
      "grid_gap": null,
      "grid_row": null,
      "grid_template_areas": null,
      "grid_template_columns": null,
      "grid_template_rows": null,
      "height": null,
      "justify_content": null,
      "justify_items": null,
      "left": null,
      "margin": null,
      "max_height": null,
      "max_width": null,
      "min_height": null,
      "min_width": null,
      "object_fit": null,
      "object_position": null,
      "order": null,
      "overflow": null,
      "overflow_x": null,
      "overflow_y": null,
      "padding": null,
      "right": null,
      "top": null,
      "visibility": null,
      "width": null
     }
    },
    "e6781f78709d4e699aabcf3a4278761d": {
     "model_module": "@jupyter-widgets/base",
     "model_module_version": "1.2.0",
     "model_name": "LayoutModel",
     "state": {
      "_model_module": "@jupyter-widgets/base",
      "_model_module_version": "1.2.0",
      "_model_name": "LayoutModel",
      "_view_count": null,
      "_view_module": "@jupyter-widgets/base",
      "_view_module_version": "1.2.0",
      "_view_name": "LayoutView",
      "align_content": null,
      "align_items": null,
      "align_self": null,
      "border": null,
      "bottom": null,
      "display": null,
      "flex": null,
      "flex_flow": null,
      "grid_area": null,
      "grid_auto_columns": null,
      "grid_auto_flow": null,
      "grid_auto_rows": null,
      "grid_column": null,
      "grid_gap": null,
      "grid_row": null,
      "grid_template_areas": null,
      "grid_template_columns": null,
      "grid_template_rows": null,
      "height": null,
      "justify_content": null,
      "justify_items": null,
      "left": null,
      "margin": null,
      "max_height": null,
      "max_width": null,
      "min_height": null,
      "min_width": null,
      "object_fit": null,
      "object_position": null,
      "order": null,
      "overflow": null,
      "overflow_x": null,
      "overflow_y": null,
      "padding": null,
      "right": null,
      "top": null,
      "visibility": null,
      "width": null
     }
    },
    "ece00ca43e3d41dab3a76bf712484464": {
     "model_module": "@jupyter-widgets/controls",
     "model_module_version": "1.5.0",
     "model_name": "FloatProgressModel",
     "state": {
      "_dom_classes": [],
      "_model_module": "@jupyter-widgets/controls",
      "_model_module_version": "1.5.0",
      "_model_name": "FloatProgressModel",
      "_view_count": null,
      "_view_module": "@jupyter-widgets/controls",
      "_view_module_version": "1.5.0",
      "_view_name": "ProgressView",
      "bar_style": "success",
      "description": "",
      "description_tooltip": null,
      "layout": "IPY_MODEL_77cb6788ea7b48749efc03ceac8012e4",
      "max": 5274,
      "min": 0,
      "orientation": "horizontal",
      "style": "IPY_MODEL_373c800cb7d04c809fb6ccb4a62bf136",
      "value": 5274
     }
    },
    "f08bd3a847784cbc88109d988020e145": {
     "model_module": "@jupyter-widgets/controls",
     "model_module_version": "1.5.0",
     "model_name": "HBoxModel",
     "state": {
      "_dom_classes": [],
      "_model_module": "@jupyter-widgets/controls",
      "_model_module_version": "1.5.0",
      "_model_name": "HBoxModel",
      "_view_count": null,
      "_view_module": "@jupyter-widgets/controls",
      "_view_module_version": "1.5.0",
      "_view_name": "HBoxView",
      "box_style": "",
      "children": [
       "IPY_MODEL_9782dfbc95904b1f900455c2f7d4f771",
       "IPY_MODEL_df0c8257e64e4df29e3914c0729e016d",
       "IPY_MODEL_93d64105f66f43d5af46ccb0ce7174a7"
      ],
      "layout": "IPY_MODEL_8834b8abc33d48d790df1bb9119cf1ca"
     }
    },
    "f2aff0ce571b47fa86cb83b5d2782663": {
     "model_module": "@jupyter-widgets/controls",
     "model_module_version": "1.5.0",
     "model_name": "DescriptionStyleModel",
     "state": {
      "_model_module": "@jupyter-widgets/controls",
      "_model_module_version": "1.5.0",
      "_model_name": "DescriptionStyleModel",
      "_view_count": null,
      "_view_module": "@jupyter-widgets/base",
      "_view_module_version": "1.2.0",
      "_view_name": "StyleView",
      "description_width": ""
     }
    },
    "f2b99e88439e492c9fbb2224aaadcefb": {
     "model_module": "@jupyter-widgets/controls",
     "model_module_version": "1.5.0",
     "model_name": "FloatProgressModel",
     "state": {
      "_dom_classes": [],
      "_model_module": "@jupyter-widgets/controls",
      "_model_module_version": "1.5.0",
      "_model_name": "FloatProgressModel",
      "_view_count": null,
      "_view_module": "@jupyter-widgets/controls",
      "_view_module_version": "1.5.0",
      "_view_name": "ProgressView",
      "bar_style": "success",
      "description": "",
      "description_tooltip": null,
      "layout": "IPY_MODEL_dff8dc9111694b2e8672e8640363554a",
      "max": 8116577,
      "min": 0,
      "orientation": "horizontal",
      "style": "IPY_MODEL_e08998ac19f04d13ab309c363ed3e501",
      "value": 8116577
     }
    },
    "f853ea5678cf4820ac366d3a5689354b": {
     "model_module": "@jupyter-widgets/controls",
     "model_module_version": "1.5.0",
     "model_name": "DescriptionStyleModel",
     "state": {
      "_model_module": "@jupyter-widgets/controls",
      "_model_module_version": "1.5.0",
      "_model_name": "DescriptionStyleModel",
      "_view_count": null,
      "_view_module": "@jupyter-widgets/base",
      "_view_module_version": "1.2.0",
      "_view_name": "StyleView",
      "description_width": ""
     }
    },
    "f999da726cc64ee2ad0c0d1803023155": {
     "model_module": "@jupyter-widgets/controls",
     "model_module_version": "1.5.0",
     "model_name": "HTMLModel",
     "state": {
      "_dom_classes": [],
      "_model_module": "@jupyter-widgets/controls",
      "_model_module_version": "1.5.0",
      "_model_name": "HTMLModel",
      "_view_count": null,
      "_view_module": "@jupyter-widgets/controls",
      "_view_module_version": "1.5.0",
      "_view_name": "HTMLView",
      "description": "",
      "description_tooltip": null,
      "layout": "IPY_MODEL_97a598833e30497da31f366d40684d71",
      "placeholder": "​",
      "style": "IPY_MODEL_8c50d6c03ffd45e48644bc5e39af1cdd",
      "value": "Downloading data: "
     }
    },
    "fd032114b1c44e49bacf9740d587b62a": {
     "model_module": "@jupyter-widgets/base",
     "model_module_version": "1.2.0",
     "model_name": "LayoutModel",
     "state": {
      "_model_module": "@jupyter-widgets/base",
      "_model_module_version": "1.2.0",
      "_model_name": "LayoutModel",
      "_view_count": null,
      "_view_module": "@jupyter-widgets/base",
      "_view_module_version": "1.2.0",
      "_view_name": "LayoutView",
      "align_content": null,
      "align_items": null,
      "align_self": null,
      "border": null,
      "bottom": null,
      "display": null,
      "flex": null,
      "flex_flow": null,
      "grid_area": null,
      "grid_auto_columns": null,
      "grid_auto_flow": null,
      "grid_auto_rows": null,
      "grid_column": null,
      "grid_gap": null,
      "grid_row": null,
      "grid_template_areas": null,
      "grid_template_columns": null,
      "grid_template_rows": null,
      "height": null,
      "justify_content": null,
      "justify_items": null,
      "left": null,
      "margin": null,
      "max_height": null,
      "max_width": null,
      "min_height": null,
      "min_width": null,
      "object_fit": null,
      "object_position": null,
      "order": null,
      "overflow": null,
      "overflow_x": null,
      "overflow_y": null,
      "padding": null,
      "right": null,
      "top": null,
      "visibility": null,
      "width": null
     }
    },
    "ff54fc4bcf5745be936ca3ed2d6f3b02": {
     "model_module": "@jupyter-widgets/controls",
     "model_module_version": "1.5.0",
     "model_name": "ProgressStyleModel",
     "state": {
      "_model_module": "@jupyter-widgets/controls",
      "_model_module_version": "1.5.0",
      "_model_name": "ProgressStyleModel",
      "_view_count": null,
      "_view_module": "@jupyter-widgets/base",
      "_view_module_version": "1.2.0",
      "_view_name": "StyleView",
      "bar_color": null,
      "description_width": ""
     }
    }
   }
  }
 },
 "nbformat": 4,
 "nbformat_minor": 1
}
